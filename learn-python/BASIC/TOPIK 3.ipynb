{
 "cells": [
  {
   "cell_type": "markdown",
   "id": "0b6ab6aa",
   "metadata": {},
   "source": [
    "# Condition and Basic exception"
   ]
  },
  {
   "cell_type": "code",
   "execution_count": 1,
   "id": "56aae8f1",
   "metadata": {},
   "outputs": [
    {
     "name": "stdout",
     "output_type": "stream",
     "text": [
      "silahkan bikin ktp\n"
     ]
    }
   ],
   "source": [
    "age = 18\n",
    "\n",
    "if age < 17 :\n",
    "    print('anda belum memnuhi')\n",
    "else:\n",
    "    print('silahkan bikin ktp')"
   ]
  },
  {
   "cell_type": "code",
   "execution_count": 2,
   "id": "28596563",
   "metadata": {},
   "outputs": [
    {
     "data": {
      "text/plain": [
       "True"
      ]
     },
     "execution_count": 2,
     "metadata": {},
     "output_type": "execute_result"
    }
   ],
   "source": [
    "def is_memenuhi(age):\n",
    "    return age >= 17\n",
    "\n",
    "is_memenuhi(18)"
   ]
  },
  {
   "cell_type": "code",
   "execution_count": 3,
   "id": "f7e1155e",
   "metadata": {},
   "outputs": [
    {
     "name": "stdout",
     "output_type": "stream",
     "text": [
      "berhenti\n"
     ]
    }
   ],
   "source": [
    "lampu = 'merah'\n",
    "\n",
    "if lampu =='hijau':\n",
    "    print('jalan')\n",
    "elif lampu == 'merah':\n",
    "    print('berhenti')\n",
    "elif lampu == 'kuning':\n",
    "    print('hati-hati')\n",
    "else:\n",
    "    print('inputan invalid')"
   ]
  },
  {
   "cell_type": "code",
   "execution_count": 4,
   "id": "aeae62bd",
   "metadata": {},
   "outputs": [
    {
     "name": "stdout",
     "output_type": "stream",
     "text": [
      "masukan nama mu : 21\n",
      "masukan umur: 21\n",
      "hallo 21\n",
      "tahun lahirmu 2002\n"
     ]
    }
   ],
   "source": [
    "#try except expressions\n",
    "name = input('masukan nama mu : ')\n",
    "try:\n",
    "    age = int(input('masukan umur: '))\n",
    "    tahun_lahir = 2023 - age\n",
    "    print('hallo '+ name)\n",
    "    print('tahun lahirmu '+ str(tahun_lahir))\n",
    "except:\n",
    "    print('inputan tidak valid')"
   ]
  },
  {
   "cell_type": "code",
   "execution_count": null,
   "id": "e2db11e2",
   "metadata": {},
   "outputs": [],
   "source": []
  }
 ],
 "metadata": {
  "kernelspec": {
   "display_name": "Python 3 (ipykernel)",
   "language": "python",
   "name": "python3"
  },
  "language_info": {
   "codemirror_mode": {
    "name": "ipython",
    "version": 3
   },
   "file_extension": ".py",
   "mimetype": "text/x-python",
   "name": "python",
   "nbconvert_exporter": "python",
   "pygments_lexer": "ipython3",
   "version": "3.11.3"
  }
 },
 "nbformat": 4,
 "nbformat_minor": 5
}
