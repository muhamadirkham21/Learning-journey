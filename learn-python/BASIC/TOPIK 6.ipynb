{
 "cells": [
  {
   "cell_type": "markdown",
   "id": "ed52a741",
   "metadata": {},
   "source": [
    "# Tipe data iteration"
   ]
  },
  {
   "cell_type": "code",
   "execution_count": 1,
   "id": "fbc5f8d9",
   "metadata": {},
   "outputs": [],
   "source": [
    "#pendefinisian list, tuple, set, dictionary\n",
    "yonkou = ['shp', 'rhp', 'bbp', 'cg']\n",
    "\n",
    "shp_crew = ('luffy', 'zoro', 'sanji', 'ayang robin', 'nami-swan')\n",
    "\n",
    "rank = {1, 2, 3, 4, 5}\n",
    "\n",
    "pirates = {\n",
    "    'shp' : list(shp_crew),\n",
    "    'rhp' : ['shanks', 'beckman', 'roux', 'yassop', 'lemon juice']\n",
    "}"
   ]
  },
  {
   "cell_type": "code",
   "execution_count": 2,
   "id": "1eb80f4b",
   "metadata": {},
   "outputs": [
    {
     "name": "stdout",
     "output_type": "stream",
     "text": [
      "shp\n",
      "['shp', 'rhp', 'bbp']\n",
      "cg\n",
      "['rhp', 'bbp']\n"
     ]
    }
   ],
   "source": [
    "#slicing\n",
    "print(yonkou[0])\n",
    "print(yonkou[:3])\n",
    "print(yonkou[-1])\n",
    "print(yonkou[1:-1])"
   ]
  },
  {
   "cell_type": "code",
   "execution_count": 3,
   "id": "b424ba55",
   "metadata": {},
   "outputs": [
    {
     "name": "stdout",
     "output_type": "stream",
     "text": [
      "4\n",
      "max rank 5 min rank 1\n"
     ]
    }
   ],
   "source": [
    "#mengetahui panjang data\n",
    "#len()\n",
    "#min() dan max()\n",
    "#sort()\n",
    "\n",
    "print(len(yonkou))\n",
    "rank = list(rank)\n",
    "print('max rank {} min rank {}'.format(max(rank), min(rank)))\n",
    "rank.sort()"
   ]
  },
  {
   "cell_type": "code",
   "execution_count": 4,
   "id": "1ca88ddc",
   "metadata": {},
   "outputs": [
    {
     "name": "stdout",
     "output_type": "stream",
     "text": [
      "2\n"
     ]
    }
   ],
   "source": [
    "#menghitung banyakya suatu elemen\n",
    "new_list = [1, 2, 2, 3, 3, 4, 5]\n",
    "print(new_list.count(2))"
   ]
  },
  {
   "cell_type": "code",
   "execution_count": 5,
   "id": "97f2fdb9",
   "metadata": {},
   "outputs": [
    {
     "name": "stdout",
     "output_type": "stream",
     "text": [
      "True\n",
      "False\n"
     ]
    }
   ],
   "source": [
    "#operator keanggotaan\n",
    "print('shp' in yonkou)\n",
    "print('rhp' not in yonkou)"
   ]
  },
  {
   "cell_type": "code",
   "execution_count": 6,
   "id": "5eb0e194",
   "metadata": {},
   "outputs": [
    {
     "name": "stdout",
     "output_type": "stream",
     "text": [
      "[1, 2, 3, 4, 5, '7']\n",
      "[1, 2, 3, 4, 5]\n",
      "[1, 2, 3, 4, 5]\n"
     ]
    }
   ],
   "source": [
    "#menambahkan dan menghapus item pada list\n",
    "\n",
    "rank.append('7')\n",
    "print(rank)\n",
    "rank.remove('7')\n",
    "print(rank)\n",
    "\n",
    "#insert()\n",
    "rank.insert(1, '7')\n",
    "rank.pop(1)\n",
    "print(rank)"
   ]
  },
  {
   "cell_type": "code",
   "execution_count": 7,
   "id": "84ec10a5",
   "metadata": {},
   "outputs": [
    {
     "name": "stdout",
     "output_type": "stream",
     "text": [
      "[1, 3, 5, 7, 1, 2, 4, 6, 8]\n"
     ]
    }
   ],
   "source": [
    "#concate list\n",
    "a = [1, 3, 5, 7, 1]\n",
    "b = [2, 4, 6, 8]\n",
    "\n",
    "c = a+b\n",
    "print(c)"
   ]
  },
  {
   "cell_type": "code",
   "execution_count": 8,
   "id": "c08a89ab",
   "metadata": {},
   "outputs": [
    {
     "data": {
      "text/plain": [
       "2"
      ]
     },
     "execution_count": 8,
     "metadata": {},
     "output_type": "execute_result"
    }
   ],
   "source": [
    "#more method\n",
    "a.count(1)"
   ]
  },
  {
   "cell_type": "code",
   "execution_count": 9,
   "id": "02455c79",
   "metadata": {},
   "outputs": [
    {
     "data": {
      "text/plain": [
       "[1, 1, 3, 5, 7]"
      ]
     },
     "execution_count": 9,
     "metadata": {},
     "output_type": "execute_result"
    }
   ],
   "source": [
    "a.sort()\n",
    "a"
   ]
  },
  {
   "cell_type": "code",
   "execution_count": 10,
   "id": "11ff5f36",
   "metadata": {},
   "outputs": [
    {
     "name": "stdout",
     "output_type": "stream",
     "text": [
      "yonkou ke 1 adalah akagami\n",
      "yonkou ke 2 adalah mugiwara\n",
      "yonkou ke 3 adalah kurohige\n",
      "yonkou ke 4 adalah buggy\n"
     ]
    }
   ],
   "source": [
    "#enumerate list\n",
    "yonkou = ['akagami', 'mugiwara', 'kurohige', 'buggy']\n",
    "\n",
    "for i, name in enumerate(yonkou):\n",
    "    print('yonkou ke {} adalah {}'.format(i+1, name))"
   ]
  },
  {
   "cell_type": "code",
   "execution_count": 11,
   "id": "fcab2d16",
   "metadata": {},
   "outputs": [
    {
     "name": "stdout",
     "output_type": "stream",
     "text": [
      "{'name': ['irkham', 'muhamad'], 'adress': ['indonesia', 'usa']}\n",
      "True\n",
      "['irkham', 'muhamad', 'ahmad']\n",
      "True\n",
      "dict_items([('name', ['irkham', 'muhamad', 'ahmad']), ('adress', ['indonesia', 'usa'])])\n"
     ]
    }
   ],
   "source": [
    "#more about dictionary\n",
    "#key-value tipe data collection\n",
    "\n",
    "data = dict()\n",
    "data['name'] = ['irkham', 'muhamad']\n",
    "data['adress'] = ['indonesia', 'usa']\n",
    "print(data)\n",
    "\n",
    "data['name'].append('ahmad')\n",
    "print('name' in list(data.keys()))\n",
    "print(data.get('name', 0)) #mencari nilai untuk key name jika tidak ada akan me return 0\n",
    "print('name' in data)\n",
    "print(data.items())"
   ]
  },
  {
   "cell_type": "code",
   "execution_count": 12,
   "id": "d4f710d1",
   "metadata": {},
   "outputs": [
    {
     "name": "stdout",
     "output_type": "stream",
     "text": [
      "{'a': 3, 'i': 2, 'u': 1}\n",
      "{'a': 1}\n"
     ]
    }
   ],
   "source": [
    "def count_letter(sentence):\n",
    "    dictionary = dict()\n",
    "    for letter in sentence:\n",
    "        if letter not in dictionary:\n",
    "            dictionary[letter] = 1\n",
    "        else:\n",
    "            dictionary[letter] += 1\n",
    "    return dictionary\n",
    "\n",
    "print(count_letter('aaaiiu'))\n",
    "\n",
    "def count_get(sentence):\n",
    "    dictionary = dict()\n",
    "    for letter in sentence:\n",
    "        dictionary[letter] = dictionary.get(letter, 0) + 1\n",
    "    return dictionary\n",
    "\n",
    "print(count_get('a'))"
   ]
  },
  {
   "cell_type": "code",
   "execution_count": 13,
   "id": "f9f99ac3",
   "metadata": {},
   "outputs": [
    {
     "name": "stdout",
     "output_type": "stream",
     "text": [
      "{'a': 4, 'i': 3, 'u': 1}\n",
      "a 4\n"
     ]
    }
   ],
   "source": [
    "my_dict = count_get('aaaaiiiu')\n",
    "print(my_dict)\n",
    "\n",
    "def big(dictionary):\n",
    "    initial = None\n",
    "    bigest = None\n",
    "    for key, value in dictionary.items():\n",
    "        if initial is None or value > initial :\n",
    "            bigest = key\n",
    "            initial = value\n",
    "            \n",
    "    return bigest, initial\n",
    "\n",
    "big_letter, much = big(my_dict)\n",
    "print(big_letter, much)"
   ]
  },
  {
   "cell_type": "code",
   "execution_count": 14,
   "id": "350bed32",
   "metadata": {},
   "outputs": [
    {
     "name": "stdout",
     "output_type": "stream",
     "text": [
      "[(' ', 9), ('a', 14), ('d', 3), ('e', 3), ('g', 3), ('h', 2), ('i', 1), ('j', 1), ('k', 3), ('l', 2), ('n', 4), ('o', 2), ('p', 1), ('r', 2), ('s', 2), ('t', 1), ('u', 3), ('y', 1)]\n"
     ]
    }
   ],
   "source": [
    "#tuple\n",
    "\n",
    "nama = 'aku adalah seorang kapiten dan aku juga seorang adalah ya'\n",
    "kamus = count_get(nama)\n",
    "print(sorted(kamus.items()))\n"
   ]
  },
  {
   "cell_type": "code",
   "execution_count": 15,
   "id": "2bf62f65",
   "metadata": {},
   "outputs": [
    {
     "name": "stdout",
     "output_type": "stream",
     "text": [
      "[(14, 'a'), (9, ' '), (4, 'n'), (3, 'u'), (3, 'k')]\n"
     ]
    }
   ],
   "source": [
    "rank = [(value, key) for key,value in kamus.items()]\n",
    "rank = sorted(rank, reverse=True)\n",
    "print(rank[:5])"
   ]
  },
  {
   "cell_type": "markdown",
   "id": "65139792",
   "metadata": {},
   "source": [
    "### Map dan Filter"
   ]
  },
  {
   "cell_type": "code",
   "execution_count": 2,
   "id": "ad01433d",
   "metadata": {},
   "outputs": [],
   "source": [
    "def f(x):\n",
    "    return 2*x\n",
    "\n",
    "def is_even(x):\n",
    "    return x % 2 == 0\n"
   ]
  },
  {
   "cell_type": "code",
   "execution_count": 3,
   "id": "bfd2e584",
   "metadata": {},
   "outputs": [
    {
     "name": "stdout",
     "output_type": "stream",
     "text": [
      "[0 1 2 3 4 5 6 7 8 9]\n",
      "[ 0  2  4  6  8 10 12 14 16 18]\n"
     ]
    }
   ],
   "source": [
    "import numpy as np \n",
    "\n",
    "data = np.arange(10)\n",
    "f_data = np.array([f(x) for x in data ])\n",
    "\n",
    "print(data)\n",
    "print(f_data)\n"
   ]
  },
  {
   "cell_type": "code",
   "execution_count": 4,
   "id": "68e3f0b9",
   "metadata": {},
   "outputs": [
    {
     "name": "stdout",
     "output_type": "stream",
     "text": [
      "[0, 2, 4, 6, 8, 10, 12, 14, 16, 18]\n"
     ]
    }
   ],
   "source": [
    "f_data = list(map(f, data))\n",
    "print(f_data)"
   ]
  },
  {
   "cell_type": "code",
   "execution_count": 5,
   "id": "b3c5b6c0",
   "metadata": {},
   "outputs": [
    {
     "name": "stdout",
     "output_type": "stream",
     "text": [
      "[0, 2, 4, 6, 8]\n"
     ]
    }
   ],
   "source": [
    "even_data = list(filter(is_even, data))\n",
    "print(even_data)"
   ]
  },
  {
   "cell_type": "code",
   "execution_count": 6,
   "id": "427ade91",
   "metadata": {},
   "outputs": [
    {
     "name": "stdout",
     "output_type": "stream",
     "text": [
      "[0, 2, 4, 6, 8, 10, 12, 14, 16, 18]\n"
     ]
    }
   ],
   "source": [
    "f = lambda x : 2*x\n",
    "\n",
    "print(list(map(f, data)))"
   ]
  },
  {
   "cell_type": "code",
   "execution_count": 7,
   "id": "ea1ba3e4",
   "metadata": {},
   "outputs": [
    {
     "name": "stdout",
     "output_type": "stream",
     "text": [
      "[0, 2, 4, 6, 8]\n"
     ]
    }
   ],
   "source": [
    "f = lambda x : x % 2 == 0\n",
    "\n",
    "print(list(filter(f, data)))"
   ]
  },
  {
   "cell_type": "code",
   "execution_count": 1,
   "id": "ca181404",
   "metadata": {},
   "outputs": [
    {
     "name": "stdout",
     "output_type": "stream",
     "text": [
      "True\n",
      "False\n"
     ]
    }
   ],
   "source": [
    "one = True\n",
    "two = False\n",
    "\n",
    "one_two = [one, two]\n",
    "print(any(one_two))\n",
    "print(all(one_two))"
   ]
  },
  {
   "cell_type": "code",
   "execution_count": 3,
   "id": "aa055b80",
   "metadata": {},
   "outputs": [
    {
     "name": "stdout",
     "output_type": "stream",
     "text": [
      "your input in invalid\n",
      "hallo khamz nim None jurusan None\n"
     ]
    }
   ],
   "source": [
    "## latihan dictionary\n",
    "\n",
    "def getValue():\n",
    "\n",
    "    _template = {\n",
    "        'name' : 'your name',\n",
    "        'nim' : 0000,\n",
    "        'major' : 'your major'\n",
    "    }\n",
    "\n",
    "    try :\n",
    "        student = dict.fromkeys(_template.keys())\n",
    "        student['name'] = input('input your name: ')\n",
    "        student['nim'] = int(input('input your nim in number format: '))\n",
    "        student['major'] = input('input your major: ')\n",
    "    except:\n",
    "        print('your input in invalid')\n",
    "        return student\n",
    "    else:\n",
    "        return student\n",
    "    \n",
    "\n",
    "def displayValue(data):\n",
    "    return f'hallo {data['name']} nim {data['nim']} jurusan {data['major']}'\n",
    "\n",
    "print(displayValue(getValue()))\n"
   ]
  }
 ],
 "metadata": {
  "kernelspec": {
   "display_name": "Python 3 (ipykernel)",
   "language": "python",
   "name": "python3"
  },
  "language_info": {
   "codemirror_mode": {
    "name": "ipython",
    "version": 3
   },
   "file_extension": ".py",
   "mimetype": "text/x-python",
   "name": "python",
   "nbconvert_exporter": "python",
   "pygments_lexer": "ipython3",
   "version": "3.12.0"
  }
 },
 "nbformat": 4,
 "nbformat_minor": 5
}
