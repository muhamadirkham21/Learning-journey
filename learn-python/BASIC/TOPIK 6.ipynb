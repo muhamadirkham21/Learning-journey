{
 "cells": [
  {
   "cell_type": "markdown",
   "id": "ed52a741",
   "metadata": {},
   "source": [
    "# Tipe data iteration"
   ]
  },
  {
   "cell_type": "code",
   "execution_count": 1,
   "id": "fbc5f8d9",
   "metadata": {},
   "outputs": [],
   "source": [
    "#pendefinisian list, tuple, set, dictionary\n",
    "yonkou = ['shp', 'rhp', 'bbp', 'cg']\n",
    "\n",
    "shp_crew = ('luffy', 'zoro', 'sanji', 'ayang robin', 'nami-swan')\n",
    "\n",
    "rank = {1, 2, 3, 4, 5}\n",
    "\n",
    "pirates = {\n",
    "    'shp' : list(shp_crew),\n",
    "    'rhp' : ['shanks', 'beckman', 'roux', 'yassop', 'lemon juice']\n",
    "}"
   ]
  },
  {
   "cell_type": "code",
   "execution_count": 2,
   "id": "1eb80f4b",
   "metadata": {},
   "outputs": [
    {
     "name": "stdout",
     "output_type": "stream",
     "text": [
      "shp\n",
      "['shp', 'rhp', 'bbp']\n",
      "cg\n",
      "['rhp', 'bbp']\n"
     ]
    }
   ],
   "source": [
    "#slicing\n",
    "print(yonkou[0])\n",
    "print(yonkou[:3])\n",
    "print(yonkou[-1])\n",
    "print(yonkou[1:-1])"
   ]
  },
  {
   "cell_type": "code",
   "execution_count": 3,
   "id": "b424ba55",
   "metadata": {},
   "outputs": [
    {
     "name": "stdout",
     "output_type": "stream",
     "text": [
      "4\n",
      "max rank 5 min rank 1\n"
     ]
    }
   ],
   "source": [
    "#mengetahui panjang data\n",
    "#len()\n",
    "#min() dan max()\n",
    "#sort()\n",
    "\n",
    "print(len(yonkou))\n",
    "rank = list(rank)\n",
    "print('max rank {} min rank {}'.format(max(rank), min(rank)))\n",
    "rank.sort()"
   ]
  },
  {
   "cell_type": "code",
   "execution_count": 4,
   "id": "1ca88ddc",
   "metadata": {},
   "outputs": [
    {
     "name": "stdout",
     "output_type": "stream",
     "text": [
      "2\n"
     ]
    }
   ],
   "source": [
    "#menghitung banyakya suatu elemen\n",
    "new_list = [1, 2, 2, 3, 3, 4, 5]\n",
    "print(new_list.count(2))"
   ]
  },
  {
   "cell_type": "code",
   "execution_count": 5,
   "id": "97f2fdb9",
   "metadata": {},
   "outputs": [
    {
     "name": "stdout",
     "output_type": "stream",
     "text": [
      "True\n",
      "False\n"
     ]
    }
   ],
   "source": [
    "#operator keanggotaan\n",
    "print('shp' in yonkou)\n",
    "print('rhp' not in yonkou)"
   ]
  },
  {
   "cell_type": "code",
   "execution_count": 6,
   "id": "5eb0e194",
   "metadata": {},
   "outputs": [
    {
     "name": "stdout",
     "output_type": "stream",
     "text": [
      "[1, 2, 3, 4, 5, '7']\n",
      "[1, 2, 3, 4, 5]\n",
      "[1, 2, 3, 4, 5]\n"
     ]
    }
   ],
   "source": [
    "#menambahkan dan menghapus item pada list\n",
    "\n",
    "rank.append('7')\n",
    "print(rank)\n",
    "rank.remove('7')\n",
    "print(rank)\n",
    "\n",
    "#insert()\n",
    "rank.insert(1, '7')\n",
    "rank.pop(1)\n",
    "print(rank)"
   ]
  },
  {
   "cell_type": "code",
   "execution_count": 7,
   "id": "84ec10a5",
   "metadata": {},
   "outputs": [
    {
     "name": "stdout",
     "output_type": "stream",
     "text": [
      "[1, 3, 5, 7, 1, 2, 4, 6, 8]\n"
     ]
    }
   ],
   "source": [
    "#concate list\n",
    "a = [1, 3, 5, 7, 1]\n",
    "b = [2, 4, 6, 8]\n",
    "\n",
    "c = a+b\n",
    "print(c)"
   ]
  },
  {
   "cell_type": "code",
   "execution_count": 8,
   "id": "c08a89ab",
   "metadata": {},
   "outputs": [
    {
     "data": {
      "text/plain": [
       "2"
      ]
     },
     "execution_count": 8,
     "metadata": {},
     "output_type": "execute_result"
    }
   ],
   "source": [
    "#more method\n",
    "a.count(1)"
   ]
  },
  {
   "cell_type": "code",
   "execution_count": 9,
   "id": "02455c79",
   "metadata": {},
   "outputs": [
    {
     "data": {
      "text/plain": [
       "[1, 1, 3, 5, 7]"
      ]
     },
     "execution_count": 9,
     "metadata": {},
     "output_type": "execute_result"
    }
   ],
   "source": [
    "a.sort()\n",
    "a"
   ]
  },
  {
   "cell_type": "code",
   "execution_count": 10,
   "id": "11ff5f36",
   "metadata": {},
   "outputs": [
    {
     "name": "stdout",
     "output_type": "stream",
     "text": [
      "yonkou ke 1 adalah akagami\n",
      "yonkou ke 2 adalah mugiwara\n",
      "yonkou ke 3 adalah kurohige\n",
      "yonkou ke 4 adalah buggy\n"
     ]
    }
   ],
   "source": [
    "#enumerate list\n",
    "yonkou = ['akagami', 'mugiwara', 'kurohige', 'buggy']\n",
    "\n",
    "for i, name in enumerate(yonkou):\n",
    "    print('yonkou ke {} adalah {}'.format(i+1, name))"
   ]
  },
  {
   "cell_type": "code",
   "execution_count": 11,
   "id": "fcab2d16",
   "metadata": {},
   "outputs": [
    {
     "name": "stdout",
     "output_type": "stream",
     "text": [
      "{'name': ['irkham', 'muhamad'], 'adress': ['indonesia', 'usa']}\n",
      "True\n",
      "['irkham', 'muhamad', 'ahmad']\n",
      "True\n",
      "dict_items([('name', ['irkham', 'muhamad', 'ahmad']), ('adress', ['indonesia', 'usa'])])\n"
     ]
    }
   ],
   "source": [
    "#more about dictionary\n",
    "#key-value tipe data collection\n",
    "\n",
    "data = dict()\n",
    "data['name'] = ['irkham', 'muhamad']\n",
    "data['adress'] = ['indonesia', 'usa']\n",
    "print(data)\n",
    "\n",
    "data['name'].append('ahmad')\n",
    "print('name' in list(data.keys()))\n",
    "print(data.get('name', 0)) #mencari nilai untuk key name jika tidak ada akan me return 0\n",
    "print('name' in data)\n",
    "print(data.items())"
   ]
  },
  {
   "cell_type": "code",
   "execution_count": 12,
   "id": "d4f710d1",
   "metadata": {},
   "outputs": [
    {
     "name": "stdout",
     "output_type": "stream",
     "text": [
      "{'a': 3, 'i': 2, 'u': 1}\n",
      "{'a': 1}\n"
     ]
    }
   ],
   "source": [
    "def count_letter(sentence):\n",
    "    dictionary = dict()\n",
    "    for letter in sentence:\n",
    "        if letter not in dictionary:\n",
    "            dictionary[letter] = 1\n",
    "        else:\n",
    "            dictionary[letter] += 1\n",
    "    return dictionary\n",
    "\n",
    "print(count_letter('aaaiiu'))\n",
    "\n",
    "def count_get(sentence):\n",
    "    dictionary = dict()\n",
    "    for letter in sentence:\n",
    "        dictionary[letter] = dictionary.get(letter, 0) + 1\n",
    "    return dictionary\n",
    "\n",
    "print(count_get('a'))"
   ]
  },
  {
   "cell_type": "code",
   "execution_count": 13,
   "id": "f9f99ac3",
   "metadata": {},
   "outputs": [
    {
     "name": "stdout",
     "output_type": "stream",
     "text": [
      "{'a': 4, 'i': 3, 'u': 1}\n",
      "a 4\n"
     ]
    }
   ],
   "source": [
    "my_dict = count_get('aaaaiiiu')\n",
    "print(my_dict)\n",
    "\n",
    "def big(dictionary):\n",
    "    initial = None\n",
    "    bigest = None\n",
    "    for key, value in dictionary.items():\n",
    "        if initial is None or value > initial :\n",
    "            bigest = key\n",
    "            initial = value\n",
    "            \n",
    "    return bigest, initial\n",
    "\n",
    "big_letter, much = big(my_dict)\n",
    "print(big_letter, much)"
   ]
  },
  {
   "cell_type": "code",
   "execution_count": 14,
   "id": "350bed32",
   "metadata": {},
   "outputs": [
    {
     "name": "stdout",
     "output_type": "stream",
     "text": [
      "[(' ', 9), ('a', 14), ('d', 3), ('e', 3), ('g', 3), ('h', 2), ('i', 1), ('j', 1), ('k', 3), ('l', 2), ('n', 4), ('o', 2), ('p', 1), ('r', 2), ('s', 2), ('t', 1), ('u', 3), ('y', 1)]\n"
     ]
    }
   ],
   "source": [
    "#tuple\n",
    "\n",
    "nama = 'aku adalah seorang kapiten dan aku juga seorang adalah ya'\n",
    "kamus = count_get(nama)\n",
    "print(sorted(kamus.items()))\n"
   ]
  },
  {
   "cell_type": "code",
   "execution_count": 15,
   "id": "2bf62f65",
   "metadata": {},
   "outputs": [
    {
     "name": "stdout",
     "output_type": "stream",
     "text": [
      "[(14, 'a'), (9, ' '), (4, 'n'), (3, 'u'), (3, 'k')]\n"
     ]
    }
   ],
   "source": [
    "rank = [(value, key) for key,value in kamus.items()]\n",
    "rank = sorted(rank, reverse=True)\n",
    "print(rank[:5])"
   ]
  }
 ],
 "metadata": {
  "kernelspec": {
   "display_name": "Python 3 (ipykernel)",
   "language": "python",
   "name": "python3"
  },
  "language_info": {
   "codemirror_mode": {
    "name": "ipython",
    "version": 3
   },
   "file_extension": ".py",
   "mimetype": "text/x-python",
   "name": "python",
   "nbconvert_exporter": "python",
   "pygments_lexer": "ipython3",
   "version": "3.12.0"
  }
 },
 "nbformat": 4,
 "nbformat_minor": 5
}
