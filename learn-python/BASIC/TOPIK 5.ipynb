{
 "cells": [
  {
   "cell_type": "code",
   "execution_count": 1,
   "id": "f3cf9802",
   "metadata": {},
   "outputs": [
    {
     "name": "stdout",
     "output_type": "stream",
     "text": [
      "set up finished\n"
     ]
    }
   ],
   "source": [
    "print('set up finished')"
   ]
  },
  {
   "cell_type": "code",
   "execution_count": 20,
   "id": "eec3e9a5",
   "metadata": {},
   "outputs": [
    {
     "name": "stdout",
     "output_type": "stream",
     "text": [
      "<_io.TextIOWrapper name='nama-karyawan.txt' mode='r' encoding='cp1252'>\n"
     ]
    }
   ],
   "source": [
    "file = 'nama-karyawan.txt'\n",
    "try :\n",
    "    ffile = open(file, 'r')\n",
    "    print(ffile)\n",
    "except:\n",
    "    print('error')"
   ]
  },
  {
   "cell_type": "code",
   "execution_count": 7,
   "id": "230ed1ea",
   "metadata": {},
   "outputs": [
    {
     "name": "stdout",
     "output_type": "stream",
     "text": [
      "Muhamad\n",
      "\n",
      "Irkham\n",
      "\n",
      "Khudzifa\n",
      "\n",
      "Al rody\n",
      "\n",
      "Ahmad\n",
      "\n",
      "Mochammed\n"
     ]
    }
   ],
   "source": [
    "for line in ffile:\n",
    "    print(line)"
   ]
  },
  {
   "cell_type": "code",
   "execution_count": 12,
   "id": "5a387da4",
   "metadata": {},
   "outputs": [
    {
     "name": "stdout",
     "output_type": "stream",
     "text": [
      "baris : 6\n"
     ]
    }
   ],
   "source": [
    "count = 0\n",
    "for line in ffile:\n",
    "    count+=1\n",
    "print('baris : {}'.format(count))"
   ]
  },
  {
   "cell_type": "code",
   "execution_count": 19,
   "id": "f817b099",
   "metadata": {},
   "outputs": [
    {
     "data": {
      "text/plain": [
       "['Muhamad\\n', 'Irkham\\n', 'Khudzifa\\n', 'Al rody\\n', 'Ahmad\\n', 'Mochammed']"
      ]
     },
     "execution_count": 19,
     "metadata": {},
     "output_type": "execute_result"
    }
   ],
   "source": [
    "names = [name for name in ffile]\n",
    "names"
   ]
  },
  {
   "cell_type": "code",
   "execution_count": 15,
   "id": "7111989d",
   "metadata": {},
   "outputs": [
    {
     "name": "stdout",
     "output_type": "stream",
     "text": [
      "Muhamad\n",
      "Irkham\n",
      "Khudzifa\n",
      "Al rody\n",
      "Ahmad\n",
      "Mochammed\n"
     ]
    }
   ],
   "source": [
    "isi = ffile.read()\n",
    "print(isi)"
   ]
  },
  {
   "cell_type": "code",
   "execution_count": 21,
   "id": "a391638d",
   "metadata": {},
   "outputs": [
    {
     "name": "stdout",
     "output_type": "stream",
     "text": [
      "Muhamad\n",
      "Irkham\n",
      "Khudzifa\n",
      "Al rody\n",
      "Ahmad\n",
      "Mochammed\n"
     ]
    }
   ],
   "source": [
    "for line in ffile:\n",
    "    line = line.rstrip()\n",
    "    print(line)"
   ]
  },
  {
   "cell_type": "code",
   "execution_count": 22,
   "id": "dfd29372",
   "metadata": {},
   "outputs": [],
   "source": [
    "ffile.close()"
   ]
  },
  {
   "cell_type": "code",
   "execution_count": 33,
   "id": "005d53d5",
   "metadata": {
    "scrolled": true
   },
   "outputs": [
    {
     "name": "stdout",
     "output_type": "stream",
     "text": [
      "3\n"
     ]
    }
   ],
   "source": [
    "def get_alamat(file, alamat):\n",
    "    count = 0\n",
    "    try:\n",
    "        with open(file, 'r') as f:\n",
    "            for line in f:\n",
    "                line = line.rstrip()\n",
    "                if alamat in line:\n",
    "                    count += 1\n",
    "        return count\n",
    "    except:\n",
    "        print('file tidak bisa dibuka')\n",
    "    \n",
    "\n",
    "print(get_alamat('nama-karyawan.txt', 'cikadu'))"
   ]
  },
  {
   "cell_type": "markdown",
   "id": "7bea5bb1",
   "metadata": {},
   "source": [
    "# Write file"
   ]
  },
  {
   "cell_type": "code",
   "execution_count": null,
   "id": "a7699d25",
   "metadata": {},
   "outputs": [],
   "source": []
  }
 ],
 "metadata": {
  "kernelspec": {
   "display_name": "Python 3 (ipykernel)",
   "language": "python",
   "name": "python3"
  },
  "language_info": {
   "codemirror_mode": {
    "name": "ipython",
    "version": 3
   },
   "file_extension": ".py",
   "mimetype": "text/x-python",
   "name": "python",
   "nbconvert_exporter": "python",
   "pygments_lexer": "ipython3",
   "version": "3.11.3"
  }
 },
 "nbformat": 4,
 "nbformat_minor": 5
}
