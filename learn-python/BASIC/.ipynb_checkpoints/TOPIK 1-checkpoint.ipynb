{
 "cells": [
  {
   "cell_type": "markdown",
   "id": "7655e3fb",
   "metadata": {},
   "source": [
    "# Variabel dan Tipe data Dasar"
   ]
  },
  {
   "cell_type": "code",
   "execution_count": 2,
   "id": "5d2b9e96",
   "metadata": {},
   "outputs": [
    {
     "name": "stdout",
     "output_type": "stream",
     "text": [
      "tipe dari num :<class 'int'>\n"
     ]
    }
   ],
   "source": [
    "# global variabel\n",
    "num = 3 \n",
    "name = 'Fulan'\n",
    "\n",
    "\n",
    "print('tipe dari num :{}'.format(type(num)))"
   ]
  },
  {
   "cell_type": "code",
   "execution_count": 5,
   "id": "25c6f49c",
   "metadata": {},
   "outputs": [
    {
     "name": "stdout",
     "output_type": "stream",
     "text": [
      "tipe dari name : <class 'str'>\n"
     ]
    }
   ],
   "source": [
    "print('tipe dari name : {}'.format(type(name)))"
   ]
  },
  {
   "cell_type": "code",
   "execution_count": 6,
   "id": "9f465c52",
   "metadata": {},
   "outputs": [
    {
     "name": "stdout",
     "output_type": "stream",
     "text": [
      "tipe dari height : <class 'float'>\n"
     ]
    }
   ],
   "source": [
    "height = 165.6\n",
    "print('tipe dari height : {}'.format(type(height)))"
   ]
  },
  {
   "cell_type": "code",
   "execution_count": 7,
   "id": "afd7934c",
   "metadata": {},
   "outputs": [
    {
     "name": "stdout",
     "output_type": "stream",
     "text": [
      "<class 'bool'>\n"
     ]
    }
   ],
   "source": [
    "is_Male = True\n",
    "print(type(is_Male))"
   ]
  },
  {
   "cell_type": "code",
   "execution_count": 8,
   "id": "49857c01",
   "metadata": {},
   "outputs": [
    {
     "name": "stdout",
     "output_type": "stream",
     "text": [
      "3\n"
     ]
    }
   ],
   "source": [
    "# assignment operator\n",
    "\n",
    "age = 3\n",
    "print(age)"
   ]
  },
  {
   "cell_type": "markdown",
   "id": "3da52184",
   "metadata": {},
   "source": [
    "## Basic method string"
   ]
  },
  {
   "cell_type": "code",
   "execution_count": 9,
   "id": "ff62ac88",
   "metadata": {},
   "outputs": [
    {
     "name": "stdout",
     "output_type": "stream",
     "text": [
      "poke sekali\n",
      "POKE SEKALI\n"
     ]
    }
   ],
   "source": [
    "#method upper dan lower\n",
    "name = 'poke sEkali'\n",
    "print(name.lower())\n",
    "print(name.upper())"
   ]
  },
  {
   "cell_type": "code",
   "execution_count": 10,
   "id": "f4d5bd77",
   "metadata": {},
   "outputs": [
    {
     "name": "stdout",
     "output_type": "stream",
     "text": [
      "anggaras kontolas\n",
      "    anggaras kontolas\n"
     ]
    }
   ],
   "source": [
    "#method string = strip\n",
    "name = '    anggaras kontolas'\n",
    "\n",
    "print(name.strip()) #argumen berisi white space || bisa juga berisi sub string\n",
    "print(name)"
   ]
  },
  {
   "cell_type": "code",
   "execution_count": 11,
   "id": "2f5ee6ae",
   "metadata": {},
   "outputs": [
    {
     "name": "stdout",
     "output_type": "stream",
     "text": [
      "True\n",
      "True\n",
      "False\n"
     ]
    }
   ],
   "source": [
    "#method string startswith dan endswith\n",
    "name1 = 'alif'\n",
    "name2 = 'anggaras'\n",
    "name3 = 'tendi'\n",
    "\n",
    "print(name1.startswith('a')) #ekuivalen dengan endswith\n",
    "print(name2.startswith('a'))\n",
    "print(name3.startswith('a'))"
   ]
  },
  {
   "cell_type": "code",
   "execution_count": 12,
   "id": "4c3aa429",
   "metadata": {},
   "outputs": [
    {
     "name": "stdout",
     "output_type": "stream",
     "text": [
      "['poke', 'pendongeng', 'nub', 'beban']\n",
      "gowciri adalah poke matmur\n",
      "anggaras, gowciri, 10di, khamskun, hamura-dono, nSchaa\n"
     ]
    }
   ],
   "source": [
    "#memisah dan menggabungkan string\n",
    "#join => menggabungkan\n",
    "#split => memisah\n",
    "import random\n",
    "\n",
    "name = 'poke pendongeng nub beban'\n",
    "new_names = name.split()\n",
    "\n",
    "a = random.randint(0,3)\n",
    "b = random.randint(0,5)\n",
    "\n",
    "print(name.split()) #split berdasarkan whitespace\n",
    "\n",
    "names = ['anggaras', 'gowciri', '10di', 'khamskun', 'hamura-dono', 'nSchaa']\n",
    "print('{} adalah {} matmur'.format(names[b], new_names[a]))\n",
    "print(\", \".join(names))"
   ]
  },
  {
   "cell_type": "code",
   "execution_count": 13,
   "id": "fa2d88a6",
   "metadata": {},
   "outputs": [
    {
     "name": "stdout",
     "output_type": "stream",
     "text": [
      "False\n",
      "False\n",
      "True\n",
      "True\n",
      "True\n"
     ]
    }
   ],
   "source": [
    "#pengecekan string\n",
    "nama = 'Monkey D. Luffy'\n",
    "nickname = 'luffy'\n",
    "enemy_name = 'germa66'\n",
    "\n",
    "#isuper() dan islower()\n",
    "print(nama.isupper())\n",
    "\n",
    "#isalpha() => berisi alphabet\n",
    "print(nama.isalpha())\n",
    "print(nickname.isalpha())\n",
    "\n",
    "#isalnum() =>berisi aphabet + numeric\n",
    "print(enemy_name.isalnum())\n",
    "\n",
    "#isdecimal() => berisi numerik\n",
    "print('123'.isdecimal())"
   ]
  },
  {
   "cell_type": "code",
   "execution_count": 14,
   "id": "a06d254c",
   "metadata": {},
   "outputs": [
    {
     "name": "stdout",
     "output_type": "stream",
     "text": [
      "one piece arc : marinford\n"
     ]
    }
   ],
   "source": [
    "#mengganti elemen string\n",
    "#replace\n",
    "\n",
    "title = 'one piece arc : arabasta'\n",
    "\n",
    "print(title.replace('arabasta', 'marinford'))"
   ]
  },
  {
   "cell_type": "code",
   "execution_count": 15,
   "id": "e609bbf2",
   "metadata": {},
   "outputs": [
    {
     "name": "stdout",
     "output_type": "stream",
     "text": [
      "-----first line-----\n",
      "          -----rjust----------\n",
      "-----ljust----------!!!!!!!!!!\n",
      "-----last line------\n"
     ]
    }
   ],
   "source": [
    "#method mengatur rata baris\n",
    "print('-----first line-----')\n",
    "print('-----rjust----------'.rjust(30))\n",
    "print('-----ljust----------'.ljust(30, '!'))\n",
    "print('-----last line------')"
   ]
  },
  {
   "cell_type": "code",
   "execution_count": 16,
   "id": "ff629085",
   "metadata": {},
   "outputs": [
    {
     "name": "stdout",
     "output_type": "stream",
     "text": [
      "h\n",
      "d\n",
      "22\n",
      "alo nama saya muhama\n",
      "h\n",
      "a\n",
      "l\n",
      "o\n",
      "n\n",
      "a\n",
      "m\n",
      "a\n",
      "s\n",
      "a\n",
      "y\n",
      "a\n",
      "m\n",
      "u\n",
      "h\n",
      "a\n",
      "m\n",
      "a\n",
      "d\n"
     ]
    }
   ],
   "source": [
    "#indexing in string\n",
    "\n",
    "words = 'halo nama saya muhamad'\n",
    "print(words[0])\n",
    "print(words[-1])\n",
    "print(len(words))\n",
    "print(words[1:-1]) #negatif satu disini tidak mengikuri\n",
    "\n",
    "for letter in words :\n",
    "    if letter != ' ':\n",
    "        print(letter)"
   ]
  },
  {
   "cell_type": "markdown",
   "id": "f7caa846",
   "metadata": {},
   "source": [
    "## Beberapa contoh penerapannya"
   ]
  },
  {
   "cell_type": "code",
   "execution_count": 17,
   "id": "dfdc201d",
   "metadata": {},
   "outputs": [
    {
     "data": {
      "text/plain": [
       "2"
      ]
     },
     "execution_count": 17,
     "metadata": {},
     "output_type": "execute_result"
    }
   ],
   "source": [
    "def count(word, letter):\n",
    "    res = 0\n",
    "    for item in word :\n",
    "        if item == letter:\n",
    "            res += 1\n",
    "    return res\n",
    "\n",
    "words = 'hallo asu'\n",
    "count(words, 'a')"
   ]
  },
  {
   "cell_type": "code",
   "execution_count": 18,
   "id": "3748595c",
   "metadata": {},
   "outputs": [
    {
     "name": "stdout",
     "output_type": "stream",
     "text": [
      "['muhamad', 'irkham', 'khudzifa', 'al', 'rody']\n"
     ]
    }
   ],
   "source": [
    "#convert string to list\n",
    "\n",
    "name = 'muhamad irkham khudzifa al rody'\n",
    "print(name.split())"
   ]
  },
  {
   "cell_type": "code",
   "execution_count": 19,
   "id": "21b6d31f",
   "metadata": {},
   "outputs": [
    {
     "name": "stdout",
     "output_type": "stream",
     "text": [
      "['muhirkham21@gmail.com', 'senin', '27', 'februari']\n",
      "muhirkham21@gmail.com\n"
     ]
    }
   ],
   "source": [
    "subject = 'muhirkham21@gmail.com senin 27 februari'\n",
    "res = subject.split()\n",
    "print(res)\n",
    "email = res[0]\n",
    "print(email)"
   ]
  },
  {
   "cell_type": "code",
   "execution_count": 20,
   "id": "3382f301",
   "metadata": {},
   "outputs": [],
   "source": [
    "def read_csv(file, delimiter):\n",
    "    with open(file, 'r') as file:\n",
    "        res = dict()\n",
    "        first_line = True\n",
    "        for line in file:\n",
    "            line = line.rstrip()\n",
    "            if first_line:\n",
    "                line = line.split(delimiter)\n",
    "                for title in line :\n",
    "                    res[title] = []\n",
    "                first_line= False\n",
    "            else:\n",
    "                line = line.split(delimiter)\n",
    "                titles = list(res.keys())\n",
    "                for i in range(len(titles)):\n",
    "                    res[titles[i]].append(line[i])\n",
    "    return res     \n",
    "            \n",
    "my_dict = read_csv('FILE1.txt', ',')"
   ]
  },
  {
   "cell_type": "code",
   "execution_count": 21,
   "id": "e038c725",
   "metadata": {},
   "outputs": [
    {
     "data": {
      "text/html": [
       "<div>\n",
       "<style scoped>\n",
       "    .dataframe tbody tr th:only-of-type {\n",
       "        vertical-align: middle;\n",
       "    }\n",
       "\n",
       "    .dataframe tbody tr th {\n",
       "        vertical-align: top;\n",
       "    }\n",
       "\n",
       "    .dataframe thead th {\n",
       "        text-align: right;\n",
       "    }\n",
       "</style>\n",
       "<table border=\"1\" class=\"dataframe\">\n",
       "  <thead>\n",
       "    <tr style=\"text-align: right;\">\n",
       "      <th></th>\n",
       "      <th>email</th>\n",
       "      <th>nama</th>\n",
       "      <th>alamat</th>\n",
       "    </tr>\n",
       "  </thead>\n",
       "  <tbody>\n",
       "    <tr>\n",
       "      <th>0</th>\n",
       "      <td>muhirkham21@gmail.com</td>\n",
       "      <td>irkham</td>\n",
       "      <td>indonesia</td>\n",
       "    </tr>\n",
       "    <tr>\n",
       "      <th>1</th>\n",
       "      <td>muhamad@gmail.com</td>\n",
       "      <td>muhamad</td>\n",
       "      <td>indonesia</td>\n",
       "    </tr>\n",
       "    <tr>\n",
       "      <th>2</th>\n",
       "      <td>irkham@google.com</td>\n",
       "      <td>kham</td>\n",
       "      <td>arab</td>\n",
       "    </tr>\n",
       "    <tr>\n",
       "      <th>3</th>\n",
       "      <td>ahmad@gmail.com</td>\n",
       "      <td>ahmad</td>\n",
       "      <td>qatar</td>\n",
       "    </tr>\n",
       "    <tr>\n",
       "      <th>4</th>\n",
       "      <td>alrody@yahoo.com</td>\n",
       "      <td>rody</td>\n",
       "      <td>indonesia</td>\n",
       "    </tr>\n",
       "  </tbody>\n",
       "</table>\n",
       "</div>"
      ],
      "text/plain": [
       "                   email     nama     alamat\n",
       "0  muhirkham21@gmail.com   irkham  indonesia\n",
       "1      muhamad@gmail.com  muhamad  indonesia\n",
       "2      irkham@google.com     kham       arab\n",
       "3        ahmad@gmail.com    ahmad      qatar\n",
       "4       alrody@yahoo.com     rody  indonesia"
      ]
     },
     "execution_count": 21,
     "metadata": {},
     "output_type": "execute_result"
    }
   ],
   "source": [
    "import pandas as pd\n",
    "\n",
    "df = pd.DataFrame(my_dict)\n",
    "df"
   ]
  }
 ],
 "metadata": {
  "kernelspec": {
   "display_name": "Python 3 (ipykernel)",
   "language": "python",
   "name": "python3"
  },
  "language_info": {
   "codemirror_mode": {
    "name": "ipython",
    "version": 3
   },
   "file_extension": ".py",
   "mimetype": "text/x-python",
   "name": "python",
   "nbconvert_exporter": "python",
   "pygments_lexer": "ipython3",
   "version": "3.11.3"
  }
 },
 "nbformat": 4,
 "nbformat_minor": 5
}
