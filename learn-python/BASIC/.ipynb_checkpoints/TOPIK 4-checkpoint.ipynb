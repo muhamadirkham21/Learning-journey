{
 "cells": [
  {
   "cell_type": "markdown",
   "id": "089f0883",
   "metadata": {},
   "source": [
    "# Looping"
   ]
  },
  {
   "cell_type": "code",
   "execution_count": 1,
   "id": "73bb2a62",
   "metadata": {},
   "outputs": [
    {
     "name": "stdout",
     "output_type": "stream",
     "text": [
      "iteration 1\n",
      "iteration 2\n",
      "iteration 3\n",
      "iteration 4\n",
      "iteration 5\n"
     ]
    }
   ],
   "source": [
    "#while loop\n",
    "\n",
    "i = 1\n",
    "\n",
    "while i <= 5:\n",
    "    print('iteration {}'.format(i))\n",
    "    i+=1"
   ]
  },
  {
   "cell_type": "code",
   "execution_count": 2,
   "id": "d5d8ea94",
   "metadata": {},
   "outputs": [
    {
     "name": "stdout",
     "output_type": "stream",
     "text": [
      "2\n",
      "3\n",
      "4\n",
      "1\n"
     ]
    }
   ],
   "source": [
    "while True:\n",
    "    a = input()\n",
    "    if a == '1':\n",
    "        break\n",
    "    "
   ]
  },
  {
   "cell_type": "code",
   "execution_count": 3,
   "id": "17892189",
   "metadata": {},
   "outputs": [
    {
     "name": "stdout",
     "output_type": "stream",
     "text": [
      "1\n",
      "2\n",
      "3\n",
      "4\n",
      "5\n",
      "6\n",
      "7\n",
      "8\n"
     ]
    }
   ],
   "source": [
    "#for loop\n",
    "#melakukan iterasi sebuah komponen\n",
    "\n",
    "num = [1, 2, 3, 4, 5, 6, 7, 8]\n",
    "for angka in num :\n",
    "    print(angka)"
   ]
  },
  {
   "cell_type": "code",
   "execution_count": 4,
   "id": "3fcda6d5",
   "metadata": {},
   "outputs": [
    {
     "name": "stdout",
     "output_type": "stream",
     "text": [
      "0\n",
      "1\n",
      "3\n",
      "4\n"
     ]
    }
   ],
   "source": [
    "for i in range(5):\n",
    "    if i==2:\n",
    "        continue\n",
    "    print(i)"
   ]
  },
  {
   "cell_type": "markdown",
   "id": "4d0d62ed",
   "metadata": {},
   "source": [
    "## Penerapan Looping"
   ]
  },
  {
   "cell_type": "code",
   "execution_count": 5,
   "id": "af0b30e8",
   "metadata": {},
   "outputs": [
    {
     "data": {
      "text/plain": [
       "12"
      ]
     },
     "execution_count": 5,
     "metadata": {},
     "output_type": "execute_result"
    }
   ],
   "source": [
    "def search_max(list_nums):\n",
    "    initial_num = -1\n",
    "    for num in list_nums:\n",
    "        if num > initial_num:\n",
    "            initial_num = num\n",
    "    return initial_num\n",
    "\n",
    "search_max([12, 10, 12, 4])"
   ]
  },
  {
   "cell_type": "code",
   "execution_count": 6,
   "id": "45f0248c",
   "metadata": {},
   "outputs": [
    {
     "data": {
      "text/plain": [
       "5"
      ]
     },
     "execution_count": 6,
     "metadata": {},
     "output_type": "execute_result"
    }
   ],
   "source": [
    "def counting(list_nums):\n",
    "    count = 0\n",
    "    for item in list_nums:\n",
    "        count += 1\n",
    "    return count\n",
    "\n",
    "counting(['k', 2, 3, 4, 5])"
   ]
  },
  {
   "cell_type": "code",
   "execution_count": 7,
   "id": "4d51f7f9",
   "metadata": {},
   "outputs": [
    {
     "data": {
      "text/plain": [
       "[5, 6]"
      ]
     },
     "execution_count": 7,
     "metadata": {},
     "output_type": "execute_result"
    }
   ],
   "source": [
    "def filtering(list):\n",
    "    filter = [item for item in list if item > 4]\n",
    "    return filter\n",
    "\n",
    "filtering([1, 2, 3, 4, 5, 6])"
   ]
  },
  {
   "cell_type": "code",
   "execution_count": 8,
   "id": "ed1179d6",
   "metadata": {},
   "outputs": [
    {
     "data": {
      "text/plain": [
       "True"
      ]
     },
     "execution_count": 8,
     "metadata": {},
     "output_type": "execute_result"
    }
   ],
   "source": [
    "def searching(list, key):\n",
    "    found = False\n",
    "    for item in list:\n",
    "        if item == key:\n",
    "            found = True\n",
    "    return found\n",
    "\n",
    "searching([1, 2, 3, 4], 3)"
   ]
  }
 ],
 "metadata": {
  "kernelspec": {
   "display_name": "Python 3 (ipykernel)",
   "language": "python",
   "name": "python3"
  },
  "language_info": {
   "codemirror_mode": {
    "name": "ipython",
    "version": 3
   },
   "file_extension": ".py",
   "mimetype": "text/x-python",
   "name": "python",
   "nbconvert_exporter": "python",
   "pygments_lexer": "ipython3",
   "version": "3.11.3"
  }
 },
 "nbformat": 4,
 "nbformat_minor": 5
}
