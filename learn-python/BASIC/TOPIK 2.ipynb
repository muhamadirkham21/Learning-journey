{
 "cells": [
  {
   "cell_type": "markdown",
   "id": "857abda3",
   "metadata": {},
   "source": [
    "#  Fungsi "
   ]
  },
  {
   "cell_type": "code",
   "execution_count": 2,
   "id": "74650a95",
   "metadata": {},
   "outputs": [
    {
     "data": {
      "text/plain": [
       "'\\nmendefinisikan suatu fungsi\\n\\ndef nama_fungsi(parameter):\\n    \"dokumentasi fungsi\"\\n    code\\n    return \\n'"
      ]
     },
     "execution_count": 2,
     "metadata": {},
     "output_type": "execute_result"
    }
   ],
   "source": [
    "\"\"\"\n",
    "mendefinisikan suatu fungsi\n",
    "\n",
    "def nama_fungsi(parameter):\n",
    "    \"dokumentasi fungsi\"\n",
    "    code\n",
    "    return \n",
    "\"\"\""
   ]
  },
  {
   "cell_type": "code",
   "execution_count": 3,
   "id": "f949c0c6",
   "metadata": {},
   "outputs": [
    {
     "name": "stdout",
     "output_type": "stream",
     "text": [
      "luas dari persegi dengan panjang 4 adalah 16\n"
     ]
    }
   ],
   "source": [
    "def luas_persegi(sisi):\n",
    "    \"\"\"\n",
    "    luas persegi\n",
    "    sisi : int\n",
    "    luas : int = sisi * sisi\n",
    "    return luas\n",
    "    \"\"\"\n",
    "    luas = sisi * sisi\n",
    "    return luas\n",
    "\n",
    "hasil = luas_persegi(4)\n",
    "print('luas dari persegi dengan panjang 4 adalah {}'.format(hasil))"
   ]
  },
  {
   "cell_type": "code",
   "execution_count": 2,
   "id": "65714707",
   "metadata": {},
   "outputs": [
    {
     "name": "stdout",
     "output_type": "stream",
     "text": [
      "argumen posisi 1\n",
      "argumen posisi 2\n",
      "argumen posisi 3\n",
      "argumen kata kunci i:7\n",
      "argumen kata kunci j:8\n",
      "argumen kata kunci k:9\n",
      "argumen posisi 1\n",
      "argumen posisi 2\n",
      "argumen kata kunci j:8\n",
      "argumen kata kunci k:9\n",
      "argumen posisi 2\n",
      "argumen posisi 3\n",
      "argumen kata kunci i:7\n",
      "argumen kata kunci j:8\n"
     ]
    }
   ],
   "source": [
    "#argumen pada fungsi\n",
    "#keyword argumen dan positional argument\n",
    "\n",
    "#contoh keyword argument\n",
    "def printinfo(*args, **kwargs):\n",
    "    for a in args:\n",
    "        print('argumen posisi {}'.format(a))\n",
    "    for key, value in kwargs.items():\n",
    "        print('argumen kata kunci {}:{}'.format(key, value))\n",
    " \n",
    " \n",
    "# Panggil printinfo\n",
    "printinfo()\n",
    "printinfo(1, 2, 3)\n",
    "printinfo(i=7, j=8, k=9)\n",
    "printinfo(1, 2, j=8, k=9)\n",
    "printinfo(*(2, 3), **{'i':7, 'j':8})\n"
   ]
  },
  {
   "cell_type": "code",
   "execution_count": 4,
   "id": "a3484551",
   "metadata": {},
   "outputs": [
    {
     "name": "stdout",
     "output_type": "stream",
     "text": [
      "5\n"
     ]
    }
   ],
   "source": [
    "#lambda\n",
    "\"\"\"\n",
    "lambda [arg1 [,arg2,.....argn]]:expression\n",
    "\"\"\"\n",
    "x = lambda a, b : a+b\n",
    "print(x(2, 3))"
   ]
  },
  {
   "cell_type": "code",
   "execution_count": 5,
   "id": "32881deb",
   "metadata": {},
   "outputs": [
    {
     "data": {
      "text/plain": [
       "4"
      ]
     },
     "execution_count": 5,
     "metadata": {},
     "output_type": "execute_result"
    }
   ],
   "source": [
    "square_fun = lambda x : x**2\n",
    "square_fun(2)"
   ]
  },
  {
   "cell_type": "code",
   "execution_count": 6,
   "id": "d0f8129f",
   "metadata": {},
   "outputs": [
    {
     "data": {
      "text/plain": [
       "array([ 1,  4,  9, 16, 25, 36, 49, 64])"
      ]
     },
     "execution_count": 6,
     "metadata": {},
     "output_type": "execute_result"
    }
   ],
   "source": [
    "import numpy as np\n",
    "square_fun(np.array([1, 2, 3, 4, 5, 6, 7, 8]))"
   ]
  },
  {
   "cell_type": "code",
   "execution_count": 5,
   "id": "26ea96ee",
   "metadata": {},
   "outputs": [
    {
     "name": "stdout",
     "output_type": "stream",
     "text": [
      "1\n",
      "1\n"
     ]
    }
   ],
   "source": [
    "def count():\n",
    "    count = 0\n",
    "\n",
    "    def increament():\n",
    "        nonlocal count\n",
    "        count += 1\n",
    "        print(count)\n",
    "    increament()\n",
    "    return count\n",
    "\n",
    "print(count())"
   ]
  },
  {
   "cell_type": "markdown",
   "id": "3cb0f8d0",
   "metadata": {},
   "source": [
    "## recursion"
   ]
  },
  {
   "cell_type": "code",
   "execution_count": 3,
   "id": "11a96a90",
   "metadata": {},
   "outputs": [
    {
     "data": {
      "text/plain": [
       "6"
      ]
     },
     "execution_count": 3,
     "metadata": {},
     "output_type": "execute_result"
    }
   ],
   "source": [
    "def factorial(n):\n",
    "    if n == 1 : return 1\n",
    "    return n * factorial(n-1)\n",
    "\n",
    "factorial(3)"
   ]
  },
  {
   "cell_type": "markdown",
   "id": "9c9457df",
   "metadata": {},
   "source": [
    "## decorators"
   ]
  },
  {
   "cell_type": "code",
   "execution_count": 5,
   "id": "931c926a",
   "metadata": {},
   "outputs": [
    {
     "name": "stdout",
     "output_type": "stream",
     "text": [
      "before\n",
      "hello\n",
      "after\n"
     ]
    }
   ],
   "source": [
    "def logtime(func):\n",
    "    def wrapper():\n",
    "        print('before')\n",
    "        val = func()\n",
    "        print('after')\n",
    "        return val\n",
    "    return wrapper\n",
    "\n",
    "@logtime\n",
    "def hello():\n",
    "    print('hello')\n",
    "\n",
    "hello()"
   ]
  },
  {
   "cell_type": "markdown",
   "id": "e19956bb",
   "metadata": {},
   "source": [
    "## docstring"
   ]
  },
  {
   "cell_type": "code",
   "execution_count": 7,
   "id": "8db1c86e",
   "metadata": {},
   "outputs": [],
   "source": [
    "class Dog:\n",
    "    \"\"\" class represent DOg\"\"\"\n",
    "    foot = 4\n",
    "\n",
    "    def __init__(self, name):\n",
    "        \"\"\" initialize dog\"\"\"\n",
    "        self.name = name\n",
    "\n",
    "    def bark(self):\n",
    "        \"\"\"let's dog bark\"\"\"\n",
    "        print('woof!')\n",
    "    "
   ]
  },
  {
   "cell_type": "code",
   "execution_count": 8,
   "id": "f1363fe9",
   "metadata": {},
   "outputs": [
    {
     "name": "stdout",
     "output_type": "stream",
     "text": [
      "Help on class Dog in module __main__:\n",
      "\n",
      "class Dog(builtins.object)\n",
      " |  Dog(name)\n",
      " |\n",
      " |  class represent DOg\n",
      " |\n",
      " |  Methods defined here:\n",
      " |\n",
      " |  __init__(self, name)\n",
      " |      initialize dog\n",
      " |\n",
      " |  bark(self)\n",
      " |      let's dog bark\n",
      " |\n",
      " |  ----------------------------------------------------------------------\n",
      " |  Data descriptors defined here:\n",
      " |\n",
      " |  __dict__\n",
      " |      dictionary for instance variables (if defined)\n",
      " |\n",
      " |  __weakref__\n",
      " |      list of weak references to the object (if defined)\n",
      " |\n",
      " |  ----------------------------------------------------------------------\n",
      " |  Data and other attributes defined here:\n",
      " |\n",
      " |  foot = 4\n",
      "\n",
      "None\n"
     ]
    }
   ],
   "source": [
    "print(help(Dog))"
   ]
  },
  {
   "cell_type": "code",
   "execution_count": 10,
   "id": "bb342437",
   "metadata": {},
   "outputs": [
    {
     "data": {
      "text/plain": [
       "4"
      ]
     },
     "execution_count": 10,
     "metadata": {},
     "output_type": "execute_result"
    }
   ],
   "source": [
    "# annotations\n",
    "\n",
    "def increament(n: int) -> int:\n",
    "    return n + 1\n",
    "\n",
    "count: int = 0\n",
    "\n",
    "increament(3)"
   ]
  },
  {
   "cell_type": "markdown",
   "id": "d2849b7f",
   "metadata": {},
   "source": [
    "### latihan fungsi"
   ]
  },
  {
   "cell_type": "code",
   "execution_count": 1,
   "id": "1baab092",
   "metadata": {},
   "outputs": [],
   "source": [
    "import random\n",
    "\n",
    "def cool_name(name: str):\n",
    "    _list = [x for x in name]\n",
    "    random.shuffle(_list)\n",
    "    return ''.join(_list)\n",
    "\n",
    "def info(name: str):\n",
    "    return f'hallo {name} your cool name is {cool_name(name)}'\n",
    "\n",
    "def register_email(name: str, domain='com'):\n",
    "    _num = [x for x in range(10)]\n",
    "    random.shuffle(_num)\n",
    "    _num = str(_num[0]) + str(_num[1])\n",
    "    _cool_name = cool_name(name)\n",
    "\n",
    "    email = name + _num + '.' + _cool_name + \"@gmail.\" + domain\n",
    "    return email\n",
    "\n",
    "def add_data(name: str, data: list):\n",
    "    person_name = name\n",
    "    person_nick_name = cool_name(name)\n",
    "    person_email = register_email(name)\n",
    "    data.append((person_name, person_nick_name, person_email))\n",
    "\n",
    "    print(f'your data is added to database congrats {name} please check your email in {person_email}')\n"
   ]
  },
  {
   "cell_type": "code",
   "execution_count": 6,
   "id": "2d5138c6",
   "metadata": {},
   "outputs": [
    {
     "name": "stdout",
     "output_type": "stream",
     "text": [
      "your data is added to database congrats alrody please check your email in alrody51.lryaod@gmail.com\n"
     ]
    }
   ],
   "source": []
  },
  {
   "cell_type": "code",
   "execution_count": 7,
   "id": "6269b0e5",
   "metadata": {},
   "outputs": [],
   "source": [
    "database = []"
   ]
  },
  {
   "cell_type": "code",
   "execution_count": 10,
   "id": "1c406096",
   "metadata": {},
   "outputs": [
    {
     "name": "stdout",
     "output_type": "stream",
     "text": [
      "your data is added to database congrats thoriq please check your email in thoriq21.qtiroh@gmail.com\n"
     ]
    }
   ],
   "source": [
    "name = 'thoriq'\n",
    "\n",
    "add_data(name, database)"
   ]
  },
  {
   "cell_type": "code",
   "execution_count": 11,
   "id": "a2acd8dd",
   "metadata": {},
   "outputs": [
    {
     "data": {
      "text/plain": [
       "[('alrody', 'raydlo', 'alrody56.orylad@gmail.com'),\n",
       " ('thoriq', 'tqohir', 'thoriq21.qtiroh@gmail.com')]"
      ]
     },
     "execution_count": 11,
     "metadata": {},
     "output_type": "execute_result"
    }
   ],
   "source": [
    "database"
   ]
  }
 ],
 "metadata": {
  "kernelspec": {
   "display_name": "Python 3 (ipykernel)",
   "language": "python",
   "name": "python3"
  },
  "language_info": {
   "codemirror_mode": {
    "name": "ipython",
    "version": 3
   },
   "file_extension": ".py",
   "mimetype": "text/x-python",
   "name": "python",
   "nbconvert_exporter": "python",
   "pygments_lexer": "ipython3",
   "version": "3.12.0"
  }
 },
 "nbformat": 4,
 "nbformat_minor": 5
}
