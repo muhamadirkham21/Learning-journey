{
 "cells": [
  {
   "cell_type": "code",
   "execution_count": 6,
   "id": "74650a95",
   "metadata": {},
   "outputs": [
    {
     "data": {
      "text/plain": [
       "'\\nmendefinisikan suatu fungsi\\n\\ndef nama_fungsi(parameter):\\n    \"dokumentasi fungsi\"\\n    code\\n    return \\n'"
      ]
     },
     "execution_count": 6,
     "metadata": {},
     "output_type": "execute_result"
    }
   ],
   "source": [
    "\"\"\"\n",
    "mendefinisikan suatu fungsi\n",
    "\n",
    "def nama_fungsi(parameter):\n",
    "    \"dokumentasi fungsi\"\n",
    "    code\n",
    "    return \n",
    "\"\"\""
   ]
  },
  {
   "cell_type": "code",
   "execution_count": 7,
   "id": "f949c0c6",
   "metadata": {},
   "outputs": [
    {
     "name": "stdout",
     "output_type": "stream",
     "text": [
      "luas dari persegi dengan panjang 4 adalah 16\n"
     ]
    }
   ],
   "source": [
    "def luas_persegi(sisi):\n",
    "    \"\"\"\n",
    "    luas persegi\n",
    "    sisi : int\n",
    "    luas : int = sisi * sisi\n",
    "    return luas\n",
    "    \"\"\"\n",
    "    luas = sisi * sisi\n",
    "    return luas\n",
    "\n",
    "hasil = luas_persegi(4)\n",
    "print('luas dari persegi dengan panjang 4 adalah {}'.format(hasil))"
   ]
  },
  {
   "cell_type": "code",
   "execution_count": 8,
   "id": "65714707",
   "metadata": {},
   "outputs": [
    {
     "name": "stdout",
     "output_type": "stream",
     "text": [
      "argumen posisi 1\n",
      "argumen posisi 2\n",
      "argumen posisi 3\n",
      "argumen kata kunci i:7\n",
      "argumen kata kunci j:8\n",
      "argumen kata kunci k:9\n",
      "argumen posisi 1\n",
      "argumen posisi 2\n",
      "argumen kata kunci j:8\n",
      "argumen kata kunci k:9\n",
      "argumen posisi 2\n",
      "argumen posisi 3\n",
      "argumen kata kunci i:7\n",
      "argumen kata kunci j:8\n"
     ]
    }
   ],
   "source": [
    "#argumen pada fungsi\n",
    "#keyword argumen dan positional argument\n",
    "\n",
    "#contoh keyword argument\n",
    "def printinfo(*args, **kwargs):\n",
    "    for a in args:\n",
    "        print('argumen posisi {}'.format(a))\n",
    "    for key, value in kwargs.items():\n",
    "        print('argumen kata kunci {}:{}'.format(key, value))\n",
    " \n",
    " \n",
    "# Panggil printinfo\n",
    "printinfo()\n",
    "printinfo(1, 2, 3)\n",
    "printinfo(i=7, j=8, k=9)\n",
    "printinfo(1, 2, j=8, k=9)\n",
    "printinfo(*(2, 3), **{'i':7, 'j':8})\n"
   ]
  },
  {
   "cell_type": "code",
   "execution_count": 9,
   "id": "a3484551",
   "metadata": {},
   "outputs": [
    {
     "name": "stdout",
     "output_type": "stream",
     "text": [
      "5\n"
     ]
    }
   ],
   "source": [
    "#lambda\n",
    "\"\"\"\n",
    "lambda [arg1 [,arg2,.....argn]]:expression\n",
    "\"\"\"\n",
    "x = lambda a, b : a+b\n",
    "print(x(2, 3))"
   ]
  },
  {
   "cell_type": "code",
   "execution_count": 10,
   "id": "ee376bd1",
   "metadata": {},
   "outputs": [
    {
     "name": "stdout",
     "output_type": "stream",
     "text": [
      "['C:\\\\Users\\\\HP\\\\OneDrive\\\\Documents', 'C:\\\\Users\\\\HP\\\\AppData\\\\Local\\\\Programs\\\\Python\\\\Python311\\\\python311.zip', 'C:\\\\Users\\\\HP\\\\AppData\\\\Local\\\\Programs\\\\Python\\\\Python311\\\\DLLs', 'C:\\\\Users\\\\HP\\\\AppData\\\\Local\\\\Programs\\\\Python\\\\Python311\\\\Lib', 'C:\\\\Users\\\\HP\\\\AppData\\\\Local\\\\Programs\\\\Python\\\\Python311', '', 'C:\\\\Users\\\\HP\\\\AppData\\\\Local\\\\Programs\\\\Python\\\\Python311\\\\Lib\\\\site-packages', 'C:\\\\Users\\\\HP\\\\AppData\\\\Local\\\\Programs\\\\Python\\\\Python311\\\\Lib\\\\site-packages\\\\win32', 'C:\\\\Users\\\\HP\\\\AppData\\\\Local\\\\Programs\\\\Python\\\\Python311\\\\Lib\\\\site-packages\\\\win32\\\\lib', 'C:\\\\Users\\\\HP\\\\AppData\\\\Local\\\\Programs\\\\Python\\\\Python311\\\\Lib\\\\site-packages\\\\Pythonwin']\n"
     ]
    }
   ],
   "source": [
    "import sys\n",
    "print(sys.path)"
   ]
  }
 ],
 "metadata": {
  "kernelspec": {
   "display_name": "Python 3 (ipykernel)",
   "language": "python",
   "name": "python3"
  },
  "language_info": {
   "codemirror_mode": {
    "name": "ipython",
    "version": 3
   },
   "file_extension": ".py",
   "mimetype": "text/x-python",
   "name": "python",
   "nbconvert_exporter": "python",
   "pygments_lexer": "ipython3",
   "version": "3.11.3"
  }
 },
 "nbformat": 4,
 "nbformat_minor": 5
}
