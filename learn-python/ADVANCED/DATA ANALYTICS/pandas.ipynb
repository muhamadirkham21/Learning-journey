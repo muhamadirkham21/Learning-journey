{
 "cells": [
  {
   "cell_type": "code",
   "execution_count": 1,
   "id": "e17e9f34",
   "metadata": {},
   "outputs": [],
   "source": [
    "import pandas as pd"
   ]
  },
  {
   "cell_type": "code",
   "execution_count": 4,
   "id": "7e932a5a",
   "metadata": {},
   "outputs": [
    {
     "data": {
      "text/html": [
       "<div>\n",
       "<style scoped>\n",
       "    .dataframe tbody tr th:only-of-type {\n",
       "        vertical-align: middle;\n",
       "    }\n",
       "\n",
       "    .dataframe tbody tr th {\n",
       "        vertical-align: top;\n",
       "    }\n",
       "\n",
       "    .dataframe thead th {\n",
       "        text-align: right;\n",
       "    }\n",
       "</style>\n",
       "<table border=\"1\" class=\"dataframe\">\n",
       "  <thead>\n",
       "    <tr style=\"text-align: right;\">\n",
       "      <th></th>\n",
       "      <th>id</th>\n",
       "      <th>name</th>\n",
       "      <th>location</th>\n",
       "    </tr>\n",
       "  </thead>\n",
       "  <tbody>\n",
       "    <tr>\n",
       "      <th>0</th>\n",
       "      <td>1</td>\n",
       "      <td>grab</td>\n",
       "      <td>jakarta</td>\n",
       "    </tr>\n",
       "    <tr>\n",
       "      <th>1</th>\n",
       "      <td>2</td>\n",
       "      <td>traveloka</td>\n",
       "      <td>tangerang</td>\n",
       "    </tr>\n",
       "    <tr>\n",
       "      <th>2</th>\n",
       "      <td>3</td>\n",
       "      <td>telkom</td>\n",
       "      <td>bandung</td>\n",
       "    </tr>\n",
       "    <tr>\n",
       "      <th>3</th>\n",
       "      <td>4</td>\n",
       "      <td>bank indonesia</td>\n",
       "      <td>jakarta</td>\n",
       "    </tr>\n",
       "    <tr>\n",
       "      <th>4</th>\n",
       "      <td>5</td>\n",
       "      <td>gits</td>\n",
       "      <td>jakarta</td>\n",
       "    </tr>\n",
       "  </tbody>\n",
       "</table>\n",
       "</div>"
      ],
      "text/plain": [
       "   id            name   location\n",
       "0   1            grab    jakarta\n",
       "1   2       traveloka  tangerang\n",
       "2   3          telkom    bandung\n",
       "3   4  bank indonesia    jakarta\n",
       "4   5            gits    jakarta"
      ]
     },
     "execution_count": 4,
     "metadata": {},
     "output_type": "execute_result"
    }
   ],
   "source": [
    "#dictionary ke dataframe\n",
    "companies = {\n",
    "    'id' : range(1, 6),\n",
    "    'name' : ['grab', 'traveloka', 'telkom', 'bank indonesia', 'gits'],\n",
    "    'location' : ['jakarta', 'tangerang', 'bandung', 'jakarta', 'jakarta']\n",
    "}\n",
    "\n",
    "companies_df = pd.DataFrame(companies)\n",
    "companies_df"
   ]
  },
  {
   "cell_type": "code",
   "execution_count": 7,
   "id": "fc3e506d",
   "metadata": {},
   "outputs": [
    {
     "name": "stdout",
     "output_type": "stream",
     "text": [
      "[5000, 7865, 5643, 9998, 7000]\n",
      "0    5000\n",
      "1    7865\n",
      "2    5643\n",
      "3    9998\n",
      "4    7000\n",
      "dtype: int64\n"
     ]
    }
   ],
   "source": [
    "#pandas series == sama dengan 1 kolom dalam sebuah tabel\n",
    "\n",
    "employees = [5000, 7865, 5643, 9998, 7000]\n",
    "employees_series = pd.Series(employees)\n",
    "print(employees)\n",
    "print(employees_series)"
   ]
  },
  {
   "cell_type": "code",
   "execution_count": null,
   "id": "79a67e3d",
   "metadata": {},
   "outputs": [],
   "source": [
    "#pandas read file\n",
    "#read_csv"
   ]
  }
 ],
 "metadata": {
  "kernelspec": {
   "display_name": "Python 3 (ipykernel)",
   "language": "python",
   "name": "python3"
  },
  "language_info": {
   "codemirror_mode": {
    "name": "ipython",
    "version": 3
   },
   "file_extension": ".py",
   "mimetype": "text/x-python",
   "name": "python",
   "nbconvert_exporter": "python",
   "pygments_lexer": "ipython3",
   "version": "3.11.3"
  }
 },
 "nbformat": 4,
 "nbformat_minor": 5
}
