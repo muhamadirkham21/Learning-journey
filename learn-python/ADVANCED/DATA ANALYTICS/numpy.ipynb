{
 "cells": [
  {
   "cell_type": "code",
   "execution_count": 1,
   "id": "71cc9f7e",
   "metadata": {},
   "outputs": [
    {
     "name": "stdout",
     "output_type": "stream",
     "text": [
      "set up already !\n"
     ]
    }
   ],
   "source": [
    "print('set up already !')"
   ]
  },
  {
   "cell_type": "code",
   "execution_count": 2,
   "id": "f7e66df2",
   "metadata": {},
   "outputs": [],
   "source": [
    "#mengimport module numpy.py\n",
    "import numpy as np"
   ]
  },
  {
   "cell_type": "code",
   "execution_count": 3,
   "id": "9bf7ef5c",
   "metadata": {},
   "outputs": [
    {
     "name": "stdout",
     "output_type": "stream",
     "text": [
      "['ALLOW_THREADS', 'AxisError', 'BUFSIZE', 'CLIP', 'ComplexWarning', 'DataSource', 'ERR_CALL', 'ERR_DEFAULT', 'ERR_IGNORE', 'ERR_LOG', 'ERR_PRINT', 'ERR_RAISE', 'ERR_WARN', 'FLOATING_POINT_SUPPORT', 'FPE_DIVIDEBYZERO', 'FPE_INVALID', 'FPE_OVERFLOW', 'FPE_UNDERFLOW', 'False_', 'Inf', 'Infinity', 'MAXDIMS', 'MAY_SHARE_BOUNDS', 'MAY_SHARE_EXACT', 'ModuleDeprecationWarning', 'NAN', 'NINF', 'NZERO', 'NaN', 'PINF', 'PZERO', 'RAISE', 'RankWarning', 'SHIFT_DIVIDEBYZERO', 'SHIFT_INVALID', 'SHIFT_OVERFLOW', 'SHIFT_UNDERFLOW', 'ScalarType', 'Tester', 'TooHardError', 'True_', 'UFUNC_BUFSIZE_DEFAULT', 'UFUNC_PYVALS_NAME', 'VisibleDeprecationWarning', 'WRAP', '_CopyMode', '_NoValue', '_UFUNC_API', '__NUMPY_SETUP__', '__all__', '__builtins__', '__cached__', '__config__', '__deprecated_attrs__', '__dir__', '__doc__', '__expired_functions__', '__file__', '__getattr__', '__git_version__', '__loader__', '__name__', '__package__', '__path__', '__spec__', '__version__', '_add_newdoc_ufunc', '_distributor_init', '_financial_names', '_globals', '_mat', '_pyinstaller_hooks_dir', '_pytesttester', '_version', 'abs', 'absolute', 'add', 'add_docstring', 'add_newdoc', 'add_newdoc_ufunc', 'all', 'allclose', 'alltrue', 'amax', 'amin', 'angle', 'any', 'append', 'apply_along_axis', 'apply_over_axes', 'arange', 'arccos', 'arccosh', 'arcsin', 'arcsinh', 'arctan', 'arctan2', 'arctanh', 'argmax', 'argmin', 'argpartition', 'argsort', 'argwhere', 'around', 'array', 'array2string', 'array_equal', 'array_equiv', 'array_repr', 'array_split', 'array_str', 'asanyarray', 'asarray', 'asarray_chkfinite', 'ascontiguousarray', 'asfarray', 'asfortranarray', 'asmatrix', 'atleast_1d', 'atleast_2d', 'atleast_3d', 'average', 'bartlett', 'base_repr', 'binary_repr', 'bincount', 'bitwise_and', 'bitwise_not', 'bitwise_or', 'bitwise_xor', 'blackman', 'block', 'bmat', 'bool8', 'bool_', 'broadcast', 'broadcast_arrays', 'broadcast_shapes', 'broadcast_to', 'busday_count', 'busday_offset', 'busdaycalendar', 'byte', 'byte_bounds', 'bytes0', 'bytes_', 'c_', 'can_cast', 'cast', 'cbrt', 'cdouble', 'ceil', 'cfloat', 'char', 'character', 'chararray', 'choose', 'clip', 'clongdouble', 'clongfloat', 'column_stack', 'common_type', 'compare_chararrays', 'compat', 'complex128', 'complex64', 'complex_', 'complexfloating', 'compress', 'concatenate', 'conj', 'conjugate', 'convolve', 'copy', 'copysign', 'copyto', 'core', 'corrcoef', 'correlate', 'cos', 'cosh', 'count_nonzero', 'cov', 'cross', 'csingle', 'ctypeslib', 'cumprod', 'cumproduct', 'cumsum', 'datetime64', 'datetime_as_string', 'datetime_data', 'deg2rad', 'degrees', 'delete', 'deprecate', 'deprecate_with_doc', 'diag', 'diag_indices', 'diag_indices_from', 'diagflat', 'diagonal', 'diff', 'digitize', 'disp', 'divide', 'divmod', 'dot', 'double', 'dsplit', 'dstack', 'dtype', 'e', 'ediff1d', 'einsum', 'einsum_path', 'emath', 'empty', 'empty_like', 'equal', 'errstate', 'euler_gamma', 'exp', 'exp2', 'expand_dims', 'expm1', 'extract', 'eye', 'fabs', 'fastCopyAndTranspose', 'fft', 'fill_diagonal', 'find_common_type', 'finfo', 'fix', 'flatiter', 'flatnonzero', 'flexible', 'flip', 'fliplr', 'flipud', 'float16', 'float32', 'float64', 'float_', 'float_power', 'floating', 'floor', 'floor_divide', 'fmax', 'fmin', 'fmod', 'format_float_positional', 'format_float_scientific', 'format_parser', 'frexp', 'from_dlpack', 'frombuffer', 'fromfile', 'fromfunction', 'fromiter', 'frompyfunc', 'fromregex', 'fromstring', 'full', 'full_like', 'gcd', 'generic', 'genfromtxt', 'geomspace', 'get_array_wrap', 'get_include', 'get_printoptions', 'getbufsize', 'geterr', 'geterrcall', 'geterrobj', 'gradient', 'greater', 'greater_equal', 'half', 'hamming', 'hanning', 'heaviside', 'histogram', 'histogram2d', 'histogram_bin_edges', 'histogramdd', 'hsplit', 'hstack', 'hypot', 'i0', 'identity', 'iinfo', 'imag', 'in1d', 'index_exp', 'indices', 'inexact', 'inf', 'info', 'infty', 'inner', 'insert', 'int0', 'int16', 'int32', 'int64', 'int8', 'int_', 'intc', 'integer', 'interp', 'intersect1d', 'intp', 'invert', 'is_busday', 'isclose', 'iscomplex', 'iscomplexobj', 'isfinite', 'isfortran', 'isin', 'isinf', 'isnan', 'isnat', 'isneginf', 'isposinf', 'isreal', 'isrealobj', 'isscalar', 'issctype', 'issubclass_', 'issubdtype', 'issubsctype', 'iterable', 'ix_', 'kaiser', 'kron', 'lcm', 'ldexp', 'left_shift', 'less', 'less_equal', 'lexsort', 'lib', 'linalg', 'linspace', 'little_endian', 'load', 'loadtxt', 'log', 'log10', 'log1p', 'log2', 'logaddexp', 'logaddexp2', 'logical_and', 'logical_not', 'logical_or', 'logical_xor', 'logspace', 'longcomplex', 'longdouble', 'longfloat', 'longlong', 'lookfor', 'ma', 'mask_indices', 'mat', 'math', 'matmul', 'matrix', 'matrixlib', 'max', 'maximum', 'maximum_sctype', 'may_share_memory', 'mean', 'median', 'memmap', 'meshgrid', 'mgrid', 'min', 'min_scalar_type', 'minimum', 'mintypecode', 'mod', 'modf', 'moveaxis', 'msort', 'multiply', 'nan', 'nan_to_num', 'nanargmax', 'nanargmin', 'nancumprod', 'nancumsum', 'nanmax', 'nanmean', 'nanmedian', 'nanmin', 'nanpercentile', 'nanprod', 'nanquantile', 'nanstd', 'nansum', 'nanvar', 'nbytes', 'ndarray', 'ndenumerate', 'ndim', 'ndindex', 'nditer', 'negative', 'nested_iters', 'newaxis', 'nextafter', 'nonzero', 'not_equal', 'numarray', 'number', 'obj2sctype', 'object0', 'object_', 'ogrid', 'oldnumeric', 'ones', 'ones_like', 'os', 'outer', 'packbits', 'pad', 'partition', 'percentile', 'pi', 'piecewise', 'place', 'poly', 'poly1d', 'polyadd', 'polyder', 'polydiv', 'polyfit', 'polyint', 'polymul', 'polynomial', 'polysub', 'polyval', 'positive', 'power', 'printoptions', 'prod', 'product', 'promote_types', 'ptp', 'put', 'put_along_axis', 'putmask', 'quantile', 'r_', 'rad2deg', 'radians', 'random', 'ravel', 'ravel_multi_index', 'real', 'real_if_close', 'rec', 'recarray', 'recfromcsv', 'recfromtxt', 'reciprocal', 'record', 'remainder', 'repeat', 'require', 'reshape', 'resize', 'result_type', 'right_shift', 'rint', 'roll', 'rollaxis', 'roots', 'rot90', 'round', 'round_', 'row_stack', 's_', 'safe_eval', 'save', 'savetxt', 'savez', 'savez_compressed', 'sctype2char', 'sctypeDict', 'sctypes', 'searchsorted', 'select', 'set_numeric_ops', 'set_printoptions', 'set_string_function', 'setbufsize', 'setdiff1d', 'seterr', 'seterrcall', 'seterrobj', 'setxor1d', 'shape', 'shares_memory', 'short', 'show_config', 'sign', 'signbit', 'signedinteger', 'sin', 'sinc', 'single', 'singlecomplex', 'sinh', 'size', 'sometrue', 'sort', 'sort_complex', 'source', 'spacing', 'split', 'sqrt', 'square', 'squeeze', 'stack', 'std', 'str0', 'str_', 'string_', 'subtract', 'sum', 'swapaxes', 'sys', 'take', 'take_along_axis', 'tan', 'tanh', 'tensordot', 'test', 'testing', 'tile', 'timedelta64', 'trace', 'tracemalloc_domain', 'transpose', 'trapz', 'tri', 'tril', 'tril_indices', 'tril_indices_from', 'trim_zeros', 'triu', 'triu_indices', 'triu_indices_from', 'true_divide', 'trunc', 'typecodes', 'typename', 'ubyte', 'ufunc', 'uint', 'uint0', 'uint16', 'uint32', 'uint64', 'uint8', 'uintc', 'uintp', 'ulonglong', 'unicode_', 'union1d', 'unique', 'unpackbits', 'unravel_index', 'unsignedinteger', 'unwrap', 'use_hugepage', 'ushort', 'vander', 'var', 'vdot', 'vectorize', 'version', 'void', 'void0', 'vsplit', 'vstack', 'warnings', 'where', 'who', 'zeros', 'zeros_like']\n"
     ]
    }
   ],
   "source": [
    "#beberapa method yg dimiliki oleh numpy\n",
    "print(dir(np))"
   ]
  },
  {
   "cell_type": "markdown",
   "id": "0328b600",
   "metadata": {},
   "source": [
    "## Membuat array"
   ]
  },
  {
   "cell_type": "code",
   "execution_count": 23,
   "id": "4f8f1952",
   "metadata": {},
   "outputs": [
    {
     "name": "stdout",
     "output_type": "stream",
     "text": [
      "[2 1 4 5 5 7 4 4 2 1]\n",
      "\n",
      "[[2 1 3 4]\n",
      " [3 1 1 3]\n",
      " [2 2 2 8]\n",
      " [3 4 2 7]\n",
      " [0 1 3 2]]\n",
      "\n",
      "[ 1  4  7 10 13]\n",
      "\n",
      "[ 0  1  4  9 16]\n"
     ]
    }
   ],
   "source": [
    "#membuat sebuah array\n",
    "\n",
    "A = np.array([2, 1, 4, 5, 5, 7, 4, 4, 2, 1])\n",
    "B = np.array([\n",
    "    [2, 1, 3, 4],\n",
    "    [3, 1, 1, 3],\n",
    "    [2, 2, 2, 8], \n",
    "    [3, 4, 2, 7],\n",
    "    [0, 1, 3, 2]\n",
    "])\n",
    "\n",
    "C = np.arange(1, 16, 3)\n",
    "list_ = [a**2 for a in range(5)]\n",
    "D = np.fromiter(list_, dtype=np.int64)\n",
    "\n",
    "print(A)\n",
    "print()\n",
    "print(B)\n",
    "print()\n",
    "print(C)\n",
    "print()\n",
    "print(D)"
   ]
  },
  {
   "cell_type": "code",
   "execution_count": 21,
   "id": "462a6f8b",
   "metadata": {},
   "outputs": [
    {
     "name": "stdout",
     "output_type": "stream",
     "text": [
      "[ 2. 10.]\n",
      "\n",
      "[[1. 1. 1.]\n",
      " [1. 1. 1.]]\n",
      "\n",
      "[[0. 0. 0.]\n",
      " [0. 0. 0.]\n",
      " [0. 0. 0.]]\n",
      "[[1. 0. 0.]\n",
      " [0. 1. 0.]\n",
      " [0. 0. 1.]]\n",
      "[[5]\n",
      " [5]\n",
      " [5]\n",
      " [5]]\n"
     ]
    }
   ],
   "source": [
    "X = np.linspace(2, 10, 2, dtype = np.float64)\n",
    "print(X)\n",
    "print()\n",
    "Y = np.ones([2, 3], dtype=np.float32)\n",
    "print(Y)\n",
    "print()\n",
    "Z = np.zeros([3, 3], dtype=np.float32)\n",
    "print(Z)\n",
    "\n",
    "AB = np.identity(3)\n",
    "print(AB)\n",
    "\n",
    "#membuat array full\n",
    "five = np.full([4, 1], 5)\n",
    "print(five)"
   ]
  },
  {
   "cell_type": "code",
   "execution_count": 24,
   "id": "c808b5a6",
   "metadata": {},
   "outputs": [
    {
     "name": "stdout",
     "output_type": "stream",
     "text": [
      "(10,)\n",
      "(5, 4)\n",
      "2\n"
     ]
    }
   ],
   "source": [
    "#sifat array\n",
    "print(A.shape)\n",
    "print(B.shape)\n",
    "print(B.ndim)"
   ]
  },
  {
   "cell_type": "markdown",
   "id": "bd8c524c",
   "metadata": {},
   "source": [
    "## Akses dan slicing array"
   ]
  },
  {
   "cell_type": "code",
   "execution_count": 25,
   "id": "fa0e8648",
   "metadata": {},
   "outputs": [
    {
     "name": "stdout",
     "output_type": "stream",
     "text": [
      "[1 4 5 5 7 4 4 2 1]\n",
      "1\n",
      "[2 1 4 5 5 7 4 4 2]\n"
     ]
    }
   ],
   "source": [
    "#mengakses array numpy sama dengan list\n",
    "print(A[1:])\n",
    "print(A[-1])\n",
    "print(A[:-1])"
   ]
  },
  {
   "cell_type": "code",
   "execution_count": 27,
   "id": "7130ee19",
   "metadata": {},
   "outputs": [
    {
     "name": "stdout",
     "output_type": "stream",
     "text": [
      "[[2 1 3 4]\n",
      " [3 1 1 3]\n",
      " [2 2 2 8]\n",
      " [3 4 2 7]\n",
      " [0 1 3 2]]\n",
      "[3 1 1 3]\n",
      "\n",
      "1\n",
      "\n",
      "[3 8]\n",
      "\n",
      "mengambil baris kolom ketiga saja : [3 1 2 2 3]\n"
     ]
    }
   ],
   "source": [
    "B = np.array([\n",
    "    [2, 1, 3, 4],\n",
    "    [3, 1, 1, 3],\n",
    "    [2, 2, 2, 8], \n",
    "    [3, 4, 2, 7],\n",
    "    [0, 1, 3, 2]\n",
    "])\n",
    "\n",
    "print(B)\n",
    "print(B[1])\n",
    "print()\n",
    "print(B[1, 1])\n",
    "print()\n",
    "print(B[1:3, -1])\n",
    "print()\n",
    "print('mengambil baris kolom ketiga saja : {}'.format(B[:, 2]))"
   ]
  },
  {
   "cell_type": "code",
   "execution_count": 9,
   "id": "e6952b08",
   "metadata": {},
   "outputs": [
    {
     "name": "stdout",
     "output_type": "stream",
     "text": [
      "[2 3 4 3 3 2 2 2 8 3 4 2 7 3 2]\n"
     ]
    }
   ],
   "source": [
    "#slicing dengan boolean\n",
    "greather_one = B > 1\n",
    "print(B[greather_one])\n"
   ]
  },
  {
   "cell_type": "markdown",
   "id": "0b001fb3",
   "metadata": {},
   "source": [
    "## manipulasi array"
   ]
  },
  {
   "cell_type": "code",
   "execution_count": 28,
   "id": "a21ac049",
   "metadata": {},
   "outputs": [
    {
     "name": "stdout",
     "output_type": "stream",
     "text": [
      "[3 2 5 6 6 8 5 5 3 2]\n",
      "\n",
      "[[ 4  2  6  8]\n",
      " [ 6  2  2  6]\n",
      " [ 4  4  4 16]\n",
      " [ 6  8  4 14]\n",
      " [ 0  2  6  4]]\n",
      "\n",
      "[[2 3 2 3 0]\n",
      " [1 1 2 4 1]\n",
      " [3 1 2 2 3]\n",
      " [4 3 8 7 2]]\n"
     ]
    }
   ],
   "source": [
    "#operasi aritmatika pada array\n",
    "# operasi tiap element(element wise)\n",
    "print(A + 1)\n",
    "print()\n",
    "print(B * 2)\n",
    "print()\n",
    "print(B.T)"
   ]
  },
  {
   "cell_type": "code",
   "execution_count": 29,
   "id": "7cc7ea67",
   "metadata": {},
   "outputs": [
    {
     "name": "stdout",
     "output_type": "stream",
     "text": [
      "[2. 1. 4. 5. 5. 7. 4. 4. 2. 1.]\n",
      "[[2. 1. 3. 4.]\n",
      " [3. 1. 1. 3.]\n",
      " [2. 2. 2. 8.]\n",
      " [3. 4. 2. 7.]\n",
      " [0. 1. 3. 2.]]\n"
     ]
    }
   ],
   "source": [
    "#tipe angka pada array \n",
    "#np.int64 atau np.float64\n",
    "\n",
    "A = np.array(A, dtype=np.float64)\n",
    "print(A)\n",
    "B = np.array(B, dtype=np.float64)\n",
    "print(B)"
   ]
  },
  {
   "cell_type": "code",
   "execution_count": 30,
   "id": "ddeca59f",
   "metadata": {},
   "outputs": [
    {
     "name": "stdout",
     "output_type": "stream",
     "text": [
      "[2. 1. 4. 5. 5. 7. 4. 4. 2. 1.]\n",
      "[ 2.  1.  4.  5.  5.  7.  4.  4.  2.  1. 20. 40.]\n"
     ]
    }
   ],
   "source": [
    "#menambahkan elemen kedalam array\n",
    "\n",
    "G = np.copy(A)\n",
    "print(G)\n",
    "G = np.append(G, [20, 40])\n",
    "print(G)"
   ]
  },
  {
   "cell_type": "code",
   "execution_count": 31,
   "id": "edecaecd",
   "metadata": {},
   "outputs": [
    {
     "name": "stdout",
     "output_type": "stream",
     "text": [
      "[[ 2.  1.  4.  5.]\n",
      " [ 5.  7.  4.  4.]\n",
      " [ 2.  1. 20. 40.]]\n",
      "[[2.]\n",
      " [1.]\n",
      " [4.]\n",
      " [5.]\n",
      " [5.]\n",
      " [7.]\n",
      " [4.]\n",
      " [4.]\n",
      " [2.]\n",
      " [1.]]\n",
      "(10, 1)\n"
     ]
    }
   ],
   "source": [
    "#merubah ukuran array\n",
    "H = np.reshape(G, (3, 4))\n",
    "print(H)\n",
    "\n",
    "#menambah dimensi dengan expand dim\n",
    "J = np.copy(A)\n",
    "J = np.expand_dims(J, axis=1)\n",
    "print(J)\n",
    "print(J.shape)"
   ]
  },
  {
   "cell_type": "code",
   "execution_count": 32,
   "id": "45b499e0",
   "metadata": {},
   "outputs": [
    {
     "name": "stdout",
     "output_type": "stream",
     "text": [
      "[[  2.   1.   4.   5. 100.]\n",
      " [  5.   7.   4.   4.  99.]\n",
      " [  2.   1.  20.  40. 101.]]\n"
     ]
    }
   ],
   "source": [
    "#menambah kolom baru dengan array[100, 99, 101]\n",
    "new_col = np.array([100, 99, 101]).reshape(3, 1)\n",
    "H = np.append(H, new_col, axis=1) #Axis 1 artinya merujuk pada colomn jika axis = 0 merujuk pada baris\n",
    "print(H)"
   ]
  },
  {
   "cell_type": "code",
   "execution_count": 33,
   "id": "7cb73912",
   "metadata": {},
   "outputs": [
    {
     "name": "stdout",
     "output_type": "stream",
     "text": [
      "[2. 1. 4. 5. 5. 7. 4. 4. 2. 1.]\n",
      "[1. 2. 4. 5. 7.]\n"
     ]
    }
   ],
   "source": [
    "#np.unique\n",
    "K = np.copy(A)\n",
    "print(A)\n",
    "print(np.unique(K))"
   ]
  },
  {
   "cell_type": "code",
   "execution_count": 34,
   "id": "cb93ab13",
   "metadata": {},
   "outputs": [
    {
     "name": "stdout",
     "output_type": "stream",
     "text": [
      "[[2. 1. 4. 5. 5.]\n",
      " [7. 4. 4. 2. 1.]]\n",
      "[1. 2. 4. 5. 7.]\n",
      "[[2. 1. 4. 5. 5.]\n",
      " [7. 4. 4. 2. 1.]]\n",
      "[[1. 2. 4. 5. 5.]\n",
      " [4. 7. 4. 1. 2.]]\n"
     ]
    }
   ],
   "source": [
    "l = np.copy(A).reshape(2, 5)\n",
    "print(l)\n",
    "print(np.unique(l))\n",
    "print(np.unique(l, axis=0))\n",
    "print(np.unique(l, axis = 1))\n",
    "\n",
    "#axis=0 merujuk pada baris yg unik,  axis=1 merujuk pada colom yang unik"
   ]
  },
  {
   "cell_type": "code",
   "execution_count": 2,
   "id": "814a8691",
   "metadata": {},
   "outputs": [],
   "source": [
    "import numpy as np"
   ]
  },
  {
   "cell_type": "code",
   "execution_count": 4,
   "id": "1b3b6f78",
   "metadata": {},
   "outputs": [
    {
     "name": "stdout",
     "output_type": "stream",
     "text": [
      "[[0 1 2]\n",
      " [3 4 5]]\n",
      "\n",
      "[[4 5 6]\n",
      " [7 8 9]]\n",
      "[[ 4  6  8]\n",
      " [10 12 14]]\n",
      "[[22 25]\n",
      " [76 88]]\n",
      "[[22 25]\n",
      " [76 88]]\n"
     ]
    }
   ],
   "source": [
    "#Matriks manipulasi numpy\n",
    "M = np.arange(6).reshape(2, 3)\n",
    "N = np.arange(4, 10).reshape(2, 3)\n",
    "print(M)\n",
    "print()\n",
    "print(N)\n",
    "\n",
    "#menambah matriks\n",
    "print(np.add(M, N))\n",
    "\n",
    "#perkalian matriks\n",
    "print(np.matmul(M, np.reshape(N, (3, 2))))\n",
    "print(M @ np.reshape(N, (3, 2)))"
   ]
  },
  {
   "cell_type": "code",
   "execution_count": 19,
   "id": "1bba4440",
   "metadata": {},
   "outputs": [
    {
     "name": "stdout",
     "output_type": "stream",
     "text": [
      "[[1 2]\n",
      " [3 4]]\n",
      "[[5 6]\n",
      " [7 8]]\n",
      "[[19 22]\n",
      " [43 50]]\n"
     ]
    }
   ],
   "source": [
    "#pelajari np.linalg modul untuk lebih lanjut\n",
    "#perkalian matrix\n",
    "\n",
    "A = np.arange(1, 5).reshape(2, 2)\n",
    "B = np.arange(5, 9).reshape(2, 2)\n",
    "print(A)\n",
    "print(B)\n",
    "print(np.dot(A, B))"
   ]
  },
  {
   "cell_type": "code",
   "execution_count": 20,
   "id": "e03e24f0",
   "metadata": {},
   "outputs": [
    {
     "name": "stdout",
     "output_type": "stream",
     "text": [
      "[[8]\n",
      " [5]]\n"
     ]
    }
   ],
   "source": [
    "A = np.array([\n",
    "    [2, 3],\n",
    "    [1, 2]\n",
    "])\n",
    "\n",
    "B = np.array([1, 2]).reshape(2, 1)\n",
    "\n",
    "print(np.dot(A, B))"
   ]
  },
  {
   "cell_type": "code",
   "execution_count": 21,
   "id": "3bde777b",
   "metadata": {},
   "outputs": [
    {
     "name": "stdout",
     "output_type": "stream",
     "text": [
      "[1 2 3 4] [1 2 3 4]\n",
      "30\n",
      "30\n"
     ]
    }
   ],
   "source": [
    "#perkalian vektor\n",
    "#dot product\n",
    "\n",
    "a = np.arange(1, 5)\n",
    "b = np.arange(1, 5)\n",
    "print(a, b)\n",
    "print(np.dot(a, b))\n",
    "print(a @ b)"
   ]
  },
  {
   "cell_type": "code",
   "execution_count": 22,
   "id": "e57d01f4",
   "metadata": {},
   "outputs": [
    {
     "name": "stdout",
     "output_type": "stream",
     "text": [
      "[0 0]\n"
     ]
    }
   ],
   "source": [
    "#cross product\n",
    "a = a.reshape(2,2)\n",
    "b = b.reshape(2,2)\n",
    "print(np.cross(a, b))"
   ]
  },
  {
   "cell_type": "code",
   "execution_count": 23,
   "id": "7b60f498",
   "metadata": {},
   "outputs": [
    {
     "name": "stdout",
     "output_type": "stream",
     "text": [
      "-131.99999999999997\n"
     ]
    }
   ],
   "source": [
    "#determinan matriks\n",
    "from numpy import linalg as la\n",
    "\n",
    "a = np.array([\n",
    "    [2, 3, 2],\n",
    "    [9, 2, 3],\n",
    "    [1, 2, 7]\n",
    "])\n",
    "print(la.det(a))"
   ]
  },
  {
   "cell_type": "code",
   "execution_count": 24,
   "id": "5d16682c",
   "metadata": {},
   "outputs": [
    {
     "name": "stdout",
     "output_type": "stream",
     "text": [
      "3.999999999999999\n",
      "[[ 0.5  -0.5 ]\n",
      " [-0.75  1.25]]\n"
     ]
    }
   ],
   "source": [
    "#ivers matriks\n",
    "a = np.array([\n",
    "    [5, 2],\n",
    "    [3, 2]\n",
    "])\n",
    "\n",
    "print(la.det(a))\n",
    "print(la.inv(a))\n",
    "\n"
   ]
  },
  {
   "cell_type": "markdown",
   "id": "af03b738",
   "metadata": {},
   "source": [
    "## basic statistic"
   ]
  },
  {
   "cell_type": "code",
   "execution_count": 25,
   "id": "786dd9f3",
   "metadata": {},
   "outputs": [
    {
     "name": "stdout",
     "output_type": "stream",
     "text": [
      "5.0\n",
      "3.3333333333333335\n",
      "[3. 3. 4.]\n"
     ]
    }
   ],
   "source": [
    "#numpy summary statistic\n",
    "#mean\n",
    "\n",
    "A = np.array([1, 3, 5, 7, 9])\n",
    "B = np.array([\n",
    "    [2, 3, 4],\n",
    "    [3, 4, 2],\n",
    "    [6, 2, 4]\n",
    "])\n",
    "\n",
    "print(A.mean())\n",
    "print(B.mean())\n",
    "print(B.mean(axis=1))"
   ]
  },
  {
   "cell_type": "code",
   "execution_count": 41,
   "id": "e8295027",
   "metadata": {},
   "outputs": [
    {
     "name": "stdout",
     "output_type": "stream",
     "text": [
      "5.0\n",
      "[3. 3. 4.]\n"
     ]
    }
   ],
   "source": [
    "#median\n",
    "A = np.array([1, 3, 5, 7, 9])\n",
    "print(np.median(A))\n",
    "\n",
    "B = np.array([\n",
    "    [2, 3, 4],\n",
    "    [3, 4, 2],\n",
    "    [6, 2, 4]\n",
    "])\n",
    "print(np.median(B, axis=1))"
   ]
  },
  {
   "cell_type": "code",
   "execution_count": 42,
   "id": "e2f93ce8",
   "metadata": {},
   "outputs": [
    {
     "data": {
      "text/plain": [
       "2.8284271247461903"
      ]
     },
     "execution_count": 42,
     "metadata": {},
     "output_type": "execute_result"
    }
   ],
   "source": [
    "#standar deviation\n",
    "A.std()"
   ]
  },
  {
   "cell_type": "code",
   "execution_count": 28,
   "id": "c807ee0e",
   "metadata": {},
   "outputs": [
    {
     "name": "stdout",
     "output_type": "stream",
     "text": [
      "25\n",
      "[11  9 10]\n",
      "[ 9  9 12]\n"
     ]
    }
   ],
   "source": [
    "#sum\n",
    "print(A.sum())\n",
    "print(B.sum(axis=0)) # axis 0 merujuk pada kolom\n",
    "print(B.sum(axis=1)) #axis 1 merukuk pada baris"
   ]
  },
  {
   "cell_type": "markdown",
   "id": "e2145046",
   "metadata": {},
   "source": [
    "# random"
   ]
  },
  {
   "cell_type": "code",
   "execution_count": 3,
   "id": "34b71045",
   "metadata": {},
   "outputs": [
    {
     "data": {
      "text/plain": [
       "array([[0.21499066, 0.2037752 , 0.9141236 ],\n",
       "       [0.07016582, 0.13384128, 0.52510115]])"
      ]
     },
     "execution_count": 3,
     "metadata": {},
     "output_type": "execute_result"
    }
   ],
   "source": [
    "a = np.random.rand(2, 3)\n",
    "a"
   ]
  },
  {
   "cell_type": "code",
   "execution_count": 5,
   "id": "68a496d7",
   "metadata": {},
   "outputs": [
    {
     "data": {
      "text/plain": [
       "array([0.37454012, 0.95071431, 0.73199394])"
      ]
     },
     "execution_count": 5,
     "metadata": {},
     "output_type": "execute_result"
    }
   ],
   "source": [
    "# random state\n",
    "state = np.random.RandomState(42)\n",
    "state.rand(3)"
   ]
  },
  {
   "cell_type": "markdown",
   "id": "9e2bb5ed",
   "metadata": {},
   "source": [
    "## numpy exercises"
   ]
  },
  {
   "cell_type": "code",
   "execution_count": 4,
   "id": "714f80ae",
   "metadata": {},
   "outputs": [
    {
     "name": "stdout",
     "output_type": "stream",
     "text": [
      "1\n"
     ]
    }
   ],
   "source": [
    "import math\n",
    "\n",
    "print(math.floor(3/2))"
   ]
  }
 ],
 "metadata": {
  "kernelspec": {
   "display_name": "Python 3 (ipykernel)",
   "language": "python",
   "name": "python3"
  },
  "language_info": {
   "codemirror_mode": {
    "name": "ipython",
    "version": 3
   },
   "file_extension": ".py",
   "mimetype": "text/x-python",
   "name": "python",
   "nbconvert_exporter": "python",
   "pygments_lexer": "ipython3",
   "version": "3.1.0"
  }
 },
 "nbformat": 4,
 "nbformat_minor": 5
}
