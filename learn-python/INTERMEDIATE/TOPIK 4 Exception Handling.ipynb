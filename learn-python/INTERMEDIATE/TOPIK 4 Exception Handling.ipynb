{
 "cells": [
  {
   "cell_type": "markdown",
   "id": "5a2d98bc",
   "metadata": {},
   "source": [
    "# Exception Handling"
   ]
  },
  {
   "cell_type": "code",
   "execution_count": 1,
   "id": "1542a0ac",
   "metadata": {},
   "outputs": [
    {
     "name": "stdout",
     "output_type": "stream",
     "text": [
      "set up finished!\n"
     ]
    }
   ],
   "source": [
    "print('set up finished!')"
   ]
  },
  {
   "cell_type": "code",
   "execution_count": 2,
   "id": "9ee0bf1e",
   "metadata": {},
   "outputs": [
    {
     "data": {
      "text/plain": [
       "'\\nThe try block lets you test a block of code for errors.\\n\\nThe except block lets you handle the error.\\n\\nThe else block lets you execute code when there is no error.\\n\\nThe finally block lets you execute code, regardless of the result of the try- and except blocks.\\n\\n'"
      ]
     },
     "execution_count": 2,
     "metadata": {},
     "output_type": "execute_result"
    }
   ],
   "source": [
    "\"\"\"\n",
    "The try block lets you test a block of code for errors.\n",
    "\n",
    "The except block lets you handle the error.\n",
    "\n",
    "The else block lets you execute code when there is no error.\n",
    "\n",
    "The finally block lets you execute code, regardless of the result of the try- and except blocks.\n",
    "\n",
    "\"\"\""
   ]
  },
  {
   "cell_type": "code",
   "execution_count": 3,
   "id": "b3fec154",
   "metadata": {},
   "outputs": [
    {
     "name": "stdout",
     "output_type": "stream",
     "text": [
      "2.0\n",
      "0.6666666666666666\n"
     ]
    },
    {
     "ename": "ZeroDivisionError",
     "evalue": "division by zero",
     "output_type": "error",
     "traceback": [
      "\u001b[1;31m---------------------------------------------------------------------------\u001b[0m",
      "\u001b[1;31mZeroDivisionError\u001b[0m                         Traceback (most recent call last)",
      "Cell \u001b[1;32mIn[3], line 6\u001b[0m\n\u001b[0;32m      4\u001b[0m \u001b[38;5;28mprint\u001b[39m(division(\u001b[38;5;241m2\u001b[39m,\u001b[38;5;241m1\u001b[39m))\n\u001b[0;32m      5\u001b[0m \u001b[38;5;28mprint\u001b[39m(division(\u001b[38;5;241m2\u001b[39m,\u001b[38;5;241m3\u001b[39m))\n\u001b[1;32m----> 6\u001b[0m \u001b[38;5;28mprint\u001b[39m(\u001b[43mdivision\u001b[49m\u001b[43m(\u001b[49m\u001b[38;5;241;43m2\u001b[39;49m\u001b[43m,\u001b[49m\u001b[38;5;241;43m0\u001b[39;49m\u001b[43m)\u001b[49m) \u001b[38;5;66;03m#akan error \u001b[39;00m\n",
      "Cell \u001b[1;32mIn[3], line 2\u001b[0m, in \u001b[0;36mdivision\u001b[1;34m(a, b)\u001b[0m\n\u001b[0;32m      1\u001b[0m \u001b[38;5;28;01mdef\u001b[39;00m \u001b[38;5;21mdivision\u001b[39m(a, b):\n\u001b[1;32m----> 2\u001b[0m     \u001b[38;5;28;01mreturn\u001b[39;00m \u001b[43ma\u001b[49m\u001b[43m \u001b[49m\u001b[38;5;241;43m/\u001b[39;49m\u001b[43m \u001b[49m\u001b[43mb\u001b[49m\n",
      "\u001b[1;31mZeroDivisionError\u001b[0m: division by zero"
     ]
    }
   ],
   "source": [
    "def division(a, b):\n",
    "    return a / b\n",
    "\n",
    "print(division(2,1))\n",
    "print(division(2,3))\n",
    "print(division(2,0)) #akan error "
   ]
  },
  {
   "cell_type": "code",
   "execution_count": 4,
   "id": "3e93f9de",
   "metadata": {},
   "outputs": [
    {
     "name": "stdout",
     "output_type": "stream",
     "text": [
      "error pembagian dengan nol\n",
      "5.0\n"
     ]
    }
   ],
   "source": [
    "def division(a, b):\n",
    "    try :\n",
    "        return a / b\n",
    "    except:\n",
    "        return 'error pembagian dengan nol'\n",
    "\n",
    "print(division(5,0))\n",
    "print(division(5,1))"
   ]
  },
  {
   "cell_type": "code",
   "execution_count": 5,
   "id": "7f4cb9cb",
   "metadata": {},
   "outputs": [
    {
     "name": "stdout",
     "output_type": "stream",
     "text": [
      "error pembagian dengan nol\n",
      "3.0\n"
     ]
    }
   ],
   "source": [
    "def division(a, b):\n",
    "    try :\n",
    "        res = a / b\n",
    "    except:\n",
    "        return 'error pembagian dengan nol'\n",
    "    else:\n",
    "        return res\n",
    "\n",
    "print(division(7,0))\n",
    "print(division(9,3))"
   ]
  },
  {
   "cell_type": "code",
   "execution_count": 1,
   "id": "080558f2",
   "metadata": {},
   "outputs": [
    {
     "name": "stdout",
     "output_type": "stream",
     "text": [
      "pembagian selesai\n",
      "error pembagian dengan nol\n",
      "pembagian selesai\n",
      "3.0\n"
     ]
    }
   ],
   "source": [
    "def division(a, b):\n",
    "    try :\n",
    "        res = a / b\n",
    "    except:\n",
    "        return 'error pembagian dengan nol'\n",
    "    else:\n",
    "        return res\n",
    "    finally:\n",
    "        print(\"pembagian selesai\")\n",
    "\n",
    "print(division(7,0))\n",
    "print(division(9,3))"
   ]
  }
 ],
 "metadata": {
  "kernelspec": {
   "display_name": "Python 3 (ipykernel)",
   "language": "python",
   "name": "python3"
  },
  "language_info": {
   "codemirror_mode": {
    "name": "ipython",
    "version": 3
   },
   "file_extension": ".py",
   "mimetype": "text/x-python",
   "name": "python",
   "nbconvert_exporter": "python",
   "pygments_lexer": "ipython3",
   "version": "3.9.0"
  }
 },
 "nbformat": 4,
 "nbformat_minor": 5
}
