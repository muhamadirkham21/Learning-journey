{
 "cells": [
  {
   "cell_type": "markdown",
   "id": "52a96066",
   "metadata": {},
   "source": [
    "# Basic OOP"
   ]
  },
  {
   "cell_type": "code",
   "execution_count": 15,
   "id": "02395164",
   "metadata": {},
   "outputs": [],
   "source": [
    "class Human:\n",
    "    \n",
    "    def __init__(self, name, kaki=2, tangan=2, buta=False, tuli=False):\n",
    "        self.name = name\n",
    "        self.kaki = kaki\n",
    "        self.tangan = tangan\n",
    "        self.buta = buta\n",
    "        self.tuli = tuli\n",
    "        \n",
    "    def sebut_nama(self):\n",
    "        print('hallo nama saya {}'.format(self.name))\n",
    "    \n",
    "    def is_cacat(self):\n",
    "        normal = (self.kaki == 2 and self.tangan == 2 and self.buta == False and self.tuli == False)\n",
    "        if not normal:\n",
    "            return True\n",
    "        else:\n",
    "            return False\n",
    "        \n",
    "    def setAlamat(self, alamat):\n",
    "        self.alamat = alamat\n",
    "    \n",
    "    def getAlamat(self):\n",
    "        return self.alamat"
   ]
  },
  {
   "cell_type": "code",
   "execution_count": 2,
   "id": "3d0e866b",
   "metadata": {},
   "outputs": [
    {
     "name": "stdout",
     "output_type": "stream",
     "text": [
      "False\n",
      "True\n",
      "<class '__main__.Human'>\n",
      "['__class__', '__delattr__', '__dict__', '__dir__', '__doc__', '__eq__', '__format__', '__ge__', '__getattribute__', '__getstate__', '__gt__', '__hash__', '__init__', '__init_subclass__', '__le__', '__lt__', '__module__', '__ne__', '__new__', '__reduce__', '__reduce_ex__', '__repr__', '__setattr__', '__sizeof__', '__str__', '__subclasshook__', '__weakref__', 'buta', 'getAlamat', 'is_cacat', 'kaki', 'name', 'sebut_nama', 'setAlamat', 'tangan', 'tuli']\n"
     ]
    }
   ],
   "source": [
    "irkham = Human('irkham')\n",
    "fulan = Human('fulan', tangan = 1)\n",
    "\n",
    "print(irkham.is_cacat())\n",
    "print(fulan.is_cacat())\n",
    "\n",
    "print(type(irkham))\n",
    "print(dir(irkham))"
   ]
  },
  {
   "cell_type": "code",
   "execution_count": 3,
   "id": "97cf7284",
   "metadata": {},
   "outputs": [
    {
     "data": {
      "text/plain": [
       "'indonesia'"
      ]
     },
     "execution_count": 3,
     "metadata": {},
     "output_type": "execute_result"
    }
   ],
   "source": [
    "irkham.setAlamat('indonesia')\n",
    "irkham.getAlamat()"
   ]
  },
  {
   "cell_type": "code",
   "execution_count": 1,
   "id": "1cfae486",
   "metadata": {},
   "outputs": [
    {
     "name": "stdout",
     "output_type": "stream",
     "text": [
      "First number = 50\n",
      "Second number = 50\n",
      "Addition of two numbers = 100\n",
      "0\n"
     ]
    }
   ],
   "source": [
    "#CLASS, PROPERTIES, METHODS, OBJECT\n",
    "\n",
    "\n",
    "class Addition:\n",
    "    first = 0\n",
    "    second = 0\n",
    "    answer = 0\n",
    " \n",
    "    # parameterized constructor\n",
    "    def __init__(self, f, s):\n",
    "        self.first = f\n",
    "        self.second = s\n",
    " \n",
    "    def display(self):\n",
    "        print(\"First number = \" + str(self.first))\n",
    "        print(\"Second number = \" + str(self.second))\n",
    "        print(\"Addition of two numbers = \" + str(self.answer))\n",
    " \n",
    "    def calculate(self):\n",
    "        self.answer = self.first + self.second\n",
    "\n",
    "\n",
    "hundred = Addition(50, 50) \n",
    "hundred.calculate()\n",
    "hundred.display()\n",
    "print(Addition.first)"
   ]
  },
  {
   "cell_type": "code",
   "execution_count": 10,
   "id": "ababf591",
   "metadata": {},
   "outputs": [
    {
     "name": "stdout",
     "output_type": "stream",
     "text": [
      "First number = k\n",
      "Second number = f\n",
      "Addition of two numbers = 0\n"
     ]
    }
   ],
   "source": [
    "zero = Addition('k', 'f')\n",
    "zero.display()"
   ]
  },
  {
   "cell_type": "code",
   "execution_count": 11,
   "id": "dd0d04cf",
   "metadata": {},
   "outputs": [
    {
     "name": "stdout",
     "output_type": "stream",
     "text": [
      "25\n",
      "20\n",
      "5\n"
     ]
    }
   ],
   "source": [
    "class Persegi():\n",
    "    sisi = 0\n",
    "    \n",
    "    def __init__(self, s):\n",
    "        self.sisi = s\n",
    "    \n",
    "    def get_luas(self):\n",
    "        return self.sisi**2\n",
    "    \n",
    "    def get_keliling(self):\n",
    "        return self.sisi * 4\n",
    "\n",
    "A = Persegi(5)\n",
    "print(A.get_luas())\n",
    "print(A.get_keliling())\n",
    "print(A.sisi)"
   ]
  },
  {
   "cell_type": "code",
   "execution_count": 12,
   "id": "3f5896ef",
   "metadata": {},
   "outputs": [
    {
     "name": "stdout",
     "output_type": "stream",
     "text": [
      "Sebuah Lingkaran dengan jari-jari 14\n",
      "3.141592653589793\n",
      "615.7521601035994\n",
      "87.96459430051421\n"
     ]
    }
   ],
   "source": [
    "import math\n",
    "\n",
    "class Lingkaran():\n",
    "    phi = math.pi\n",
    "    \n",
    "    def __init__(self, r):\n",
    "        self.r = r\n",
    "    \n",
    "    def definisi(self):\n",
    "        return 'Sebuah Lingkaran dengan jari-jari {}'.format(self.r)\n",
    "    \n",
    "    def get_luas(self):\n",
    "        return self.phi * (self.r ** 2)\n",
    "    \n",
    "    def get_keliling(self):\n",
    "        return 2 * self.phi * self.r\n",
    "\n",
    "D = Lingkaran(14)\n",
    "print(D.definisi())\n",
    "print(D.phi)\n",
    "print(D.get_luas())\n",
    "print(D.get_keliling())\n",
    "    "
   ]
  },
  {
   "cell_type": "code",
   "execution_count": 13,
   "id": "10002cf5",
   "metadata": {},
   "outputs": [
    {
     "name": "stdout",
     "output_type": "stream",
     "text": [
      "3.141592653589793\n",
      "2.0\n",
      "2.0\n",
      "1\n",
      "3\n"
     ]
    }
   ],
   "source": [
    "import numpy as np\n",
    "import math\n",
    "\n",
    "class Statistik():\n",
    "    \n",
    "    phi = math.pi\n",
    "    \n",
    "    \n",
    "    #def __init__():\n",
    "        #pass\n",
    "    \n",
    "    def rata_rata(self, data):\n",
    "        return np.mean(data)\n",
    "    \n",
    "    def median(self, data):\n",
    "        return np.median(data)\n",
    "    \n",
    "    def terbesar(self, data):\n",
    "        return max(data)\n",
    "    \n",
    "    def terkecil(self, data):\n",
    "        return min(data)\n",
    "\n",
    "stat = Statistik()\n",
    "\n",
    "print(stat.phi)\n",
    "print(stat.rata_rata([1, 2, 3]))\n",
    "print(stat.median([1, 2, 3]))\n",
    "print(stat.terkecil([1, 2, 3]))\n",
    "print(stat.terbesar([1, 2, 3]))"
   ]
  },
  {
   "cell_type": "code",
   "execution_count": 16,
   "id": "6be75a26",
   "metadata": {},
   "outputs": [
    {
     "name": "stdout",
     "output_type": "stream",
     "text": [
      "False\n",
      "None\n",
      "UNNES\n",
      "hallo nama saya thoriq\n"
     ]
    }
   ],
   "source": [
    "#INHERRITANCE\n",
    "\n",
    "class Mahasiswa(Human):\n",
    "    univ = None\n",
    "    def __init__(self, name,umur):\n",
    "        super().__init__(name)\n",
    "        self.umur = umur\n",
    "        \n",
    "    def setUniv(self, univ):\n",
    "        self.univ = univ\n",
    "    \n",
    "    def getUniv(self):\n",
    "        return self.univ\n",
    "    \n",
    "    def is_mahasiswa(self):\n",
    "        return True\n",
    "    \n",
    "thoriq = Mahasiswa('thoriq', 12)\n",
    "print(thoriq.is_cacat())\n",
    "print(thoriq.getUniv())\n",
    "thoriq.setUniv('UNNES')\n",
    "print(thoriq.getUniv())\n",
    "thoriq.sebut_nama()"
   ]
  },
  {
   "cell_type": "code",
   "execution_count": 17,
   "id": "7cecfeac",
   "metadata": {},
   "outputs": [
    {
     "name": "stdout",
     "output_type": "stream",
     "text": [
      "10\n",
      "40\n",
      "120\n"
     ]
    }
   ],
   "source": [
    "class Mobil:\n",
    "    # atribute\n",
    "    roda = 4\n",
    "\n",
    "    # constructor\n",
    "    def __init__(self, warna, kecepatan):\n",
    "        self.warna = warna\n",
    "        self.kecepatan = kecepatan\n",
    "    \n",
    "    # instance method\n",
    "    def cek_kecepatan(self):\n",
    "        return self.kecepatan\n",
    "    \n",
    "    def tambah_kecepatan(self, _kecepatan_tambahan):\n",
    "        self.kecepatan += _kecepatan_tambahan\n",
    "    \n",
    "class MObilSport(Mobil):\n",
    "    def turbo(self):\n",
    "        self.kecepatan *= 2\n",
    "\n",
    "Mobil_1 = Mobil('merah', 10)\n",
    "print(Mobil_1.cek_kecepatan())\n",
    "Mobil_1.tambah_kecepatan(30)\n",
    "print(Mobil_1.cek_kecepatan())\n",
    "\n",
    "mobile_2 = MObilSport('hitam', 50)\n",
    "mobile_2.tambah_kecepatan(10)\n",
    "mobile_2.turbo()\n",
    "print(mobile_2.cek_kecepatan())"
   ]
  },
  {
   "cell_type": "markdown",
   "id": "ee0710cb",
   "metadata": {},
   "source": [
    "## operator overloading"
   ]
  },
  {
   "cell_type": "code",
   "execution_count": 1,
   "id": "281766f4",
   "metadata": {},
   "outputs": [
    {
     "name": "stdout",
     "output_type": "stream",
     "text": [
      "True\n"
     ]
    }
   ],
   "source": [
    "class Dog:\n",
    "\n",
    "    def __init__(self, name, age) -> None:\n",
    "        self.name = name\n",
    "        self.age = age\n",
    "\n",
    "    def __gt__(self, other):\n",
    "        return True if self.age > other.age else False\n",
    "\n",
    "Roger = Dog('roger', 8)\n",
    "Syd = Dog('syd', 7)\n",
    "\n",
    "print(Roger>Syd)"
   ]
  },
  {
   "cell_type": "markdown",
   "id": "087f99e9",
   "metadata": {},
   "source": [
    "### membuat kelas untuk template objek"
   ]
  },
  {
   "cell_type": "code",
   "execution_count": 3,
   "id": "1b803550",
   "metadata": {},
   "outputs": [
    {
     "name": "stdout",
     "output_type": "stream",
     "text": [
      "{'name': 'alucard'}\n"
     ]
    }
   ],
   "source": [
    "class Hero:\n",
    "    pass\n",
    "\n",
    "\n",
    "alucard = Hero()\n",
    "alucard.name = 'alucard'\n",
    "print(alucard.__dict__)"
   ]
  },
  {
   "cell_type": "markdown",
   "id": "80e2239c",
   "metadata": {},
   "source": [
    "### constuctor (__init__)"
   ]
  },
  {
   "cell_type": "code",
   "execution_count": 6,
   "id": "c75a1698",
   "metadata": {},
   "outputs": [
    {
     "name": "stdout",
     "output_type": "stream",
     "text": [
      "hero alucard created\n",
      "hero lancelot created\n"
     ]
    }
   ],
   "source": [
    "class Hero:\n",
    "    def __init__(self, name: str) -> None:\n",
    "        self.name = name\n",
    "        print(f'hero {self.name} created')\n",
    "\n",
    "\n",
    "alucard = Hero('alucard')\n",
    "lancelot = Hero('lancelot')"
   ]
  },
  {
   "cell_type": "markdown",
   "id": "f640e1ee",
   "metadata": {},
   "source": [
    "### class atribut dan instance atribut"
   ]
  },
  {
   "cell_type": "code",
   "execution_count": 8,
   "id": "336fd95f",
   "metadata": {},
   "outputs": [
    {
     "name": "stdout",
     "output_type": "stream",
     "text": [
      "hero alucard created\n",
      "hero lancelot created\n",
      "total hero now are 2\n"
     ]
    }
   ],
   "source": [
    "class Hero:\n",
    "    # class attribute\n",
    "    total = 0\n",
    "    \n",
    "    def __init__(self, name: str, power, health) -> None:\n",
    "        # instance/object attribute\n",
    "        self.name = name\n",
    "        self.power = power\n",
    "        self.health = health\n",
    "        Hero.total += 1\n",
    "        print(f'hero {self.name} created')\n",
    "\n",
    "\n",
    "alucard = Hero('alucard', 80, 120)\n",
    "lancelot = Hero('lancelot', 90, 90)\n",
    "print(f'total hero now are {Hero.total}')"
   ]
  },
  {
   "cell_type": "markdown",
   "id": "02d4eed3",
   "metadata": {},
   "source": [
    "### method"
   ]
  },
  {
   "cell_type": "code",
   "execution_count": 13,
   "id": "7c2e553c",
   "metadata": {},
   "outputs": [
    {
     "name": "stdout",
     "output_type": "stream",
     "text": [
      "hero alucard created\n",
      "hero lancelot created\n",
      "total hero now are 2, there are ['alucard', 'lancelot']\n",
      "alucard vs lancelot\n",
      "******************************\n",
      "sekarang alucard terkena 1 serangan sisa hp nya 80\n",
      "lancelot sisa 60\n",
      "sisa alu 120\n",
      "sisa lance 80\n"
     ]
    }
   ],
   "source": [
    "class Hero:\n",
    "    # class attribute\n",
    "    total = 0\n",
    "    list_ = list()\n",
    "    \n",
    "    def __init__(self, name: str, power, health) -> None:\n",
    "        # instance/object attribute\n",
    "        self.name = name\n",
    "        self.power = power\n",
    "        self.health = health\n",
    "        self.max_health = health\n",
    "\n",
    "        Hero.total += 1\n",
    "        Hero.list_.append(self.name)\n",
    "        print(f'hero {self.name} created')\n",
    "    \n",
    "    def display(self):\n",
    "        return f'{self.name} puqimaq'\n",
    "    \n",
    "    def recall(self):\n",
    "        self.health = self.max_health\n",
    "\n",
    "    def regen(self, new_health):\n",
    "        self.health = min(self.health + new_health, self.max_health)\n",
    "\n",
    "    def attack(self, target):\n",
    "        target.health -= self.power\n",
    "    \n",
    "    def getHealth(self):\n",
    "        return self.health\n",
    "\n",
    "alucard = Hero('alucard', 30, 120)\n",
    "lancelot = Hero('lancelot', 40, 90)\n",
    "print(f'total hero now are {Hero.total}, there are {Hero.list_}')\n",
    "\n",
    "print('alucard vs lancelot')\n",
    "print(30*'*')\n",
    "for i in range (1):\n",
    "    alucard.attack(lancelot)\n",
    "    lancelot.attack(alucard)\n",
    "\n",
    "print(f'sekarang alucard terkena 1 serangan sisa hp nya {alucard.getHealth()}')\n",
    "print(f'lancelot sisa {lancelot.getHealth()}')\n",
    "\n",
    "lancelot.regen(20)\n",
    "alucard.recall()\n",
    "\n",
    "print(f'sisa alu {alucard.getHealth()}')\n",
    "print(f'sisa lance {lancelot.getHealth()}')"
   ]
  },
  {
   "cell_type": "code",
   "execution_count": 6,
   "id": "8dee8aa6",
   "metadata": {},
   "outputs": [
    {
     "name": "stdout",
     "output_type": "stream",
     "text": [
      "jawablah pertanyaan dibawah ini\n",
      "['1. bendera indonesia berwarna hijau', '2. nama ibu kota qatar adalah jakarta', '3. 3 + 3 = 6']\n",
      "masukan jawaban anda dalam bentuk boolean \n",
      "10\n"
     ]
    }
   ],
   "source": [
    "class User:\n",
    "    \n",
    "    def __init__(self, UserName, email) -> None:\n",
    "        self.user_name = UserName\n",
    "        self.email = email\n",
    "\n",
    "        self.total_score = 0\n",
    "        self.is_online = False\n",
    "\n",
    "    def login(self, database):\n",
    "        self.is_online = True\n",
    "        database.data['User Name'] = self.user_name\n",
    "        database.data['Email'] = self.email\n",
    "\n",
    "    def logout(self, database):\n",
    "        self.is_online = False\n",
    "\n",
    "    def getScore(self):\n",
    "        return self.total_score\n",
    "    \n",
    "    def start_exam(self, quiz):\n",
    "        if self.is_online:\n",
    "            quiz.display()\n",
    "            print('masukan jawaban anda dalam bentuk boolean ')\n",
    "        \n",
    "            self.user_answer = []\n",
    "            for i in range(3):\n",
    "                self.user_answer.append(int(input(f'no {i+1} ')))\n",
    "        else:\n",
    "            print('anda belum register')\n",
    "    \n",
    "    def setResult_exam(self, database, quiz):\n",
    "        self.total_score = 0\n",
    "        for i in range(3):\n",
    "            if self.user_answer[i] == quiz.answers[i]:\n",
    "                self.total_score += quiz.score[i]\n",
    "    \n",
    "\n",
    "class Database:\n",
    "    def __init__(self):\n",
    "        self.data = dict()\n",
    "\n",
    "    def get_data(self):\n",
    "        return self.data\n",
    "     \n",
    "\n",
    "class Quiz:\n",
    "    def __init__(self) -> None:\n",
    "        self.questions = [\n",
    "            '1. bendera indonesia berwarna hijau',\n",
    "            '2. nama ibu kota qatar adalah jakarta',\n",
    "            '3. 3 + 3 = 6'\n",
    "        ]\n",
    "\n",
    "        self.answers = (1, 2, 3)\n",
    "        self.score = (3, 3, 4)\n",
    "\n",
    "    def display(self):\n",
    "        print('jawablah pertanyaan dibawah ini')\n",
    "        print(self.questions)\n",
    "\n",
    "class App:\n",
    "    def play(self):\n",
    "        database1 = Database()\n",
    "        exam = Quiz()\n",
    "\n",
    "        user_1 = User('khamz', 'khamz@gmail.com')\n",
    "        user_1.login(database1)\n",
    "        user_1.start_exam(exam)\n",
    "\n",
    "        user_1.setResult_exam(database1, exam)\n",
    "        print(user_1.getScore())\n",
    "\n",
    "app = App()\n",
    "app.play()\n"
   ]
  },
  {
   "cell_type": "markdown",
   "id": "89d9aec8",
   "metadata": {},
   "source": [
    "### data security on OOP (encapsulation an private variable)"
   ]
  },
  {
   "cell_type": "code",
   "execution_count": 20,
   "id": "0c8c4fcf",
   "metadata": {},
   "outputs": [
    {
     "name": "stdout",
     "output_type": "stream",
     "text": [
      "{'name': 'kuro', 'health': 12, '_Hero__tinggi': 10, '_kaki': 2}\n",
      "{'name': 'aka', 'health': 12, '_Hero__tinggi': 10, '_kaki': 2}\n",
      "2\n",
      "{'name': 'aka', 'health': 12, '_Hero__tinggi': 10, '_kaki': 1}\n"
     ]
    }
   ],
   "source": [
    "# private variabel, variabel yang tidak dapat di akses sama client\n",
    "\n",
    "class Hero:\n",
    "    jumlah = 0\n",
    "    __tinggi = 29\n",
    "\n",
    "    def __init__(self, name, health) -> None:\n",
    "        self.name = name\n",
    "        self.health = health\n",
    "\n",
    "        # private variable\n",
    "        self.__tinggi = 10\n",
    "\n",
    "        # protected attribute\n",
    "        self._kaki = 2\n",
    "\n",
    "\n",
    "kuro = Hero('kuro', 12)\n",
    "print(kuro.__dict__)\n",
    "kuro.name = 'aka'\n",
    "print(kuro.__dict__)\n",
    "\n",
    "#error untuk private variable\n",
    "#print(kuro.__tinggi) \n",
    "\n",
    "print(kuro._kaki)\n",
    "kuro._kaki = 1 # protected hanya boleh diakses di dalam kelas saja\n",
    "print(kuro.__dict__)"
   ]
  },
  {
   "cell_type": "code",
   "execution_count": 28,
   "id": "1508ab03",
   "metadata": {},
   "outputs": [
    {
     "name": "stdout",
     "output_type": "stream",
     "text": [
      "{'_Hero__name': 'mia', '_Hero__hp': 20, '_Hero__att': 15}\n",
      "mia\n",
      "4\n"
     ]
    }
   ],
   "source": [
    "# encapsulasi\n",
    "# buat semua atribute menjadi private\n",
    "# untuk mengaksesnya gunakan getter dan setter\n",
    "\n",
    "class Hero:\n",
    "\n",
    "    def __init__(self, name, hp, att) -> None:\n",
    "        self.__name = name\n",
    "        self.__hp = hp\n",
    "        self.__att = att\n",
    "    \n",
    "    # getter\n",
    "    def getName(self):\n",
    "        return self.__name\n",
    "    \n",
    "    # setter\n",
    "    def diserang(self, target):\n",
    "        self.__hp -= target.getAtt()\n",
    "    \n",
    "    def getHp(self):\n",
    "        return self.__hp\n",
    "    \n",
    "    def getAtt(self):\n",
    "        return self.__att\n",
    "\n",
    "mia = Hero('mia', 20, 15)\n",
    "alu = Hero('alu', 25, 16)\n",
    "\n",
    "print(mia.__dict__)\n",
    "print(mia.getName())\n",
    "mia.diserang(alu)\n",
    "print(mia.getHp())\n"
   ]
  },
  {
   "cell_type": "markdown",
   "id": "01d57719",
   "metadata": {},
   "source": [
    "### class dan static method"
   ]
  },
  {
   "cell_type": "code",
   "execution_count": 32,
   "id": "82b08f3d",
   "metadata": {},
   "outputs": [
    {
     "name": "stdout",
     "output_type": "stream",
     "text": [
      "2\n",
      "2\n",
      "2\n"
     ]
    }
   ],
   "source": [
    "class Hero:\n",
    "\n",
    "    __jumlah = 0\n",
    "\n",
    "    def __init__(self, name) -> None:\n",
    "        self.__name = name\n",
    "        Hero.__jumlah += 1\n",
    "    \n",
    "    # staticmethod menempel pada 22nya\n",
    "    @staticmethod\n",
    "    def getJumlah():\n",
    "        return Hero.__jumlah\n",
    "\n",
    "    # class method \n",
    "    @classmethod\n",
    "    def displayJumlah(cls):\n",
    "        return cls.__jumlah\n",
    "\n",
    "mino = Hero('mino')\n",
    "saber = Hero('saber')\n",
    "\n",
    "# erro private variable\n",
    "#print(Hero.__jumlah)\n",
    "print(Hero.getJumlah())\n",
    "print(saber.getJumlah())\n",
    "print(Hero.displayJumlah())"
   ]
  },
  {
   "cell_type": "markdown",
   "id": "2b490cc1",
   "metadata": {},
   "source": [
    "### getter dan setter"
   ]
  },
  {
   "cell_type": "code",
   "execution_count": 36,
   "id": "1e24b3cb",
   "metadata": {},
   "outputs": [
    {
     "name": "stdout",
     "output_type": "stream",
     "text": [
      "hallo ini atlas\n",
      "10\n",
      "25\n",
      "hp didelete\n",
      "None\n"
     ]
    }
   ],
   "source": [
    "class Hero:\n",
    "\n",
    "    def __init__(self, name, hp) -> None:\n",
    "        self.__name = name\n",
    "        self.__hp = hp\n",
    "        \n",
    "    \n",
    "    @property # method yang dianggap atribut\n",
    "    def info(self):\n",
    "        return f'hallo ini {self.__name}'\n",
    "    \n",
    "    @property\n",
    "    def hp(self):\n",
    "        pass\n",
    "\n",
    "    @hp.getter\n",
    "    def hp(self):\n",
    "        return self.__hp\n",
    "    \n",
    "    @hp.setter\n",
    "    def hp(self, input):\n",
    "        self.__hp = input\n",
    "\n",
    "    @hp.deleter\n",
    "    def hp(self):\n",
    "        self.__hp = None\n",
    "        print('hp didelete')\n",
    "\n",
    "atlas = Hero('atlas', 10)\n",
    "print(atlas.info)\n",
    "print(atlas.hp)\n",
    "atlas.hp = 25\n",
    "print(atlas.hp)\n",
    "del atlas.hp\n",
    "print(atlas.hp)"
   ]
  },
  {
   "cell_type": "code",
   "execution_count": 50,
   "id": "adbfba35",
   "metadata": {},
   "outputs": [
    {
     "name": "stdout",
     "output_type": "stream",
     "text": [
      "atlas \n",
      "\tlevel 1\n",
      "\t200/200 \n",
      "\tattack 8 \n",
      "\tarmor20\n",
      "atlas level up !\n",
      "atlas \n",
      "\tlevel 2\n",
      "\t200/400 \n",
      "\tattack 16 \n",
      "\tarmor40\n",
      "80\n"
     ]
    }
   ],
   "source": [
    "class Hero:\n",
    "    \n",
    "    __jumlah = 0\n",
    "\n",
    "    def __init__(self, name, hp, att, armor) -> None:\n",
    "        self.__name = name\n",
    "        self.__hp_base = hp\n",
    "        self.__att_base = att\n",
    "        self.__armor_base = armor\n",
    "        self.__level = 1\n",
    "        self.__exp = 0\n",
    "\n",
    "        self.__hp_max = self.__hp_base * self.__level\n",
    "        self.__att = self.__att_base * self.__level\n",
    "        self.__armor = self.__armor_base * self.__level\n",
    "\n",
    "        self.__hp = self.__hp_max\n",
    "\n",
    "        Hero.__jumlah += 1\n",
    "\n",
    "    @property\n",
    "    def info(self):\n",
    "        return f'{self.__name} \\n\\tlevel {self.__level}\\n\\t{self.__hp}/{self.__hp_max} \\n\\tattack {self.__att} \\n\\tarmor{self.__armor}'\n",
    "    \n",
    "    @property\n",
    "    def gainExp(self):\n",
    "        pass\n",
    "\n",
    "    @gainExp.setter\n",
    "    def gainExp(self, addExp):\n",
    "        self.__exp += addExp\n",
    "        if self.__exp >= 100:\n",
    "            print(self.__name, 'level up !')\n",
    "            self.__level += 1\n",
    "            self.__exp -= 100\n",
    "\n",
    "            self.__hp_max = self.__hp_base * self.__level\n",
    "            self.__att = self.__att_base * self.__level\n",
    "            self.__armor = self.__armor_base * self.__level\n",
    "    \n",
    "    def attack(self, musuh):\n",
    "        self.gainExp = 60\n",
    "\n",
    "    @gainExp.getter\n",
    "    def gainExp(self):\n",
    "        return self.__exp\n",
    "\n",
    "\n",
    "atlas = Hero('atlas', 200, 8, 20)\n",
    "alu = Hero('alu', 60, 32, 20)\n",
    "print(atlas.info)\n",
    "atlas.attack(alu)\n",
    "atlas.attack(alu)\n",
    "atlas.attack(alu)\n",
    "print(atlas.info)\n",
    "print(atlas.gainExp)"
   ]
  },
  {
   "cell_type": "markdown",
   "id": "9738f40e",
   "metadata": {},
   "source": [
    "### inheritance"
   ]
  },
  {
   "cell_type": "code",
   "execution_count": 2,
   "id": "fa2cd375",
   "metadata": {},
   "outputs": [
    {
     "name": "stdout",
     "output_type": "stream",
     "text": [
      "alu\n",
      "mia\n"
     ]
    }
   ],
   "source": [
    "class Hero:\n",
    "\n",
    "    def __init__(self, name, hp) -> None:\n",
    "        self.name = name\n",
    "        self.hp = hp\n",
    "\n",
    "class Marksman(Hero):\n",
    "    pass\n",
    "\n",
    "\n",
    "alu = Hero('alu', 30)\n",
    "print(alu.name)\n",
    "\n",
    "mia = Marksman('mia', '18')\n",
    "print(mia.name)\n",
    "\n"
   ]
  },
  {
   "cell_type": "markdown",
   "id": "3cad245e",
   "metadata": {},
   "source": [
    "## super inheritance"
   ]
  },
  {
   "cell_type": "code",
   "execution_count": 5,
   "id": "f4723783",
   "metadata": {},
   "outputs": [
    {
     "data": {
      "text/plain": [
       "'atlas dengan hp 400'"
      ]
     },
     "execution_count": 5,
     "metadata": {},
     "output_type": "execute_result"
    }
   ],
   "source": [
    "class Hero:\n",
    "\n",
    "    def __init__(self, name, hp):\n",
    "        self.name = name\n",
    "        self.hp = hp\n",
    "    \n",
    "    def info(self):\n",
    "        return f'{self.name} dengan hp {self.hp}'\n",
    "\n",
    "class Tank(Hero):\n",
    "    def __init__(self, name):\n",
    "        super().__init__(name, 400)\n",
    "\n",
    "\n",
    "atlas = Tank('atlas')\n",
    "atlas.info()"
   ]
  },
  {
   "cell_type": "markdown",
   "id": "ae0c771b",
   "metadata": {},
   "source": [
    "## overide method"
   ]
  },
  {
   "cell_type": "code",
   "execution_count": 8,
   "id": "a68cccb5",
   "metadata": {},
   "outputs": [
    {
     "data": {
      "text/plain": [
       "'hero tipe fighter'"
      ]
     },
     "execution_count": 8,
     "metadata": {},
     "output_type": "execute_result"
    }
   ],
   "source": [
    "class Hero:\n",
    "\n",
    "    def __init__(self, name, hp) -> None:\n",
    "        self.name = name\n",
    "        self.hp = hp\n",
    "\n",
    "    def info(self):\n",
    "        return f'{self.name}, hp : {self.hp}'\n",
    "\n",
    "class Fighter(Hero):\n",
    "    def __init__(self, name) -> None:\n",
    "        super().__init__(name, 300)\n",
    "    \n",
    "    # override\n",
    "    def info(self):\n",
    "        return 'hero tipe fighter'\n",
    "\n",
    "lapu = Fighter('lapu')\n",
    "lapu.info()"
   ]
  },
  {
   "cell_type": "markdown",
   "id": "e41b6dde",
   "metadata": {},
   "source": [
    "### multiple inherritance"
   ]
  },
  {
   "cell_type": "code",
   "execution_count": 10,
   "id": "4fee7568",
   "metadata": {},
   "outputs": [
    {
     "name": "stdout",
     "output_type": "stream",
     "text": [
      "foo\n",
      "foofoo\n"
     ]
    }
   ],
   "source": [
    "class Foo:\n",
    "\n",
    "    def info(self):\n",
    "        print('foo')\n",
    "\n",
    "\n",
    "class FooFoo:\n",
    "\n",
    "    def info_foo(self):\n",
    "        print('foofoo')\n",
    "\n",
    "class A(Foo, FooFoo):\n",
    "    pass\n",
    "\n",
    "a = A()\n",
    "a.info()\n",
    "a.info_foo()"
   ]
  },
  {
   "cell_type": "markdown",
   "id": "61d590a2",
   "metadata": {},
   "source": [
    "### diamond problem"
   ]
  },
  {
   "cell_type": "code",
   "execution_count": 16,
   "id": "4439711e",
   "metadata": {},
   "outputs": [
    {
     "name": "stdout",
     "output_type": "stream",
     "text": [
      "foo C\n"
     ]
    }
   ],
   "source": [
    "class A:\n",
    "    def foo(self):\n",
    "        print('foo A')\n",
    "\n",
    "\n",
    "class B(A):\n",
    "    pass\n",
    "\n",
    "\n",
    "class C(A):\n",
    "    \n",
    "    def foo(self):\n",
    "        print('foo C')\n",
    "\n",
    "\n",
    "class D(B, C):\n",
    "    pass\n",
    "\n",
    "\n",
    "d = D()\n",
    "d.foo()"
   ]
  },
  {
   "cell_type": "markdown",
   "id": "05dff627",
   "metadata": {},
   "source": [
    "### magic method/ dunder method"
   ]
  },
  {
   "cell_type": "code",
   "execution_count": 21,
   "id": "861ddf7f",
   "metadata": {},
   "outputs": [
    {
     "name": "stdout",
     "output_type": "stream",
     "text": [
      "mangga mentah\n",
      "mangga mentah\n",
      "7\n",
      "False\n",
      "objek mempunya method matang dan jumlah\n"
     ]
    }
   ],
   "source": [
    "class Mangga:\n",
    "\n",
    "    #magic method\n",
    "    def __init__(self, is_matang, jumlah) -> None:\n",
    "        self.is_matang = is_matang\n",
    "        self.jumlah = jumlah\n",
    "    \n",
    "    def __str__(self) -> str:\n",
    "        return 'mangga mateng' if self.is_matang else 'mangga mentah'\n",
    "    \n",
    "    def __repr__(self) -> str:\n",
    "        return 'mangga mateng' if self.is_matang else 'mangga mentah'\n",
    "    \n",
    "    def __add__(self, obj):\n",
    "        return self.jumlah + obj.jumlah\n",
    "    \n",
    "    def __gt__(self, obj):\n",
    "        return self.jumlah > obj.jumlah\n",
    "    \n",
    "    @property\n",
    "    def __dict__(self):\n",
    "        return 'objek mempunya method matang dan jumlah'\n",
    "\n",
    "mangga = Mangga(False, 3)\n",
    "arumanis = Mangga(True, 4)\n",
    "\n",
    "print(repr(mangga))\n",
    "print(mangga)\n",
    "\n",
    "print(mangga + arumanis)\n",
    "print(mangga > arumanis)\n",
    "\n",
    "print(mangga.__dict__)"
   ]
  },
  {
   "cell_type": "markdown",
   "id": "8b55040e",
   "metadata": {},
   "source": [
    "### abstract class"
   ]
  },
  {
   "cell_type": "code",
   "execution_count": 25,
   "id": "c16541ea",
   "metadata": {},
   "outputs": [
    {
     "name": "stdout",
     "output_type": "stream",
     "text": [
      "di klik\n"
     ]
    }
   ],
   "source": [
    "from abc import ABC, abstractmethod\n",
    "\n",
    "class Button(ABC):\n",
    "\n",
    "    @abstractmethod\n",
    "    def click(self):\n",
    "        pass\n",
    "\n",
    "class RadioButton(Button):\n",
    "    \n",
    "    def click(self):\n",
    "        print('di klik')\n",
    "\n",
    "radio = RadioButton()\n",
    "radio.click()\n",
    "\n",
    "\n",
    "# setiap kita membuat kelas baru yg meng iherit Button wajib membuat method click"
   ]
  },
  {
   "cell_type": "code",
   "execution_count": 42,
   "metadata": {},
   "outputs": [
    {
     "name": "stdout",
     "output_type": "stream",
     "text": [
      "go to www.irkham.gans\n"
     ]
    }
   ],
   "source": [
    "class Button(ABC):\n",
    "\n",
    "    def __init__(self, link) -> None:\n",
    "        self.link = link\n",
    "\n",
    "    @abstractmethod\n",
    "    def click(self):\n",
    "        pass\n",
    "\n",
    "    @property\n",
    "    @abstractmethod\n",
    "    def link(self):\n",
    "        pass\n",
    "\n",
    "class PushButton(Button):\n",
    "\n",
    "    def click(self):\n",
    "        print(f'go to {self.link}')\n",
    "\n",
    "    @Button.link.setter\n",
    "    def link(self, input):\n",
    "        self.__link = input\n",
    "    \n",
    "    @link.getter\n",
    "    def link(self):\n",
    "        return self.__link\n",
    "\n",
    "\n",
    "tombol = PushButton('www.irkham.gans')\n",
    "tombol.click()\n",
    "        "
   ]
  },
  {
   "cell_type": "code",
   "execution_count": 41,
   "id": "809735e6",
   "metadata": {},
   "outputs": [
    {
     "name": "stdout",
     "output_type": "stream",
     "text": [
      "go to www.irkham.gans\n"
     ]
    }
   ],
   "source": [
    "from abc import ABC, abstractmethod\n",
    "\n",
    "class Button(ABC):\n",
    "    def __init__(self, link) -> None:\n",
    "        self.__link = link\n",
    "\n",
    "    @abstractmethod\n",
    "    def click(self):\n",
    "        pass\n",
    "\n",
    "    @property\n",
    "    @abstractmethod\n",
    "    def link(self):\n",
    "        pass\n",
    "\n",
    "class PushButton(Button):\n",
    "    def click(self):\n",
    "        print(f'go to {self.link}')\n",
    "\n",
    "    @Button.link.setter\n",
    "    def link(self, value):\n",
    "        self._Button__link = value\n",
    "    \n",
    "    @Button.link.getter\n",
    "    def link(self):\n",
    "        return self._Button__link\n",
    "\n",
    "tombol = PushButton('www.irkham.gans')\n",
    "tombol.click()\n"
   ]
  }
 ],
 "metadata": {
  "kernelspec": {
   "display_name": "Python 3 (ipykernel)",
   "language": "python",
   "name": "python3"
  },
  "language_info": {
   "codemirror_mode": {
    "name": "ipython",
    "version": 3
   },
   "file_extension": ".py",
   "mimetype": "text/x-python",
   "name": "python",
   "nbconvert_exporter": "python",
   "pygments_lexer": "ipython3",
   "version": "3.1.0"
  }
 },
 "nbformat": 4,
 "nbformat_minor": 5
}
