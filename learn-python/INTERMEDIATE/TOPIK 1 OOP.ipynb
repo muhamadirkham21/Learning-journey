{
 "cells": [
  {
   "cell_type": "markdown",
   "id": "52a96066",
   "metadata": {},
   "source": [
    "# Basic OOP"
   ]
  },
  {
   "cell_type": "code",
   "execution_count": 15,
   "id": "02395164",
   "metadata": {},
   "outputs": [],
   "source": [
    "class Human:\n",
    "    \n",
    "    def __init__(self, name, kaki=2, tangan=2, buta=False, tuli=False):\n",
    "        self.name = name\n",
    "        self.kaki = kaki\n",
    "        self.tangan = tangan\n",
    "        self.buta = buta\n",
    "        self.tuli = tuli\n",
    "        \n",
    "    def sebut_nama(self):\n",
    "        print('hallo nama saya {}'.format(self.name))\n",
    "    \n",
    "    def is_cacat(self):\n",
    "        normal = (self.kaki == 2 and self.tangan == 2 and self.buta == False and self.tuli == False)\n",
    "        if not normal:\n",
    "            return True\n",
    "        else:\n",
    "            return False\n",
    "        \n",
    "    def setAlamat(self, alamat):\n",
    "        self.alamat = alamat\n",
    "    \n",
    "    def getAlamat(self):\n",
    "        return self.alamat"
   ]
  },
  {
   "cell_type": "code",
   "execution_count": 2,
   "id": "3d0e866b",
   "metadata": {},
   "outputs": [
    {
     "name": "stdout",
     "output_type": "stream",
     "text": [
      "False\n",
      "True\n",
      "<class '__main__.Human'>\n",
      "['__class__', '__delattr__', '__dict__', '__dir__', '__doc__', '__eq__', '__format__', '__ge__', '__getattribute__', '__getstate__', '__gt__', '__hash__', '__init__', '__init_subclass__', '__le__', '__lt__', '__module__', '__ne__', '__new__', '__reduce__', '__reduce_ex__', '__repr__', '__setattr__', '__sizeof__', '__str__', '__subclasshook__', '__weakref__', 'buta', 'getAlamat', 'is_cacat', 'kaki', 'name', 'sebut_nama', 'setAlamat', 'tangan', 'tuli']\n"
     ]
    }
   ],
   "source": [
    "irkham = Human('irkham')\n",
    "fulan = Human('fulan', tangan = 1)\n",
    "\n",
    "print(irkham.is_cacat())\n",
    "print(fulan.is_cacat())\n",
    "\n",
    "print(type(irkham))\n",
    "print(dir(irkham))"
   ]
  },
  {
   "cell_type": "code",
   "execution_count": 3,
   "id": "97cf7284",
   "metadata": {},
   "outputs": [
    {
     "data": {
      "text/plain": [
       "'indonesia'"
      ]
     },
     "execution_count": 3,
     "metadata": {},
     "output_type": "execute_result"
    }
   ],
   "source": [
    "irkham.setAlamat('indonesia')\n",
    "irkham.getAlamat()"
   ]
  },
  {
   "cell_type": "code",
   "execution_count": 1,
   "id": "1cfae486",
   "metadata": {},
   "outputs": [
    {
     "name": "stdout",
     "output_type": "stream",
     "text": [
      "First number = 50\n",
      "Second number = 50\n",
      "Addition of two numbers = 100\n",
      "0\n"
     ]
    }
   ],
   "source": [
    "#CLASS, PROPERTIES, METHODS, OBJECT\n",
    "\n",
    "\n",
    "class Addition:\n",
    "    first = 0\n",
    "    second = 0\n",
    "    answer = 0\n",
    " \n",
    "    # parameterized constructor\n",
    "    def __init__(self, f, s):\n",
    "        self.first = f\n",
    "        self.second = s\n",
    " \n",
    "    def display(self):\n",
    "        print(\"First number = \" + str(self.first))\n",
    "        print(\"Second number = \" + str(self.second))\n",
    "        print(\"Addition of two numbers = \" + str(self.answer))\n",
    " \n",
    "    def calculate(self):\n",
    "        self.answer = self.first + self.second\n",
    "\n",
    "\n",
    "hundred = Addition(50, 50) \n",
    "hundred.calculate()\n",
    "hundred.display()\n",
    "print(Addition.first)"
   ]
  },
  {
   "cell_type": "code",
   "execution_count": 10,
   "id": "ababf591",
   "metadata": {},
   "outputs": [
    {
     "name": "stdout",
     "output_type": "stream",
     "text": [
      "First number = k\n",
      "Second number = f\n",
      "Addition of two numbers = 0\n"
     ]
    }
   ],
   "source": [
    "zero = Addition('k', 'f')\n",
    "zero.display()"
   ]
  },
  {
   "cell_type": "code",
   "execution_count": 11,
   "id": "dd0d04cf",
   "metadata": {},
   "outputs": [
    {
     "name": "stdout",
     "output_type": "stream",
     "text": [
      "25\n",
      "20\n",
      "5\n"
     ]
    }
   ],
   "source": [
    "class Persegi():\n",
    "    sisi = 0\n",
    "    \n",
    "    def __init__(self, s):\n",
    "        self.sisi = s\n",
    "    \n",
    "    def get_luas(self):\n",
    "        return self.sisi**2\n",
    "    \n",
    "    def get_keliling(self):\n",
    "        return self.sisi * 4\n",
    "\n",
    "A = Persegi(5)\n",
    "print(A.get_luas())\n",
    "print(A.get_keliling())\n",
    "print(A.sisi)"
   ]
  },
  {
   "cell_type": "code",
   "execution_count": 12,
   "id": "3f5896ef",
   "metadata": {},
   "outputs": [
    {
     "name": "stdout",
     "output_type": "stream",
     "text": [
      "Sebuah Lingkaran dengan jari-jari 14\n",
      "3.141592653589793\n",
      "615.7521601035994\n",
      "87.96459430051421\n"
     ]
    }
   ],
   "source": [
    "import math\n",
    "\n",
    "class Lingkaran():\n",
    "    phi = math.pi\n",
    "    \n",
    "    def __init__(self, r):\n",
    "        self.r = r\n",
    "    \n",
    "    def definisi(self):\n",
    "        return 'Sebuah Lingkaran dengan jari-jari {}'.format(self.r)\n",
    "    \n",
    "    def get_luas(self):\n",
    "        return self.phi * (self.r ** 2)\n",
    "    \n",
    "    def get_keliling(self):\n",
    "        return 2 * self.phi * self.r\n",
    "\n",
    "D = Lingkaran(14)\n",
    "print(D.definisi())\n",
    "print(D.phi)\n",
    "print(D.get_luas())\n",
    "print(D.get_keliling())\n",
    "    "
   ]
  },
  {
   "cell_type": "code",
   "execution_count": 13,
   "id": "10002cf5",
   "metadata": {},
   "outputs": [
    {
     "name": "stdout",
     "output_type": "stream",
     "text": [
      "3.141592653589793\n",
      "2.0\n",
      "2.0\n",
      "1\n",
      "3\n"
     ]
    }
   ],
   "source": [
    "import numpy as np\n",
    "import math\n",
    "\n",
    "class Statistik():\n",
    "    \n",
    "    phi = math.pi\n",
    "    \n",
    "    \n",
    "    #def __init__():\n",
    "        #pass\n",
    "    \n",
    "    def rata_rata(self, data):\n",
    "        return np.mean(data)\n",
    "    \n",
    "    def median(self, data):\n",
    "        return np.median(data)\n",
    "    \n",
    "    def terbesar(self, data):\n",
    "        return max(data)\n",
    "    \n",
    "    def terkecil(self, data):\n",
    "        return min(data)\n",
    "\n",
    "stat = Statistik()\n",
    "\n",
    "print(stat.phi)\n",
    "print(stat.rata_rata([1, 2, 3]))\n",
    "print(stat.median([1, 2, 3]))\n",
    "print(stat.terkecil([1, 2, 3]))\n",
    "print(stat.terbesar([1, 2, 3]))"
   ]
  },
  {
   "cell_type": "code",
   "execution_count": 16,
   "id": "6be75a26",
   "metadata": {},
   "outputs": [
    {
     "name": "stdout",
     "output_type": "stream",
     "text": [
      "False\n",
      "None\n",
      "UNNES\n",
      "hallo nama saya thoriq\n"
     ]
    }
   ],
   "source": [
    "#INHERRITANCE\n",
    "\n",
    "class Mahasiswa(Human):\n",
    "    univ = None\n",
    "    def __init__(self, name,umur):\n",
    "        super().__init__(name)\n",
    "        self.umur = umur\n",
    "        \n",
    "    def setUniv(self, univ):\n",
    "        self.univ = univ\n",
    "    \n",
    "    def getUniv(self):\n",
    "        return self.univ\n",
    "    \n",
    "    def is_mahasiswa(self):\n",
    "        return True\n",
    "    \n",
    "thoriq = Mahasiswa('thoriq', 12)\n",
    "print(thoriq.is_cacat())\n",
    "print(thoriq.getUniv())\n",
    "thoriq.setUniv('UNNES')\n",
    "print(thoriq.getUniv())\n",
    "thoriq.sebut_nama()"
   ]
  },
  {
   "cell_type": "code",
   "execution_count": 17,
   "id": "7cecfeac",
   "metadata": {},
   "outputs": [
    {
     "name": "stdout",
     "output_type": "stream",
     "text": [
      "10\n",
      "40\n",
      "120\n"
     ]
    }
   ],
   "source": [
    "class Mobil:\n",
    "    # atribute\n",
    "    roda = 4\n",
    "\n",
    "    # constructor\n",
    "    def __init__(self, warna, kecepatan):\n",
    "        self.warna = warna\n",
    "        self.kecepatan = kecepatan\n",
    "    \n",
    "    # instance method\n",
    "    def cek_kecepatan(self):\n",
    "        return self.kecepatan\n",
    "    \n",
    "    def tambah_kecepatan(self, _kecepatan_tambahan):\n",
    "        self.kecepatan += _kecepatan_tambahan\n",
    "    \n",
    "class MObilSport(Mobil):\n",
    "    def turbo(self):\n",
    "        self.kecepatan *= 2\n",
    "\n",
    "Mobil_1 = Mobil('merah', 10)\n",
    "print(Mobil_1.cek_kecepatan())\n",
    "Mobil_1.tambah_kecepatan(30)\n",
    "print(Mobil_1.cek_kecepatan())\n",
    "\n",
    "mobile_2 = MObilSport('hitam', 50)\n",
    "mobile_2.tambah_kecepatan(10)\n",
    "mobile_2.turbo()\n",
    "print(mobile_2.cek_kecepatan())"
   ]
  },
  {
   "cell_type": "markdown",
   "id": "ee0710cb",
   "metadata": {},
   "source": [
    "## operator overloading"
   ]
  },
  {
   "cell_type": "code",
   "execution_count": 1,
   "id": "281766f4",
   "metadata": {},
   "outputs": [
    {
     "name": "stdout",
     "output_type": "stream",
     "text": [
      "True\n"
     ]
    }
   ],
   "source": [
    "class Dog:\n",
    "\n",
    "    def __init__(self, name, age) -> None:\n",
    "        self.name = name\n",
    "        self.age = age\n",
    "\n",
    "    def __gt__(self, other):\n",
    "        return True if self.age > other.age else False\n",
    "\n",
    "Roger = Dog('roger', 8)\n",
    "Syd = Dog('syd', 7)\n",
    "\n",
    "print(Roger>Syd)"
   ]
  },
  {
   "cell_type": "markdown",
   "id": "087f99e9",
   "metadata": {},
   "source": [
    "### membuat kelas untuk template objek"
   ]
  },
  {
   "cell_type": "code",
   "execution_count": 3,
   "id": "1b803550",
   "metadata": {},
   "outputs": [
    {
     "name": "stdout",
     "output_type": "stream",
     "text": [
      "{'name': 'alucard'}\n"
     ]
    }
   ],
   "source": [
    "class Hero:\n",
    "    pass\n",
    "\n",
    "\n",
    "alucard = Hero()\n",
    "alucard.name = 'alucard'\n",
    "print(alucard.__dict__)"
   ]
  },
  {
   "cell_type": "markdown",
   "id": "80e2239c",
   "metadata": {},
   "source": [
    "### constuctor (__init__)"
   ]
  },
  {
   "cell_type": "code",
   "execution_count": 6,
   "id": "c75a1698",
   "metadata": {},
   "outputs": [
    {
     "name": "stdout",
     "output_type": "stream",
     "text": [
      "hero alucard created\n",
      "hero lancelot created\n"
     ]
    }
   ],
   "source": [
    "class Hero:\n",
    "    def __init__(self, name: str) -> None:\n",
    "        self.name = name\n",
    "        print(f'hero {self.name} created')\n",
    "\n",
    "\n",
    "alucard = Hero('alucard')\n",
    "lancelot = Hero('lancelot')"
   ]
  },
  {
   "cell_type": "markdown",
   "id": "f640e1ee",
   "metadata": {},
   "source": [
    "### class atribut dan instance atribut"
   ]
  },
  {
   "cell_type": "code",
   "execution_count": 8,
   "id": "336fd95f",
   "metadata": {},
   "outputs": [
    {
     "name": "stdout",
     "output_type": "stream",
     "text": [
      "hero alucard created\n",
      "hero lancelot created\n",
      "total hero now are 2\n"
     ]
    }
   ],
   "source": [
    "class Hero:\n",
    "    # class attribute\n",
    "    total = 0\n",
    "    \n",
    "    def __init__(self, name: str, power, health) -> None:\n",
    "        # instance/object attribute\n",
    "        self.name = name\n",
    "        self.power = power\n",
    "        self.health = health\n",
    "        Hero.total += 1\n",
    "        print(f'hero {self.name} created')\n",
    "\n",
    "\n",
    "alucard = Hero('alucard', 80, 120)\n",
    "lancelot = Hero('lancelot', 90, 90)\n",
    "print(f'total hero now are {Hero.total}')"
   ]
  },
  {
   "cell_type": "markdown",
   "id": "02d4eed3",
   "metadata": {},
   "source": [
    "### method"
   ]
  },
  {
   "cell_type": "code",
   "execution_count": 13,
   "id": "7c2e553c",
   "metadata": {},
   "outputs": [
    {
     "name": "stdout",
     "output_type": "stream",
     "text": [
      "hero alucard created\n",
      "hero lancelot created\n",
      "total hero now are 2, there are ['alucard', 'lancelot']\n",
      "alucard vs lancelot\n",
      "******************************\n",
      "sekarang alucard terkena 1 serangan sisa hp nya 80\n",
      "lancelot sisa 60\n",
      "sisa alu 120\n",
      "sisa lance 80\n"
     ]
    }
   ],
   "source": [
    "class Hero:\n",
    "    # class attribute\n",
    "    total = 0\n",
    "    list_ = list()\n",
    "    \n",
    "    def __init__(self, name: str, power, health) -> None:\n",
    "        # instance/object attribute\n",
    "        self.name = name\n",
    "        self.power = power\n",
    "        self.health = health\n",
    "        self.max_health = health\n",
    "\n",
    "        Hero.total += 1\n",
    "        Hero.list_.append(self.name)\n",
    "        print(f'hero {self.name} created')\n",
    "    \n",
    "    def display(self):\n",
    "        return f'{self.name} puqimaq'\n",
    "    \n",
    "    def recall(self):\n",
    "        self.health = self.max_health\n",
    "\n",
    "    def regen(self, new_health):\n",
    "        self.health = min(self.health + new_health, self.max_health)\n",
    "\n",
    "    def attack(self, target):\n",
    "        target.health -= self.power\n",
    "    \n",
    "    def getHealth(self):\n",
    "        return self.health\n",
    "\n",
    "alucard = Hero('alucard', 30, 120)\n",
    "lancelot = Hero('lancelot', 40, 90)\n",
    "print(f'total hero now are {Hero.total}, there are {Hero.list_}')\n",
    "\n",
    "print('alucard vs lancelot')\n",
    "print(30*'*')\n",
    "for i in range (1):\n",
    "    alucard.attack(lancelot)\n",
    "    lancelot.attack(alucard)\n",
    "\n",
    "print(f'sekarang alucard terkena 1 serangan sisa hp nya {alucard.getHealth()}')\n",
    "print(f'lancelot sisa {lancelot.getHealth()}')\n",
    "\n",
    "lancelot.regen(20)\n",
    "alucard.recall()\n",
    "\n",
    "print(f'sisa alu {alucard.getHealth()}')\n",
    "print(f'sisa lance {lancelot.getHealth()}')"
   ]
  }
 ],
 "metadata": {
  "kernelspec": {
   "display_name": "Python 3 (ipykernel)",
   "language": "python",
   "name": "python3"
  },
  "language_info": {
   "codemirror_mode": {
    "name": "ipython",
    "version": 3
   },
   "file_extension": ".py",
   "mimetype": "text/x-python",
   "name": "python",
   "nbconvert_exporter": "python",
   "pygments_lexer": "ipython3",
   "version": "3.12.0"
  }
 },
 "nbformat": 4,
 "nbformat_minor": 5
}
