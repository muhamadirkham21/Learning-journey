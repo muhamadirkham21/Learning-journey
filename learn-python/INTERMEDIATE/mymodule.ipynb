{
 "cells": [
  {
   "cell_type": "code",
   "execution_count": 2,
   "id": "29dc53da",
   "metadata": {},
   "outputs": [
    {
     "name": "stdout",
     "output_type": "stream",
     "text": [
      "hallo kham\n"
     ]
    }
   ],
   "source": [
    "def hallo(name):\n",
    "    print(f'hallo {name}')\n"
   ]
  },
  {
   "cell_type": "code",
   "execution_count": 5,
   "id": "af62cfb8",
   "metadata": {},
   "outputs": [],
   "source": [
    "import math\n",
    "phi = math.pi"
   ]
  },
  {
   "cell_type": "code",
   "execution_count": 6,
   "id": "fb93f722",
   "metadata": {},
   "outputs": [],
   "source": [
    "person1 = {\n",
    "  \"name\": \"John\",\n",
    "  \"age\": 36,\n",
    "  \"country\": \"Norway\"\n",
    "}"
   ]
  }
 ],
 "metadata": {
  "kernelspec": {
   "display_name": "Python 3 (ipykernel)",
   "language": "python",
   "name": "python3"
  },
  "language_info": {
   "codemirror_mode": {
    "name": "ipython",
    "version": 3
   },
   "file_extension": ".py",
   "mimetype": "text/x-python",
   "name": "python",
   "nbconvert_exporter": "python",
   "pygments_lexer": "ipython3",
   "version": "3.11.3"
  }
 },
 "nbformat": 4,
 "nbformat_minor": 5
}
