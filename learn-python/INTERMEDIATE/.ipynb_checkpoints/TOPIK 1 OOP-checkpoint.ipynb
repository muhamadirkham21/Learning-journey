{
 "cells": [
  {
   "cell_type": "code",
   "execution_count": 24,
   "id": "02395164",
   "metadata": {},
   "outputs": [],
   "source": [
    "class Human:\n",
    "    \n",
    "    def __init__(self, name, kaki=2, tangan=2, buta=False, tuli=False):\n",
    "        self.name = name\n",
    "        self.kaki = kaki\n",
    "        self.tangan = tangan\n",
    "        self.buta = buta\n",
    "        self.tuli = tuli\n",
    "        \n",
    "    def sebut_nama(self):\n",
    "        print('hallo nama saya {}'.format(self.name))\n",
    "    \n",
    "    def is_cacat(self):\n",
    "        normal = (self.kaki == 2 and self.tangan == 2 and self.buta == False and self.tuli == False)\n",
    "        if not normal:\n",
    "            return True\n",
    "        else:\n",
    "            return False"
   ]
  },
  {
   "cell_type": "code",
   "execution_count": 27,
   "id": "02bde5d2",
   "metadata": {},
   "outputs": [],
   "source": [
    "#inheritance\n",
    "\n",
    "class Dosen(Human):\n",
    "    \n",
    "    def __init__(self, univ):\n",
    "        self.univ = univ\n",
    "    \n",
    "    def sebut_univ(self):\n",
    "        print('saya dari {}'.format(self.univ))"
   ]
  },
  {
   "cell_type": "code",
   "execution_count": 26,
   "id": "3d0e866b",
   "metadata": {},
   "outputs": [
    {
     "name": "stdout",
     "output_type": "stream",
     "text": [
      "False\n",
      "True\n"
     ]
    }
   ],
   "source": [
    "irkham = Human('irkham')\n",
    "fulan = Human('fulan', tangan = 1)\n",
    "\n",
    "print(irkham.is_cacat())\n",
    "print(fulan.is_cacat())"
   ]
  },
  {
   "cell_type": "code",
   "execution_count": null,
   "id": "1cfae486",
   "metadata": {},
   "outputs": [],
   "source": [
    "#CLASS, PROPERTIES, METHODS, OBJECT"
   ]
  }
 ],
 "metadata": {
  "kernelspec": {
   "display_name": "Python 3 (ipykernel)",
   "language": "python",
   "name": "python3"
  },
  "language_info": {
   "codemirror_mode": {
    "name": "ipython",
    "version": 3
   },
   "file_extension": ".py",
   "mimetype": "text/x-python",
   "name": "python",
   "nbconvert_exporter": "python",
   "pygments_lexer": "ipython3",
   "version": "3.11.3"
  }
 },
 "nbformat": 4,
 "nbformat_minor": 5
}
