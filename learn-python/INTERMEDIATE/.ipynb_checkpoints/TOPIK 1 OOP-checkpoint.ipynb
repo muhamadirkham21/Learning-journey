{
 "cells": [
  {
   "cell_type": "markdown",
   "id": "52a96066",
   "metadata": {},
   "source": [
    "# Basic OOP"
   ]
  },
  {
   "cell_type": "code",
   "execution_count": 1,
   "id": "02395164",
   "metadata": {},
   "outputs": [],
   "source": [
    "class Human:\n",
    "    \n",
    "    def __init__(self, name, kaki=2, tangan=2, buta=False, tuli=False):\n",
    "        self.name = name\n",
    "        self.kaki = kaki\n",
    "        self.tangan = tangan\n",
    "        self.buta = buta\n",
    "        self.tuli = tuli\n",
    "        \n",
    "    def sebut_nama(self):\n",
    "        print('hallo nama saya {}'.format(self.name))\n",
    "    \n",
    "    def is_cacat(self):\n",
    "        normal = (self.kaki == 2 and self.tangan == 2 and self.buta == False and self.tuli == False)\n",
    "        if not normal:\n",
    "            return True\n",
    "        else:\n",
    "            return False\n",
    "        \n",
    "    def setAlamat(self, alamat):\n",
    "        self.alamat = alamat\n",
    "    \n",
    "    def getAlamat(self):\n",
    "        return self.alamat"
   ]
  },
  {
   "cell_type": "code",
   "execution_count": 2,
   "id": "3d0e866b",
   "metadata": {},
   "outputs": [
    {
     "name": "stdout",
     "output_type": "stream",
     "text": [
      "False\n",
      "True\n",
      "<class '__main__.Human'>\n",
      "['__class__', '__delattr__', '__dict__', '__dir__', '__doc__', '__eq__', '__format__', '__ge__', '__getattribute__', '__getstate__', '__gt__', '__hash__', '__init__', '__init_subclass__', '__le__', '__lt__', '__module__', '__ne__', '__new__', '__reduce__', '__reduce_ex__', '__repr__', '__setattr__', '__sizeof__', '__str__', '__subclasshook__', '__weakref__', 'buta', 'getAlamat', 'is_cacat', 'kaki', 'name', 'sebut_nama', 'setAlamat', 'tangan', 'tuli']\n"
     ]
    }
   ],
   "source": [
    "irkham = Human('irkham')\n",
    "fulan = Human('fulan', tangan = 1)\n",
    "\n",
    "print(irkham.is_cacat())\n",
    "print(fulan.is_cacat())\n",
    "\n",
    "print(type(irkham))\n",
    "print(dir(irkham))"
   ]
  },
  {
   "cell_type": "code",
   "execution_count": 3,
   "id": "97cf7284",
   "metadata": {},
   "outputs": [
    {
     "data": {
      "text/plain": [
       "'indonesia'"
      ]
     },
     "execution_count": 3,
     "metadata": {},
     "output_type": "execute_result"
    }
   ],
   "source": [
    "irkham.setAlamat('indonesia')\n",
    "irkham.getAlamat()"
   ]
  },
  {
   "cell_type": "code",
   "execution_count": 4,
   "id": "1cfae486",
   "metadata": {},
   "outputs": [
    {
     "name": "stdout",
     "output_type": "stream",
     "text": [
      "First number = 50\n",
      "Second number = 50\n",
      "Addition of two numbers = 100\n",
      "0\n"
     ]
    }
   ],
   "source": [
    "#CLASS, PROPERTIES, METHODS, OBJECT\n",
    "\n",
    "\n",
    "class Addition:\n",
    "    first = 0\n",
    "    second = 0\n",
    "    answer = 0\n",
    " \n",
    "    # parameterized constructor\n",
    "    def __init__(self, f, s):\n",
    "        self.first = f\n",
    "        self.second = s\n",
    " \n",
    "    def display(self):\n",
    "        print(\"First number = \" + str(self.first))\n",
    "        print(\"Second number = \" + str(self.second))\n",
    "        print(\"Addition of two numbers = \" + str(self.answer))\n",
    " \n",
    "    def calculate(self):\n",
    "        self.answer = self.first + self.second\n",
    "\n",
    "\n",
    "hundred = Addition(50, 50) \n",
    "hundred.calculate()\n",
    "hundred.display()\n",
    "print(Addition.first)"
   ]
  },
  {
   "cell_type": "code",
   "execution_count": 5,
   "id": "dd0d04cf",
   "metadata": {},
   "outputs": [
    {
     "name": "stdout",
     "output_type": "stream",
     "text": [
      "25\n",
      "20\n",
      "5\n"
     ]
    }
   ],
   "source": [
    "class Persegi():\n",
    "    sisi = 0\n",
    "    \n",
    "    def __init__(self, s):\n",
    "        self.sisi = s\n",
    "    \n",
    "    def get_luas(self):\n",
    "        return self.sisi**2\n",
    "    \n",
    "    def get_keliling(self):\n",
    "        return self.sisi * 4\n",
    "\n",
    "A = Persegi(5)\n",
    "print(A.get_luas())\n",
    "print(A.get_keliling())\n",
    "print(A.sisi)"
   ]
  },
  {
   "cell_type": "code",
   "execution_count": 6,
   "id": "3f5896ef",
   "metadata": {},
   "outputs": [
    {
     "name": "stdout",
     "output_type": "stream",
     "text": [
      "Sebuah Lingkaran dengan jari-jari 14\n",
      "3.141592653589793\n",
      "615.7521601035994\n",
      "87.96459430051421\n"
     ]
    }
   ],
   "source": [
    "import math\n",
    "\n",
    "class Lingkaran():\n",
    "    phi = math.pi\n",
    "    \n",
    "    def __init__(self, r):\n",
    "        self.r = r\n",
    "    \n",
    "    def definisi(self):\n",
    "        return 'Sebuah Lingkaran dengan jari-jari {}'.format(self.r)\n",
    "    \n",
    "    def get_luas(self):\n",
    "        return self.phi * (self.r ** 2)\n",
    "    \n",
    "    def get_keliling(self):\n",
    "        return 2 * self.phi * self.r\n",
    "\n",
    "D = Lingkaran(14)\n",
    "print(D.definisi())\n",
    "print(D.phi)\n",
    "print(D.get_luas())\n",
    "print(D.get_keliling())\n",
    "    "
   ]
  },
  {
   "cell_type": "code",
   "execution_count": 8,
   "id": "10002cf5",
   "metadata": {},
   "outputs": [
    {
     "name": "stdout",
     "output_type": "stream",
     "text": [
      "3.141592653589793\n",
      "2.0\n",
      "2.0\n",
      "1\n",
      "3\n"
     ]
    }
   ],
   "source": [
    "import numpy as np\n",
    "import math\n",
    "\n",
    "class Statistik():\n",
    "    \n",
    "    phi = math.pi\n",
    "    \n",
    "    \n",
    "    #def __init__():\n",
    "        #pass\n",
    "    \n",
    "    def rata_rata(self, data):\n",
    "        return np.mean(data)\n",
    "    \n",
    "    def median(self, data):\n",
    "        return np.median(data)\n",
    "    \n",
    "    def terbesar(self, data):\n",
    "        return max(data)\n",
    "    \n",
    "    def terkecil(self, data):\n",
    "        return min(data)\n",
    "\n",
    "stat = Statistik()\n",
    "\n",
    "print(stat.phi)\n",
    "print(stat.rata_rata([1, 2, 3]))\n",
    "print(stat.median([1, 2, 3]))\n",
    "print(stat.terkecil([1, 2, 3]))\n",
    "print(stat.terbesar([1, 2, 3]))"
   ]
  },
  {
   "cell_type": "code",
   "execution_count": 43,
   "id": "6be75a26",
   "metadata": {},
   "outputs": [
    {
     "name": "stdout",
     "output_type": "stream",
     "text": [
      "False\n",
      "None\n",
      "UNNES\n",
      "hallo nama saya thoriq\n"
     ]
    }
   ],
   "source": [
    "#INHERRITANCE\n",
    "\n",
    "class Mahasiswa(Human):\n",
    "    univ = None\n",
    "    def __init__(self, name,umur):\n",
    "        super().__init__(name)\n",
    "        self.umur = umur\n",
    "        \n",
    "    def setUniv(self, univ):\n",
    "        self.univ = univ\n",
    "    \n",
    "    def getUniv(self):\n",
    "        return self.univ\n",
    "    \n",
    "    def is_mahasiswa(self):\n",
    "        return True\n",
    "    \n",
    "thoriq = Mahasiswa('thoriq', 12)\n",
    "print(thoriq.is_cacat())\n",
    "print(thoriq.getUniv())\n",
    "thoriq.setUniv('UNNES')\n",
    "print(thoriq.getUniv())\n",
    "thoriq.sebut_nama()"
   ]
  }
 ],
 "metadata": {
  "kernelspec": {
   "display_name": "Python 3 (ipykernel)",
   "language": "python",
   "name": "python3"
  },
  "language_info": {
   "codemirror_mode": {
    "name": "ipython",
    "version": 3
   },
   "file_extension": ".py",
   "mimetype": "text/x-python",
   "name": "python",
   "nbconvert_exporter": "python",
   "pygments_lexer": "ipython3",
   "version": "3.11.3"
  }
 },
 "nbformat": 4,
 "nbformat_minor": 5
}
