{
 "cells": [
  {
   "cell_type": "code",
   "execution_count": 1,
   "id": "ba7bf297",
   "metadata": {},
   "outputs": [
    {
     "name": "stdout",
     "output_type": "stream",
     "text": [
      "set up loaded\n",
      "set up already\n"
     ]
    }
   ],
   "source": [
    "print('set up loaded')\n",
    "import os\n",
    "import re\n",
    "print('set up already')"
   ]
  },
  {
   "cell_type": "code",
   "execution_count": 3,
   "id": "ca8b6882",
   "metadata": {},
   "outputs": [
    {
     "name": "stdout",
     "output_type": "stream",
     "text": [
      "C:\\Users\\HP\\OneDrive\\Documents\\Learning-journey\\learn-python\\INTERMEDIATE\n"
     ]
    }
   ],
   "source": [
    "print(os.getcwd()) # melihat direktori yang sedang beroprasi"
   ]
  },
  {
   "cell_type": "code",
   "execution_count": 5,
   "id": "d065e49d",
   "metadata": {},
   "outputs": [
    {
     "name": "stdout",
     "output_type": "stream",
     "text": [
      "['.ipynb_checkpoints', 'mymodule.ipynb', 'TOPIK 1 OOP.ipynb', 'TOPIK 2 RegEx.ipynb', 'TOPIK 3 File Handling .ipynb', 'TOPIK 4 Exception Handling.ipynb', 'TOPIK 5 Module.ipynb']\n"
     ]
    }
   ],
   "source": [
    "print(os.listdir()) # melihat file didalam direktori"
   ]
  },
  {
   "cell_type": "code",
   "execution_count": 7,
   "id": "da1ca2be",
   "metadata": {},
   "outputs": [
    {
     "name": "stdout",
     "output_type": "stream",
     "text": [
      "file tidak ada\n"
     ]
    }
   ],
   "source": [
    "file = 'EMAILANDPASS.txt'\n",
    "try :\n",
    "    f = open(file)\n",
    "    for line in f:\n",
    "        if re.search('^\\s', line):continue\n",
    "        print(line.rstrip())\n",
    "    f.close()\n",
    "except:\n",
    "    print('file tidak ada')"
   ]
  },
  {
   "cell_type": "code",
   "execution_count": 8,
   "id": "dea3e60b",
   "metadata": {},
   "outputs": [
    {
     "name": "stdout",
     "output_type": "stream",
     "text": [
      "file tidak ada\n"
     ]
    }
   ],
   "source": [
    "#shortcut open\n",
    "try:\n",
    "    with open(file, 'r') as f :\n",
    "        for line in f:\n",
    "            if re.search('^\\s', line) : continue\n",
    "            print(line.rstrip())\n",
    "except:\n",
    "    print('file tidak ada')"
   ]
  },
  {
   "cell_type": "code",
   "execution_count": 26,
   "id": "a6d0713f",
   "metadata": {},
   "outputs": [
    {
     "name": "stdout",
     "output_type": "stream",
     "text": [
      "{'muhirkham21@gmail.com', 'm286dsx0513@bangkit.academy', 'muhirkham21@students.unnes.ac.id'}\n"
     ]
    }
   ],
   "source": [
    "#contoh mengambil email dari sebuah teks\n",
    "list_email = []\n",
    "\n",
    "with open(file, 'r') as f :\n",
    "    for line in f:\n",
    "        if re.search('^\\s', line): continue\n",
    "        x = re.findall('(\\S+@\\S+),', line) \n",
    "        if len(x) == 0 : continue\n",
    "        list_email.extend(x)\n",
    "        \n",
    "print(set(list_email))\n"
   ]
  },
  {
   "cell_type": "markdown",
   "id": "b339f62f",
   "metadata": {},
   "source": [
    "## rangkuman"
   ]
  },
  {
   "cell_type": "code",
   "execution_count": 10,
   "id": "16ac0b18",
   "metadata": {},
   "outputs": [],
   "source": [
    "def create_file(filename):\n",
    "    try:\n",
    "        with open(filename, 'w') as f:\n",
    "            f.write('Hello, world!\\n')\n",
    "        print(\"File \" + filename + \" created successfully.\")\n",
    "    except IOError:\n",
    "        print(\"Error: could not create file \" + filename)\n",
    " \n",
    "def read_file(filename):\n",
    "    try:\n",
    "        with open(filename, 'r') as f:\n",
    "            contents = f.read()\n",
    "            print(contents)\n",
    "    except IOError:\n",
    "        print(\"Error: could not read file \" + filename)\n",
    " \n",
    "def append_file(filename, text):\n",
    "    try:\n",
    "        with open(filename, 'a') as f:\n",
    "            f.write(text)\n",
    "        print(\"Text appended to file \" + filename + \" successfully.\")\n",
    "    except IOError:\n",
    "        print(\"Error: could not append to file \" + filename)\n",
    " \n",
    "def rename_file(filename, new_filename):\n",
    "    try:\n",
    "        os.rename(filename, new_filename)\n",
    "        print(\"File \" + filename + \" renamed to \" + new_filename + \" successfully.\")\n",
    "    except IOError:\n",
    "        print(\"Error: could not rename file \" + filename)\n",
    " \n",
    "def delete_file(filename):\n",
    "    try:\n",
    "        os.remove(filename)\n",
    "        print(\"File \" + filename + \" deleted successfully.\")\n",
    "    except IOError:\n",
    "        print(\"Error: could not delete file \" + filename)"
   ]
  }
 ],
 "metadata": {
  "kernelspec": {
   "display_name": "Python 3 (ipykernel)",
   "language": "python",
   "name": "python3"
  },
  "language_info": {
   "codemirror_mode": {
    "name": "ipython",
    "version": 3
   },
   "file_extension": ".py",
   "mimetype": "text/x-python",
   "name": "python",
   "nbconvert_exporter": "python",
   "pygments_lexer": "ipython3",
   "version": "3.11.3"
  }
 },
 "nbformat": 4,
 "nbformat_minor": 5
}
