{
 "cells": [
  {
   "cell_type": "code",
   "execution_count": 1,
   "id": "ba7bf297",
   "metadata": {},
   "outputs": [
    {
     "name": "stdout",
     "output_type": "stream",
     "text": [
      "set up loaded\n",
      "set up already\n"
     ]
    }
   ],
   "source": [
    "print('set up loaded')\n",
    "import os\n",
    "import re\n",
    "print('set up already')"
   ]
  },
  {
   "cell_type": "code",
   "execution_count": 2,
   "id": "ca8b6882",
   "metadata": {},
   "outputs": [
    {
     "name": "stdout",
     "output_type": "stream",
     "text": [
      "/home/irkham/Learning-journey/learn-python/INTERMEDIATE\n"
     ]
    }
   ],
   "source": [
    "print(os.getcwd()) # melihat direktori yang sedang beroprasi"
   ]
  },
  {
   "cell_type": "code",
   "execution_count": 3,
   "id": "d065e49d",
   "metadata": {},
   "outputs": [
    {
     "name": "stdout",
     "output_type": "stream",
     "text": [
      "['mymodule.ipynb', 'TOPIK 4 Exception Handling.ipynb', 'TOPIK 1 OOP.ipynb', 'TOPIK 5 Module.ipynb', 'TOPIK 2 RegEx.ipynb', '.ipynb_checkpoints', 'TOPIK 3 File Handling .ipynb']\n"
     ]
    }
   ],
   "source": [
    "print(os.listdir()) # melihat file didalam direktori"
   ]
  },
  {
   "cell_type": "code",
   "execution_count": 4,
   "id": "da1ca2be",
   "metadata": {},
   "outputs": [
    {
     "name": "stdout",
     "output_type": "stream",
     "text": [
      "file tidak ada\n"
     ]
    },
    {
     "name": "stderr",
     "output_type": "stream",
     "text": [
      "<>:5: SyntaxWarning: invalid escape sequence '\\s'\n",
      "<>:5: SyntaxWarning: invalid escape sequence '\\s'\n",
      "/tmp/ipykernel_13880/2254844769.py:5: SyntaxWarning: invalid escape sequence '\\s'\n",
      "  if re.search('^\\s', line):continue\n"
     ]
    }
   ],
   "source": [
    "file = 'EMAILANDPASS.txt'\n",
    "try :\n",
    "    f = open(file)\n",
    "    for line in f:\n",
    "        if re.search('^\\s', line):continue\n",
    "        print(line.rstrip())\n",
    "    f.close()\n",
    "except:\n",
    "    print('file tidak ada')"
   ]
  },
  {
   "cell_type": "code",
   "execution_count": 5,
   "id": "dea3e60b",
   "metadata": {},
   "outputs": [
    {
     "name": "stdout",
     "output_type": "stream",
     "text": [
      "file tidak ada\n"
     ]
    },
    {
     "name": "stderr",
     "output_type": "stream",
     "text": [
      "<>:5: SyntaxWarning: invalid escape sequence '\\s'\n",
      "<>:5: SyntaxWarning: invalid escape sequence '\\s'\n",
      "/tmp/ipykernel_13880/481844880.py:5: SyntaxWarning: invalid escape sequence '\\s'\n",
      "  if re.search('^\\s', line) : continue\n"
     ]
    }
   ],
   "source": [
    "#shortcut open\n",
    "try:\n",
    "    with open(file, 'r') as f :\n",
    "        for line in f:\n",
    "            if re.search('^\\s', line) : continue\n",
    "            print(line.rstrip())\n",
    "except:\n",
    "    print('file tidak ada')"
   ]
  },
  {
   "cell_type": "code",
   "execution_count": 6,
   "id": "a6d0713f",
   "metadata": {},
   "outputs": [
    {
     "name": "stderr",
     "output_type": "stream",
     "text": [
      "<>:6: SyntaxWarning: invalid escape sequence '\\s'\n",
      "<>:7: SyntaxWarning: invalid escape sequence '\\S'\n",
      "<>:6: SyntaxWarning: invalid escape sequence '\\s'\n",
      "<>:7: SyntaxWarning: invalid escape sequence '\\S'\n",
      "/tmp/ipykernel_13880/749845488.py:6: SyntaxWarning: invalid escape sequence '\\s'\n",
      "  if re.search('^\\s', line): continue\n",
      "/tmp/ipykernel_13880/749845488.py:7: SyntaxWarning: invalid escape sequence '\\S'\n",
      "  x = re.findall('(\\S+@\\S+),', line)\n",
      "/tmp/ipykernel_13880/749845488.py:6: SyntaxWarning: invalid escape sequence '\\s'\n",
      "  if re.search('^\\s', line): continue\n",
      "/tmp/ipykernel_13880/749845488.py:7: SyntaxWarning: invalid escape sequence '\\S'\n",
      "  x = re.findall('(\\S+@\\S+),', line)\n"
     ]
    },
    {
     "ename": "FileNotFoundError",
     "evalue": "[Errno 2] No such file or directory: 'EMAILANDPASS.txt'",
     "output_type": "error",
     "traceback": [
      "\u001b[0;31m---------------------------------------------------------------------------\u001b[0m",
      "\u001b[0;31mFileNotFoundError\u001b[0m                         Traceback (most recent call last)",
      "Cell \u001b[0;32mIn[6], line 4\u001b[0m\n\u001b[1;32m      1\u001b[0m \u001b[38;5;66;03m#contoh mengambil email dari sebuah teks\u001b[39;00m\n\u001b[1;32m      2\u001b[0m list_email \u001b[38;5;241m=\u001b[39m []\n\u001b[0;32m----> 4\u001b[0m \u001b[38;5;28;01mwith\u001b[39;00m \u001b[38;5;28;43mopen\u001b[39;49m\u001b[43m(\u001b[49m\u001b[43mfile\u001b[49m\u001b[43m,\u001b[49m\u001b[43m \u001b[49m\u001b[38;5;124;43m'\u001b[39;49m\u001b[38;5;124;43mr\u001b[39;49m\u001b[38;5;124;43m'\u001b[39;49m\u001b[43m)\u001b[49m \u001b[38;5;28;01mas\u001b[39;00m f :\n\u001b[1;32m      5\u001b[0m     \u001b[38;5;28;01mfor\u001b[39;00m line \u001b[38;5;129;01min\u001b[39;00m f:\n\u001b[1;32m      6\u001b[0m         \u001b[38;5;28;01mif\u001b[39;00m re\u001b[38;5;241m.\u001b[39msearch(\u001b[38;5;124m'\u001b[39m\u001b[38;5;124m^\u001b[39m\u001b[38;5;124m\\\u001b[39m\u001b[38;5;124ms\u001b[39m\u001b[38;5;124m'\u001b[39m, line): \u001b[38;5;28;01mcontinue\u001b[39;00m\n",
      "File \u001b[0;32m~/miniconda3/envs/learning/lib/python3.12/site-packages/IPython/core/interactiveshell.py:310\u001b[0m, in \u001b[0;36m_modified_open\u001b[0;34m(file, *args, **kwargs)\u001b[0m\n\u001b[1;32m    303\u001b[0m \u001b[38;5;28;01mif\u001b[39;00m file \u001b[38;5;129;01min\u001b[39;00m {\u001b[38;5;241m0\u001b[39m, \u001b[38;5;241m1\u001b[39m, \u001b[38;5;241m2\u001b[39m}:\n\u001b[1;32m    304\u001b[0m     \u001b[38;5;28;01mraise\u001b[39;00m \u001b[38;5;167;01mValueError\u001b[39;00m(\n\u001b[1;32m    305\u001b[0m         \u001b[38;5;124mf\u001b[39m\u001b[38;5;124m\"\u001b[39m\u001b[38;5;124mIPython won\u001b[39m\u001b[38;5;124m'\u001b[39m\u001b[38;5;124mt let you open fd=\u001b[39m\u001b[38;5;132;01m{\u001b[39;00mfile\u001b[38;5;132;01m}\u001b[39;00m\u001b[38;5;124m by default \u001b[39m\u001b[38;5;124m\"\u001b[39m\n\u001b[1;32m    306\u001b[0m         \u001b[38;5;124m\"\u001b[39m\u001b[38;5;124mas it is likely to crash IPython. If you know what you are doing, \u001b[39m\u001b[38;5;124m\"\u001b[39m\n\u001b[1;32m    307\u001b[0m         \u001b[38;5;124m\"\u001b[39m\u001b[38;5;124myou can use builtins\u001b[39m\u001b[38;5;124m'\u001b[39m\u001b[38;5;124m open.\u001b[39m\u001b[38;5;124m\"\u001b[39m\n\u001b[1;32m    308\u001b[0m     )\n\u001b[0;32m--> 310\u001b[0m \u001b[38;5;28;01mreturn\u001b[39;00m \u001b[43mio_open\u001b[49m\u001b[43m(\u001b[49m\u001b[43mfile\u001b[49m\u001b[43m,\u001b[49m\u001b[43m \u001b[49m\u001b[38;5;241;43m*\u001b[39;49m\u001b[43margs\u001b[49m\u001b[43m,\u001b[49m\u001b[43m \u001b[49m\u001b[38;5;241;43m*\u001b[39;49m\u001b[38;5;241;43m*\u001b[39;49m\u001b[43mkwargs\u001b[49m\u001b[43m)\u001b[49m\n",
      "\u001b[0;31mFileNotFoundError\u001b[0m: [Errno 2] No such file or directory: 'EMAILANDPASS.txt'"
     ]
    }
   ],
   "source": [
    "#contoh mengambil email dari sebuah teks\n",
    "list_email = []\n",
    "\n",
    "with open(file, 'r') as f :\n",
    "    for line in f:\n",
    "        if re.search('^\\s', line): continue\n",
    "        x = re.findall('(\\S+@\\S+),', line) \n",
    "        if len(x) == 0 : continue\n",
    "        list_email.extend(x)\n",
    "        \n",
    "print(set(list_email))\n"
   ]
  },
  {
   "cell_type": "markdown",
   "id": "b339f62f",
   "metadata": {},
   "source": [
    "## rangkuman"
   ]
  },
  {
   "cell_type": "code",
   "execution_count": null,
   "id": "16ac0b18",
   "metadata": {},
   "outputs": [],
   "source": [
    "def create_file(filename):\n",
    "    try:\n",
    "        with open(filename, 'w') as f:\n",
    "            f.write('Hello, world!\\n')\n",
    "        print(\"File \" + filename + \" created successfully.\")\n",
    "    except IOError:\n",
    "        print(\"Error: could not create file \" + filename)\n",
    " \n",
    "def read_file(filename):\n",
    "    try:\n",
    "        with open(filename, 'r') as f:\n",
    "            contents = f.read()\n",
    "            print(contents)\n",
    "    except IOError:\n",
    "        print(\"Error: could not read file \" + filename)\n",
    " \n",
    "def append_file(filename, text):\n",
    "    try:\n",
    "        with open(filename, 'a') as f:\n",
    "            f.write(text)\n",
    "        print(\"Text appended to file \" + filename + \" successfully.\")\n",
    "    except IOError:\n",
    "        print(\"Error: could not append to file \" + filename)\n",
    " \n",
    "def rename_file(filename, new_filename):\n",
    "    try:\n",
    "        os.rename(filename, new_filename)\n",
    "        print(\"File \" + filename + \" renamed to \" + new_filename + \" successfully.\")\n",
    "    except IOError:\n",
    "        print(\"Error: could not rename file \" + filename)\n",
    " \n",
    "def delete_file(filename):\n",
    "    try:\n",
    "        os.remove(filename)\n",
    "        print(\"File \" + filename + \" deleted successfully.\")\n",
    "    except IOError:\n",
    "        print(\"Error: could not delete file \" + filename)"
   ]
  }
 ],
 "metadata": {
  "kernelspec": {
   "display_name": "Python 3 (ipykernel)",
   "language": "python",
   "name": "python3"
  },
  "language_info": {
   "codemirror_mode": {
    "name": "ipython",
    "version": 3
   },
   "file_extension": ".py",
   "mimetype": "text/x-python",
   "name": "python",
   "nbconvert_exporter": "python",
   "pygments_lexer": "ipython3",
   "version": "3.12.0"
  }
 },
 "nbformat": 4,
 "nbformat_minor": 5
}
