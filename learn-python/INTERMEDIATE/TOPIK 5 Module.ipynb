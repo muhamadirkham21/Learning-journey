{
 "cells": [
  {
   "cell_type": "code",
   "execution_count": 1,
   "id": "ba984ff4",
   "metadata": {},
   "outputs": [],
   "source": [
    "import nbimporter"
   ]
  },
  {
   "cell_type": "code",
   "execution_count": 8,
   "id": "c05c75fd",
   "metadata": {},
   "outputs": [],
   "source": [
    "from mymodule import hallo\n"
   ]
  },
  {
   "cell_type": "code",
   "execution_count": 9,
   "id": "4ab752d7",
   "metadata": {},
   "outputs": [
    {
     "name": "stdout",
     "output_type": "stream",
     "text": [
      "hallo hai\n"
     ]
    }
   ],
   "source": [
    "hallo('hai')"
   ]
  },
  {
   "cell_type": "code",
   "execution_count": 5,
   "id": "1837e226",
   "metadata": {},
   "outputs": [
    {
     "name": "stdout",
     "output_type": "stream",
     "text": [
      "hallo muhamad\n"
     ]
    }
   ],
   "source": [
    "hallo('muhamad')"
   ]
  },
  {
   "cell_type": "code",
   "execution_count": null,
   "id": "196d7aab",
   "metadata": {},
   "outputs": [],
   "source": [
    "\"\"\"\n",
    "untuk kasus file .py cukum mengimport saja \n",
    "\"\"\""
   ]
  },
  {
   "cell_type": "code",
   "execution_count": 6,
   "id": "9c504510",
   "metadata": {},
   "outputs": [
    {
     "name": "stdout",
     "output_type": "stream",
     "text": [
      "woof!\n"
     ]
    }
   ],
   "source": [
    "import dog\n",
    "\n",
    "dog.bark()\n",
    "\n"
   ]
  },
  {
   "cell_type": "code",
   "execution_count": 2,
   "id": "269292fb",
   "metadata": {},
   "outputs": [
    {
     "name": "stdout",
     "output_type": "stream",
     "text": [
      "woof!\n"
     ]
    }
   ],
   "source": [
    "from dog import bark\n",
    "\n",
    "bark()"
   ]
  },
  {
   "cell_type": "markdown",
   "id": "19222eb7",
   "metadata": {},
   "source": [
    "## library"
   ]
  },
  {
   "cell_type": "code",
   "execution_count": 7,
   "id": "b9fdc877",
   "metadata": {},
   "outputs": [
    {
     "name": "stdout",
     "output_type": "stream",
     "text": [
      "miauw!\n"
     ]
    }
   ],
   "source": [
    "from libr import cat\n",
    "\n",
    "cat.bark()"
   ]
  },
  {
   "cell_type": "code",
   "execution_count": 8,
   "id": "7e40b51c",
   "metadata": {},
   "outputs": [
    {
     "name": "stdout",
     "output_type": "stream",
     "text": [
      "miauw!\n"
     ]
    }
   ],
   "source": [
    "from libr.cat import bark\n",
    "\n",
    "bark()"
   ]
  }
 ],
 "metadata": {
  "kernelspec": {
   "display_name": "Python 3 (ipykernel)",
   "language": "python",
   "name": "python3"
  },
  "language_info": {
   "codemirror_mode": {
    "name": "ipython",
    "version": 3
   },
   "file_extension": ".py",
   "mimetype": "text/x-python",
   "name": "python",
   "nbconvert_exporter": "python",
   "pygments_lexer": "ipython3",
   "version": "3.12.0"
  }
 },
 "nbformat": 4,
 "nbformat_minor": 5
}
