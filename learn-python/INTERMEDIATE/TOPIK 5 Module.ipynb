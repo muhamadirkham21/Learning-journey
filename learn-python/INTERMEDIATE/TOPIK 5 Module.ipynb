{
 "cells": [
  {
   "cell_type": "code",
   "execution_count": 1,
   "id": "ba984ff4",
   "metadata": {},
   "outputs": [],
   "source": [
    "import nbimporter"
   ]
  },
  {
   "cell_type": "code",
   "execution_count": 8,
   "id": "c05c75fd",
   "metadata": {},
   "outputs": [],
   "source": [
    "from mymodule import hallo\n"
   ]
  },
  {
   "cell_type": "code",
   "execution_count": 9,
   "id": "4ab752d7",
   "metadata": {},
   "outputs": [
    {
     "name": "stdout",
     "output_type": "stream",
     "text": [
      "hallo hai\n"
     ]
    }
   ],
   "source": [
    "hallo('hai')"
   ]
  },
  {
   "cell_type": "code",
   "execution_count": 5,
   "id": "1837e226",
   "metadata": {},
   "outputs": [
    {
     "name": "stdout",
     "output_type": "stream",
     "text": [
      "hallo muhamad\n"
     ]
    }
   ],
   "source": [
    "hallo('muhamad')"
   ]
  },
  {
   "cell_type": "code",
   "execution_count": null,
   "id": "196d7aab",
   "metadata": {},
   "outputs": [],
   "source": [
    "\"\"\"\n",
    "untuk kasus file .py cukum mengimport saja \n",
    "\"\"\""
   ]
  },
  {
   "cell_type": "code",
   "execution_count": 2,
   "id": "9c504510",
   "metadata": {},
   "outputs": [
    {
     "name": "stdout",
     "output_type": "stream",
     "text": [
      "woof!\n"
     ]
    },
    {
     "data": {
      "text/plain": [
       "'roger'"
      ]
     },
     "execution_count": 2,
     "metadata": {},
     "output_type": "execute_result"
    }
   ],
   "source": [
    "import dog\n",
    "\n",
    "dog.bark()\n",
    "dog.name\n",
    "\n"
   ]
  },
  {
   "cell_type": "code",
   "execution_count": 1,
   "id": "269292fb",
   "metadata": {},
   "outputs": [
    {
     "name": "stdout",
     "output_type": "stream",
     "text": [
      "woof!\n",
      "roger\n"
     ]
    }
   ],
   "source": [
    "from dog import bark, name\n",
    "\n",
    "bark()\n",
    "print(name)"
   ]
  },
  {
   "cell_type": "markdown",
   "id": "19222eb7",
   "metadata": {},
   "source": [
    "## library"
   ]
  },
  {
   "cell_type": "code",
   "execution_count": 4,
   "id": "b9fdc877",
   "metadata": {},
   "outputs": [
    {
     "name": "stdout",
     "output_type": "stream",
     "text": [
      "miauw!\n"
     ]
    }
   ],
   "source": [
    "from libr import cat\n",
    "\n",
    "cat.bark()"
   ]
  },
  {
   "cell_type": "code",
   "execution_count": 8,
   "id": "7e40b51c",
   "metadata": {},
   "outputs": [
    {
     "name": "stdout",
     "output_type": "stream",
     "text": [
      "miauw!\n"
     ]
    }
   ],
   "source": [
    "from libr.cat import bark\n",
    "\n",
    "bark()"
   ]
  },
  {
   "cell_type": "code",
   "execution_count": null,
   "id": "dc6375de",
   "metadata": {},
   "outputs": [],
   "source": [
    "## __init__.py akan dieksekusi jika package di import"
   ]
  },
  {
   "cell_type": "code",
   "execution_count": 13,
   "id": "7ab6e5c3",
   "metadata": {},
   "outputs": [
    {
     "name": "stdout",
     "output_type": "stream",
     "text": [
      "miauw!\n",
      "None\n"
     ]
    }
   ],
   "source": [
    "import libr\n",
    "print(libr.cat.bark())"
   ]
  },
  {
   "cell_type": "code",
   "execution_count": 12,
   "id": "e1461349",
   "metadata": {},
   "outputs": [],
   "source": [
    "# untuk memanggil bark melalui libr file __init__.py harus ditambah dengan\n",
    "# from .import cat.bark "
   ]
  }
 ],
 "metadata": {
  "kernelspec": {
   "display_name": "Python 3 (ipykernel)",
   "language": "python",
   "name": "python3"
  },
  "language_info": {
   "codemirror_mode": {
    "name": "ipython",
    "version": 3
   },
   "file_extension": ".py",
   "mimetype": "text/x-python",
   "name": "python",
   "nbconvert_exporter": "python",
   "pygments_lexer": "ipython3",
   "version": "3.12.0"
  }
 },
 "nbformat": 4,
 "nbformat_minor": 5
}
