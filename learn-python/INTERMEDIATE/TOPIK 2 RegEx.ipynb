{
 "cells": [
  {
   "cell_type": "markdown",
   "id": "0e43183f",
   "metadata": {},
   "source": [
    "## Basic RegExp"
   ]
  },
  {
   "cell_type": "code",
   "execution_count": 2,
   "id": "751c8e7d",
   "metadata": {},
   "outputs": [
    {
     "name": "stdout",
     "output_type": "stream",
     "text": [
      "set up loaded...\n",
      "set up finished !\n"
     ]
    }
   ],
   "source": [
    "print('set up loaded...')\n",
    "import re\n",
    "print('set up finished !')"
   ]
  },
  {
   "cell_type": "code",
   "execution_count": 3,
   "id": "4bfb2ef0",
   "metadata": {},
   "outputs": [
    {
     "name": "stderr",
     "output_type": "stream",
     "text": [
      "<>:1: SyntaxWarning: invalid escape sequence '\\s'\n",
      "<>:1: SyntaxWarning: invalid escape sequence '\\s'\n",
      "/tmp/ipykernel_13800/243034252.py:1: SyntaxWarning: invalid escape sequence '\\s'\n",
      "  \"\"\"\n"
     ]
    },
    {
     "data": {
      "text/plain": [
       "'\\n^ matches the beginning of a line\\n$ matches the end of a line\\n. matches any charracter\\n\\\\s matches white space\\n\\\\S matches non white space\\n* repeats a char zero or more time greedy(di cari string paling panjang) \\n+ repeats a char one or more time greedy\\n*? repeats a char zero or more time\\n+? repeats a char one or more time\\n[aiueo] mathes a single char in a list\\n[^ AIUEO] matches a single char not in list\\n[a-z1-9] matches of range char\\n'"
      ]
     },
     "execution_count": 3,
     "metadata": {},
     "output_type": "execute_result"
    }
   ],
   "source": [
    "\"\"\"\n",
    "^ matches the beginning of a line\n",
    "$ matches the end of a line\n",
    ". matches any charracter\n",
    "\\s matches white space\n",
    "\\S matches non white space\n",
    "* repeats a char zero or more time greedy(di cari string paling panjang) \n",
    "+ repeats a char one or more time greedy\n",
    "*? repeats a char zero or more time\n",
    "+? repeats a char one or more time\n",
    "[aiueo] mathes a single char in a list\n",
    "[^ AIUEO] matches a single char not in list\n",
    "[a-z1-9] matches of range char\n",
    "\"\"\""
   ]
  },
  {
   "cell_type": "code",
   "execution_count": 4,
   "id": "07c7b4b6",
   "metadata": {},
   "outputs": [
    {
     "name": "stdout",
     "output_type": "stream",
     "text": [
      "kata ditemukan\n"
     ]
    }
   ],
   "source": [
    "#menggunakan re.search()\n",
    "\n",
    "text = 'hallo nama saya khamz'\n",
    "\n",
    "if re.search('saya', text):\n",
    "    print('kata ditemukan')\n",
    "else:\n",
    "    print('kata tidak ada')"
   ]
  },
  {
   "cell_type": "code",
   "execution_count": 5,
   "id": "4034601a",
   "metadata": {},
   "outputs": [
    {
     "name": "stdout",
     "output_type": "stream",
     "text": [
      "betull\n"
     ]
    }
   ],
   "source": [
    "# ^ adalah carrot charracter\n",
    "\n",
    "if re.search('^hallo', text):\n",
    "    print('betull')\n",
    "else:\n",
    "    print('salah')"
   ]
  },
  {
   "cell_type": "code",
   "execution_count": 6,
   "id": "8de215b9",
   "metadata": {},
   "outputs": [
    {
     "name": "stdout",
     "output_type": "stream",
     "text": [
      "ditemukan\n",
      "tidakkk\n",
      "ditemukan\n",
      "tidakkk\n"
     ]
    }
   ],
   "source": [
    "ex = '^x.*:'   # artinya sebuah baris yang diawali dengan x diikuti karakter apapun sebanyak berapapun(0 atau lebih) diakhiri :\n",
    "\n",
    "line1 = 'x adalah variabel : selain y'\n",
    "line2 = 'x'\n",
    "line3 = 'x:'\n",
    "line4 = 'wtf'\n",
    "\n",
    "def cek(line):\n",
    "    if re.search(ex, line):\n",
    "        print('ditemukan')\n",
    "    else:\n",
    "        print('tidakkk')\n",
    "        \n",
    "cek(line1)\n",
    "cek(line2)\n",
    "cek(line3)\n",
    "cek(line4)"
   ]
  },
  {
   "cell_type": "code",
   "execution_count": 7,
   "id": "4e454da0",
   "metadata": {},
   "outputs": [
    {
     "name": "stdout",
     "output_type": "stream",
     "text": [
      "pada kata x-werrr benar \n",
      "pada kata x- hayay salah \n",
      "pada kata x- salah \n",
      "pada kata x-  salah \n",
      "pada kata x-- benar \n"
     ]
    },
    {
     "name": "stderr",
     "output_type": "stream",
     "text": [
      "<>:1: SyntaxWarning: invalid escape sequence '\\S'\n",
      "<>:1: SyntaxWarning: invalid escape sequence '\\S'\n",
      "/tmp/ipykernel_13800/3712198129.py:1: SyntaxWarning: invalid escape sequence '\\S'\n",
      "  ex = 'x-\\S+' # diawali oleh x-diikuti oleh karakter non spasi sebanyak 1 atau lebih\n"
     ]
    }
   ],
   "source": [
    "ex = 'x-\\S+' # diawali oleh x-diikuti oleh karakter non spasi sebanyak 1 atau lebih\n",
    "\n",
    "lines = ['x-werrr', 'x- hayay', 'x-', 'x- ', 'x--']\n",
    "\n",
    "for line in lines:\n",
    "    if re.search(ex, line):\n",
    "        print('pada kata {} benar '.format(line))\n",
    "    else :\n",
    "        print('pada kata {} salah '.format(line))"
   ]
  },
  {
   "cell_type": "code",
   "execution_count": 8,
   "id": "3ee2a392",
   "metadata": {},
   "outputs": [
    {
     "name": "stdout",
     "output_type": "stream",
     "text": [
      "['2']\n",
      "['23', '22']\n",
      "[]\n"
     ]
    }
   ],
   "source": [
    "#menggunakan re.findall() --> return list\n",
    "\n",
    "ex = '[0-9]+' # berarti memuat angka 0 atau 1 atau 2 dst 1 atau lebih digit\n",
    "texts = ['halo nama saya irkham 2', 'what 23 adalag 22', 'yahohohoh']\n",
    "for text in texts:\n",
    "    print(re.findall(ex, text))\n"
   ]
  },
  {
   "cell_type": "code",
   "execution_count": 9,
   "id": "53dc225c",
   "metadata": {},
   "outputs": [
    {
     "name": "stdout",
     "output_type": "stream",
     "text": [
      "['irkham@gmail.com']\n",
      "[]\n",
      "['thoriq@gmail.com', 'khamz@gmail.com']\n"
     ]
    },
    {
     "name": "stderr",
     "output_type": "stream",
     "text": [
      "<>:2: SyntaxWarning: invalid escape sequence '\\S'\n",
      "<>:2: SyntaxWarning: invalid escape sequence '\\S'\n",
      "/tmp/ipykernel_13800/2587339120.py:2: SyntaxWarning: invalid escape sequence '\\S'\n",
      "  exp = '\\S+@\\S+'\n"
     ]
    }
   ],
   "source": [
    "messages = ['ini dari irkham@gmail.com', 'ini dari irkham', 'ini dari thoriq@gmail.com dan khamz@gmail.com']\n",
    "exp = '\\S+@\\S+'\n",
    "\n",
    "for message in messages:\n",
    "    print(re.findall(exp, message))"
   ]
  },
  {
   "cell_type": "code",
   "execution_count": 10,
   "id": "e00d8790",
   "metadata": {},
   "outputs": [
    {
     "name": "stdout",
     "output_type": "stream",
     "text": [
      "['gmail.unnes.ac.id', 'gmail', '']\n"
     ]
    },
    {
     "name": "stderr",
     "output_type": "stream",
     "text": [
      "<>:2: SyntaxWarning: invalid escape sequence '\\S'\n",
      "<>:2: SyntaxWarning: invalid escape sequence '\\S'\n",
      "/tmp/ipykernel_13800/1004513861.py:2: SyntaxWarning: invalid escape sequence '\\S'\n",
      "  print(re.findall('@(\\S*)', nama))\n"
     ]
    }
   ],
   "source": [
    "nama = 'irkham@gmail.unnes.ac.id ja  @gmail adaaha@'\n",
    "print(re.findall('@(\\S*)', nama))"
   ]
  },
  {
   "cell_type": "code",
   "execution_count": 11,
   "id": "6a10e585",
   "metadata": {},
   "outputs": [
    {
     "name": "stdout",
     "output_type": "stream",
     "text": [
      "None\n"
     ]
    }
   ],
   "source": [
    "print(re.search(\"$a\", 'lakua'))"
   ]
  }
 ],
 "metadata": {
  "kernelspec": {
   "display_name": "Python 3 (ipykernel)",
   "language": "python",
   "name": "python3"
  },
  "language_info": {
   "codemirror_mode": {
    "name": "ipython",
    "version": 3
   },
   "file_extension": ".py",
   "mimetype": "text/x-python",
   "name": "python",
   "nbconvert_exporter": "python",
   "pygments_lexer": "ipython3",
   "version": "3.12.0"
  }
 },
 "nbformat": 4,
 "nbformat_minor": 5
}
