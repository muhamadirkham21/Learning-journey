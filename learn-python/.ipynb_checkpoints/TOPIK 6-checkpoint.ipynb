{
 "cells": [
  {
   "cell_type": "code",
   "execution_count": 3,
   "id": "fbc5f8d9",
   "metadata": {},
   "outputs": [],
   "source": [
    "#pendefinisian list, tuple, set, dictionary\n",
    "yonkou = ['shp', 'rhp', 'bbp', 'cg']\n",
    "\n",
    "shp_crew = ('luffy', 'zoro', 'sanji', 'ayang robin', 'nami-swan')\n",
    "\n",
    "rank = {1, 2, 3, 4, 5}\n",
    "\n",
    "pirates = {\n",
    "    'shp' : list(shp_crew),\n",
    "    'rhp' : ['shanks', 'beckman', 'roux', 'yassop', 'lemon juice']\n",
    "}"
   ]
  },
  {
   "cell_type": "code",
   "execution_count": 7,
   "id": "1eb80f4b",
   "metadata": {},
   "outputs": [
    {
     "name": "stdout",
     "output_type": "stream",
     "text": [
      "shp\n",
      "['shp', 'rhp', 'bbp']\n",
      "cg\n",
      "['rhp', 'bbp']\n"
     ]
    }
   ],
   "source": [
    "#slicing\n",
    "print(yonkou[0])\n",
    "print(yonkou[:3])\n",
    "print(yonkou[-1])\n",
    "print(yonkou[1:-1])"
   ]
  },
  {
   "cell_type": "code",
   "execution_count": 48,
   "id": "b424ba55",
   "metadata": {},
   "outputs": [
    {
     "name": "stdout",
     "output_type": "stream",
     "text": [
      "4\n",
      "max rank 5 min rank 1\n"
     ]
    }
   ],
   "source": [
    "#mengetahui panjang data\n",
    "#len()\n",
    "#min() dan max()\n",
    "#sort()\n",
    "\n",
    "print(len(yonkou))\n",
    "rank = list(rank)\n",
    "print('max rank {} min rank {}'.format(max(rank), min(rank)))\n",
    "rank.sort()"
   ]
  },
  {
   "cell_type": "code",
   "execution_count": 10,
   "id": "1ca88ddc",
   "metadata": {},
   "outputs": [
    {
     "name": "stdout",
     "output_type": "stream",
     "text": [
      "2\n"
     ]
    }
   ],
   "source": [
    "#menghitung banyakya suatu elemen\n",
    "new_list = [1, 2, 2, 3, 3, 4, 5]\n",
    "print(new_list.count(2))"
   ]
  },
  {
   "cell_type": "code",
   "execution_count": 12,
   "id": "97f2fdb9",
   "metadata": {},
   "outputs": [
    {
     "name": "stdout",
     "output_type": "stream",
     "text": [
      "True\n",
      "False\n"
     ]
    }
   ],
   "source": [
    "#operator keanggotaan\n",
    "print('shp' in yonkou)\n",
    "print('rhp' not in yonkou)"
   ]
  },
  {
   "cell_type": "code",
   "execution_count": 49,
   "id": "5eb0e194",
   "metadata": {},
   "outputs": [
    {
     "name": "stdout",
     "output_type": "stream",
     "text": [
      "[1, 5, '7']\n",
      "[1, 5]\n",
      "[1, 5]\n"
     ]
    }
   ],
   "source": [
    "#menambahkan dan menghapus item pada list\n",
    "\n",
    "rank.append('7')\n",
    "print(rank)\n",
    "rank.remove('7')\n",
    "print(rank)\n",
    "\n",
    "#insert()\n",
    "rank.insert(1, '7')\n",
    "rank.pop(1)\n",
    "print(rank)"
   ]
  }
 ],
 "metadata": {
  "kernelspec": {
   "display_name": "Python 3 (ipykernel)",
   "language": "python",
   "name": "python3"
  },
  "language_info": {
   "codemirror_mode": {
    "name": "ipython",
    "version": 3
   },
   "file_extension": ".py",
   "mimetype": "text/x-python",
   "name": "python",
   "nbconvert_exporter": "python",
   "pygments_lexer": "ipython3",
   "version": "3.11.3"
  }
 },
 "nbformat": 4,
 "nbformat_minor": 5
}
